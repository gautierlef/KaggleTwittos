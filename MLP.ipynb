{
 "cells": [
  {
   "cell_type": "code",
   "execution_count": 1,
   "metadata": {},
   "outputs": [],
   "source": [
    "%load_ext tensorboard"
   ]
  },
  {
   "cell_type": "code",
   "execution_count": 2,
   "metadata": {},
   "outputs": [],
   "source": [
    "#pip install emot --upgrade"
   ]
  },
  {
   "cell_type": "code",
   "execution_count": 3,
   "metadata": {
    "execution": {
     "iopub.execute_input": "2022-01-30T22:28:56.906434Z",
     "iopub.status.busy": "2022-01-30T22:28:56.905553Z",
     "iopub.status.idle": "2022-01-30T22:28:56.912719Z",
     "shell.execute_reply": "2022-01-30T22:28:56.91171Z",
     "shell.execute_reply.started": "2022-01-30T22:28:56.906383Z"
    }
   },
   "outputs": [],
   "source": [
    "import numpy as np\n",
    "import pandas as pd\n",
    "import re\n",
    "#import emot \n",
    "#from emot import EMOTICONS_EMO\n",
    "import nltk\n",
    "from nltk.stem.porter import PorterStemmer\n",
    "import string\n",
    "from wordcloud import WordCloud, STOPWORDS\n",
    "\n",
    "import matplotlib.pyplot as plt\n",
    "\n",
    "import tensorflow as tf\n",
    "from tensorflow import keras\n",
    "from tensorflow.keras.preprocessing.text import Tokenizer\n",
    "from tensorflow.keras.preprocessing.sequence import pad_sequences\n",
    "import datetime, os"
   ]
  },
  {
   "cell_type": "code",
   "execution_count": 4,
   "metadata": {
    "execution": {
     "iopub.execute_input": "2022-01-30T22:28:56.915429Z",
     "iopub.status.busy": "2022-01-30T22:28:56.915085Z",
     "iopub.status.idle": "2022-01-30T22:28:58.455297Z",
     "shell.execute_reply": "2022-01-30T22:28:58.454237Z",
     "shell.execute_reply.started": "2022-01-30T22:28:56.915385Z"
    }
   },
   "outputs": [],
   "source": [
    "train = pd.read_csv('dataset/train.csv')\n",
    "test = pd.read_csv('dataset/validation_data.csv')\n",
    "target = pd.read_csv('dataset/comments_to_score.csv')\n",
    "sample = pd.read_csv('dataset/sample_submission.csv')"
   ]
  },
  {
   "cell_type": "code",
   "execution_count": 5,
   "metadata": {
    "execution": {
     "iopub.execute_input": "2022-01-30T22:28:58.456685Z",
     "iopub.status.busy": "2022-01-30T22:28:58.456447Z",
     "iopub.status.idle": "2022-01-30T22:28:58.467766Z",
     "shell.execute_reply": "2022-01-30T22:28:58.466928Z",
     "shell.execute_reply.started": "2022-01-30T22:28:58.456658Z"
    }
   },
   "outputs": [
    {
     "data": {
      "text/html": [
       "<div>\n",
       "<style scoped>\n",
       "    .dataframe tbody tr th:only-of-type {\n",
       "        vertical-align: middle;\n",
       "    }\n",
       "\n",
       "    .dataframe tbody tr th {\n",
       "        vertical-align: top;\n",
       "    }\n",
       "\n",
       "    .dataframe thead th {\n",
       "        text-align: right;\n",
       "    }\n",
       "</style>\n",
       "<table border=\"1\" class=\"dataframe\">\n",
       "  <thead>\n",
       "    <tr style=\"text-align: right;\">\n",
       "      <th></th>\n",
       "      <th>id</th>\n",
       "      <th>comment_text</th>\n",
       "      <th>toxic</th>\n",
       "      <th>severe_toxic</th>\n",
       "      <th>obscene</th>\n",
       "      <th>threat</th>\n",
       "      <th>insult</th>\n",
       "      <th>identity_hate</th>\n",
       "    </tr>\n",
       "  </thead>\n",
       "  <tbody>\n",
       "    <tr>\n",
       "      <th>0</th>\n",
       "      <td>0000997932d777bf</td>\n",
       "      <td>Explanation\\nWhy the edits made under my usern...</td>\n",
       "      <td>0</td>\n",
       "      <td>0</td>\n",
       "      <td>0</td>\n",
       "      <td>0</td>\n",
       "      <td>0</td>\n",
       "      <td>0</td>\n",
       "    </tr>\n",
       "    <tr>\n",
       "      <th>1</th>\n",
       "      <td>000103f0d9cfb60f</td>\n",
       "      <td>D'aww! He matches this background colour I'm s...</td>\n",
       "      <td>0</td>\n",
       "      <td>0</td>\n",
       "      <td>0</td>\n",
       "      <td>0</td>\n",
       "      <td>0</td>\n",
       "      <td>0</td>\n",
       "    </tr>\n",
       "    <tr>\n",
       "      <th>2</th>\n",
       "      <td>000113f07ec002fd</td>\n",
       "      <td>Hey man, I'm really not trying to edit war. It...</td>\n",
       "      <td>0</td>\n",
       "      <td>0</td>\n",
       "      <td>0</td>\n",
       "      <td>0</td>\n",
       "      <td>0</td>\n",
       "      <td>0</td>\n",
       "    </tr>\n",
       "    <tr>\n",
       "      <th>3</th>\n",
       "      <td>0001b41b1c6bb37e</td>\n",
       "      <td>\"\\nMore\\nI can't make any real suggestions on ...</td>\n",
       "      <td>0</td>\n",
       "      <td>0</td>\n",
       "      <td>0</td>\n",
       "      <td>0</td>\n",
       "      <td>0</td>\n",
       "      <td>0</td>\n",
       "    </tr>\n",
       "    <tr>\n",
       "      <th>4</th>\n",
       "      <td>0001d958c54c6e35</td>\n",
       "      <td>You, sir, are my hero. Any chance you remember...</td>\n",
       "      <td>0</td>\n",
       "      <td>0</td>\n",
       "      <td>0</td>\n",
       "      <td>0</td>\n",
       "      <td>0</td>\n",
       "      <td>0</td>\n",
       "    </tr>\n",
       "  </tbody>\n",
       "</table>\n",
       "</div>"
      ],
      "text/plain": [
       "                 id                                       comment_text  toxic  \\\n",
       "0  0000997932d777bf  Explanation\\nWhy the edits made under my usern...      0   \n",
       "1  000103f0d9cfb60f  D'aww! He matches this background colour I'm s...      0   \n",
       "2  000113f07ec002fd  Hey man, I'm really not trying to edit war. It...      0   \n",
       "3  0001b41b1c6bb37e  \"\\nMore\\nI can't make any real suggestions on ...      0   \n",
       "4  0001d958c54c6e35  You, sir, are my hero. Any chance you remember...      0   \n",
       "\n",
       "   severe_toxic  obscene  threat  insult  identity_hate  \n",
       "0             0        0       0       0              0  \n",
       "1             0        0       0       0              0  \n",
       "2             0        0       0       0              0  \n",
       "3             0        0       0       0              0  \n",
       "4             0        0       0       0              0  "
      ]
     },
     "execution_count": 5,
     "metadata": {},
     "output_type": "execute_result"
    }
   ],
   "source": [
    "train.head()"
   ]
  },
  {
   "cell_type": "code",
   "execution_count": 6,
   "metadata": {
    "execution": {
     "iopub.execute_input": "2022-01-30T22:28:58.46931Z",
     "iopub.status.busy": "2022-01-30T22:28:58.468963Z",
     "iopub.status.idle": "2022-01-30T22:28:58.495334Z",
     "shell.execute_reply": "2022-01-30T22:28:58.494493Z",
     "shell.execute_reply.started": "2022-01-30T22:28:58.469272Z"
    }
   },
   "outputs": [],
   "source": [
    "train['y'] = train[['toxic','severe_toxic','obscene','threat','insult','identity_hate']].sum(axis=1) > 0\n",
    "train.drop(['toxic','severe_toxic','obscene','threat','insult','identity_hate'], inplace=True, axis=1)"
   ]
  },
  {
   "cell_type": "code",
   "execution_count": 7,
   "metadata": {
    "execution": {
     "iopub.execute_input": "2022-01-30T22:28:58.497661Z",
     "iopub.status.busy": "2022-01-30T22:28:58.497339Z",
     "iopub.status.idle": "2022-01-30T22:28:58.508311Z",
     "shell.execute_reply": "2022-01-30T22:28:58.507331Z",
     "shell.execute_reply.started": "2022-01-30T22:28:58.497627Z"
    }
   },
   "outputs": [
    {
     "data": {
      "text/html": [
       "<div>\n",
       "<style scoped>\n",
       "    .dataframe tbody tr th:only-of-type {\n",
       "        vertical-align: middle;\n",
       "    }\n",
       "\n",
       "    .dataframe tbody tr th {\n",
       "        vertical-align: top;\n",
       "    }\n",
       "\n",
       "    .dataframe thead th {\n",
       "        text-align: right;\n",
       "    }\n",
       "</style>\n",
       "<table border=\"1\" class=\"dataframe\">\n",
       "  <thead>\n",
       "    <tr style=\"text-align: right;\">\n",
       "      <th></th>\n",
       "      <th>id</th>\n",
       "      <th>comment_text</th>\n",
       "      <th>y</th>\n",
       "    </tr>\n",
       "  </thead>\n",
       "  <tbody>\n",
       "    <tr>\n",
       "      <th>0</th>\n",
       "      <td>0000997932d777bf</td>\n",
       "      <td>Explanation\\nWhy the edits made under my usern...</td>\n",
       "      <td>False</td>\n",
       "    </tr>\n",
       "    <tr>\n",
       "      <th>1</th>\n",
       "      <td>000103f0d9cfb60f</td>\n",
       "      <td>D'aww! He matches this background colour I'm s...</td>\n",
       "      <td>False</td>\n",
       "    </tr>\n",
       "    <tr>\n",
       "      <th>2</th>\n",
       "      <td>000113f07ec002fd</td>\n",
       "      <td>Hey man, I'm really not trying to edit war. It...</td>\n",
       "      <td>False</td>\n",
       "    </tr>\n",
       "    <tr>\n",
       "      <th>3</th>\n",
       "      <td>0001b41b1c6bb37e</td>\n",
       "      <td>\"\\nMore\\nI can't make any real suggestions on ...</td>\n",
       "      <td>False</td>\n",
       "    </tr>\n",
       "    <tr>\n",
       "      <th>4</th>\n",
       "      <td>0001d958c54c6e35</td>\n",
       "      <td>You, sir, are my hero. Any chance you remember...</td>\n",
       "      <td>False</td>\n",
       "    </tr>\n",
       "  </tbody>\n",
       "</table>\n",
       "</div>"
      ],
      "text/plain": [
       "                 id                                       comment_text      y\n",
       "0  0000997932d777bf  Explanation\\nWhy the edits made under my usern...  False\n",
       "1  000103f0d9cfb60f  D'aww! He matches this background colour I'm s...  False\n",
       "2  000113f07ec002fd  Hey man, I'm really not trying to edit war. It...  False\n",
       "3  0001b41b1c6bb37e  \"\\nMore\\nI can't make any real suggestions on ...  False\n",
       "4  0001d958c54c6e35  You, sir, are my hero. Any chance you remember...  False"
      ]
     },
     "execution_count": 7,
     "metadata": {},
     "output_type": "execute_result"
    }
   ],
   "source": [
    "train.head()"
   ]
  },
  {
   "cell_type": "code",
   "execution_count": 8,
   "metadata": {
    "execution": {
     "iopub.execute_input": "2022-01-30T22:28:58.510663Z",
     "iopub.status.busy": "2022-01-30T22:28:58.509661Z",
     "iopub.status.idle": "2022-01-30T22:28:58.524063Z",
     "shell.execute_reply": "2022-01-30T22:28:58.522824Z",
     "shell.execute_reply.started": "2022-01-30T22:28:58.510594Z"
    }
   },
   "outputs": [
    {
     "data": {
      "text/plain": [
       "array([False,  True])"
      ]
     },
     "execution_count": 8,
     "metadata": {},
     "output_type": "execute_result"
    }
   ],
   "source": [
    "train.y.unique()"
   ]
  },
  {
   "cell_type": "code",
   "execution_count": 9,
   "metadata": {
    "execution": {
     "iopub.execute_input": "2022-01-30T22:28:58.527449Z",
     "iopub.status.busy": "2022-01-30T22:28:58.525551Z",
     "iopub.status.idle": "2022-01-30T22:28:58.671444Z",
     "shell.execute_reply": "2022-01-30T22:28:58.670431Z",
     "shell.execute_reply.started": "2022-01-30T22:28:58.527397Z"
    }
   },
   "outputs": [
    {
     "data": {
      "text/plain": [
       "<AxesSubplot:>"
      ]
     },
     "execution_count": 9,
     "metadata": {},
     "output_type": "execute_result"
    },
    {
     "data": {
      "image/png": "[encoded data removed]",
      "text/plain": [
       "<Figure size 432x288 with 1 Axes>"
      ]
     },
     "metadata": {
      "needs_background": "light"
     },
     "output_type": "display_data"
    }
   ],
   "source": [
    "train.y.value_counts().plot(kind='barh')"
   ]
  },
  {
   "cell_type": "code",
   "execution_count": 10,
   "metadata": {
    "execution": {
     "iopub.execute_input": "2022-01-30T22:28:58.674424Z",
     "iopub.status.busy": "2022-01-30T22:28:58.673665Z",
     "iopub.status.idle": "2022-01-30T22:28:58.686945Z",
     "shell.execute_reply": "2022-01-30T22:28:58.686395Z",
     "shell.execute_reply.started": "2022-01-30T22:28:58.674376Z"
    }
   },
   "outputs": [
    {
     "data": {
      "text/plain": [
       "16225"
      ]
     },
     "execution_count": 10,
     "metadata": {},
     "output_type": "execute_result"
    }
   ],
   "source": [
    "count_of_toxic_comments =  train[train.y != 0].shape[0]\n",
    "count_of_toxic_comments"
   ]
  },
  {
   "cell_type": "code",
   "execution_count": 11,
   "metadata": {
    "execution": {
     "iopub.execute_input": "2022-01-30T22:28:58.690441Z",
     "iopub.status.busy": "2022-01-30T22:28:58.688203Z",
     "iopub.status.idle": "2022-01-30T22:28:58.723946Z",
     "shell.execute_reply": "2022-01-30T22:28:58.723255Z",
     "shell.execute_reply.started": "2022-01-30T22:28:58.690382Z"
    }
   },
   "outputs": [],
   "source": [
    "train_toxic = train[train.y != 0]\n",
    "train_non_toxic = train[train.y == 0].sample(count_of_toxic_comments)"
   ]
  },
  {
   "cell_type": "code",
   "execution_count": 12,
   "metadata": {
    "execution": {
     "iopub.execute_input": "2022-01-30T22:28:58.725816Z",
     "iopub.status.busy": "2022-01-30T22:28:58.725507Z",
     "iopub.status.idle": "2022-01-30T22:28:58.74402Z",
     "shell.execute_reply": "2022-01-30T22:28:58.742868Z",
     "shell.execute_reply.started": "2022-01-30T22:28:58.725776Z"
    }
   },
   "outputs": [
    {
     "data": {
      "text/html": [
       "<div>\n",
       "<style scoped>\n",
       "    .dataframe tbody tr th:only-of-type {\n",
       "        vertical-align: middle;\n",
       "    }\n",
       "\n",
       "    .dataframe tbody tr th {\n",
       "        vertical-align: top;\n",
       "    }\n",
       "\n",
       "    .dataframe thead th {\n",
       "        text-align: right;\n",
       "    }\n",
       "</style>\n",
       "<table border=\"1\" class=\"dataframe\">\n",
       "  <thead>\n",
       "    <tr style=\"text-align: right;\">\n",
       "      <th></th>\n",
       "      <th>id</th>\n",
       "      <th>comment_text</th>\n",
       "      <th>y</th>\n",
       "    </tr>\n",
       "  </thead>\n",
       "  <tbody>\n",
       "    <tr>\n",
       "      <th>6</th>\n",
       "      <td>0002bcb3da6cb337</td>\n",
       "      <td>COCKSUCKER BEFORE YOU PISS AROUND ON MY WORK</td>\n",
       "      <td>True</td>\n",
       "    </tr>\n",
       "    <tr>\n",
       "      <th>12</th>\n",
       "      <td>0005c987bdfc9d4b</td>\n",
       "      <td>Hey... what is it..\\n@ | talk .\\nWhat is it......</td>\n",
       "      <td>True</td>\n",
       "    </tr>\n",
       "    <tr>\n",
       "      <th>16</th>\n",
       "      <td>0007e25b2121310b</td>\n",
       "      <td>Bye! \\n\\nDon't look, come or think of comming ...</td>\n",
       "      <td>True</td>\n",
       "    </tr>\n",
       "    <tr>\n",
       "      <th>42</th>\n",
       "      <td>001810bf8c45bf5f</td>\n",
       "      <td>You are gay or antisemmitian? \\n\\nArchangel WH...</td>\n",
       "      <td>True</td>\n",
       "    </tr>\n",
       "    <tr>\n",
       "      <th>43</th>\n",
       "      <td>00190820581d90ce</td>\n",
       "      <td>FUCK YOUR FILTHY MOTHER IN THE ASS, DRY!</td>\n",
       "      <td>True</td>\n",
       "    </tr>\n",
       "    <tr>\n",
       "      <th>...</th>\n",
       "      <td>...</td>\n",
       "      <td>...</td>\n",
       "      <td>...</td>\n",
       "    </tr>\n",
       "    <tr>\n",
       "      <th>50180</th>\n",
       "      <td>861f542e3a4bb53a</td>\n",
       "      <td>\"::You're right.  I wish there was more of an ...</td>\n",
       "      <td>False</td>\n",
       "    </tr>\n",
       "    <tr>\n",
       "      <th>144161</th>\n",
       "      <td>08af65d6f113de00</td>\n",
       "      <td>I have added all the additional information fr...</td>\n",
       "      <td>False</td>\n",
       "    </tr>\n",
       "    <tr>\n",
       "      <th>128764</th>\n",
       "      <td>b0a46912dbde827c</td>\n",
       "      <td>Woot: Go Terry, score some more goals buddy, y...</td>\n",
       "      <td>False</td>\n",
       "    </tr>\n",
       "    <tr>\n",
       "      <th>78347</th>\n",
       "      <td>d1a567c71345a4c5</td>\n",
       "      <td>kushwaha \\nI respect your dalit activism. Howe...</td>\n",
       "      <td>False</td>\n",
       "    </tr>\n",
       "    <tr>\n",
       "      <th>107510</th>\n",
       "      <td>3ec5181161541ce0</td>\n",
       "      <td>\"\\nSorry to hear that you was blocked for the ...</td>\n",
       "      <td>False</td>\n",
       "    </tr>\n",
       "  </tbody>\n",
       "</table>\n",
       "<p>32450 rows × 3 columns</p>\n",
       "</div>"
      ],
      "text/plain": [
       "                      id                                       comment_text  \\\n",
       "6       0002bcb3da6cb337       COCKSUCKER BEFORE YOU PISS AROUND ON MY WORK   \n",
       "12      0005c987bdfc9d4b  Hey... what is it..\\n@ | talk .\\nWhat is it......   \n",
       "16      0007e25b2121310b  Bye! \\n\\nDon't look, come or think of comming ...   \n",
       "42      001810bf8c45bf5f  You are gay or antisemmitian? \\n\\nArchangel WH...   \n",
       "43      00190820581d90ce           FUCK YOUR FILTHY MOTHER IN THE ASS, DRY!   \n",
       "...                  ...                                                ...   \n",
       "50180   861f542e3a4bb53a  \"::You're right.  I wish there was more of an ...   \n",
       "144161  08af65d6f113de00  I have added all the additional information fr...   \n",
       "128764  b0a46912dbde827c  Woot: Go Terry, score some more goals buddy, y...   \n",
       "78347   d1a567c71345a4c5  kushwaha \\nI respect your dalit activism. Howe...   \n",
       "107510  3ec5181161541ce0  \"\\nSorry to hear that you was blocked for the ...   \n",
       "\n",
       "            y  \n",
       "6        True  \n",
       "12       True  \n",
       "16       True  \n",
       "42       True  \n",
       "43       True  \n",
       "...       ...  \n",
       "50180   False  \n",
       "144161  False  \n",
       "128764  False  \n",
       "78347   False  \n",
       "107510  False  \n",
       "\n",
       "[32450 rows x 3 columns]"
      ]
     },
     "execution_count": 12,
     "metadata": {},
     "output_type": "execute_result"
    }
   ],
   "source": [
    "df = pd.concat([train_toxic, train_non_toxic])\n",
    "df"
   ]
  },
  {
   "cell_type": "code",
   "execution_count": 13,
   "metadata": {
    "execution": {
     "iopub.execute_input": "2022-01-30T22:28:58.746028Z",
     "iopub.status.busy": "2022-01-30T22:28:58.745444Z",
     "iopub.status.idle": "2022-01-30T22:28:58.888219Z",
     "shell.execute_reply": "2022-01-30T22:28:58.8873Z",
     "shell.execute_reply.started": "2022-01-30T22:28:58.745981Z"
    }
   },
   "outputs": [
    {
     "data": {
      "text/plain": [
       "<AxesSubplot:>"
      ]
     },
     "execution_count": 13,
     "metadata": {},
     "output_type": "execute_result"
    },
    {
     "data": {
      "image/png": "[encoded data removed]",
      "text/plain": [
       "<Figure size 432x288 with 1 Axes>"
      ]
     },
     "metadata": {
      "needs_background": "light"
     },
     "output_type": "display_data"
    }
   ],
   "source": [
    "df.y.value_counts().plot(kind='barh')"
   ]
  },
  {
   "cell_type": "code",
   "execution_count": 14,
   "metadata": {
    "execution": {
     "iopub.execute_input": "2022-01-30T22:28:58.890042Z",
     "iopub.status.busy": "2022-01-30T22:28:58.889648Z",
     "iopub.status.idle": "2022-01-30T22:29:01.4791Z",
     "shell.execute_reply": "2022-01-30T22:29:01.478213Z",
     "shell.execute_reply.started": "2022-01-30T22:28:58.889992Z"
    }
   },
   "outputs": [
    {
     "data": {
      "text/html": [
       "<div>\n",
       "<style scoped>\n",
       "    .dataframe tbody tr th:only-of-type {\n",
       "        vertical-align: middle;\n",
       "    }\n",
       "\n",
       "    .dataframe tbody tr th {\n",
       "        vertical-align: top;\n",
       "    }\n",
       "\n",
       "    .dataframe thead th {\n",
       "        text-align: right;\n",
       "    }\n",
       "</style>\n",
       "<table border=\"1\" class=\"dataframe\">\n",
       "  <thead>\n",
       "    <tr style=\"text-align: right;\">\n",
       "      <th></th>\n",
       "      <th>id</th>\n",
       "      <th>comment_text</th>\n",
       "      <th>y</th>\n",
       "      <th>word_count</th>\n",
       "      <th>unique_word_count</th>\n",
       "      <th>stop_word_count</th>\n",
       "      <th>mean_word_length</th>\n",
       "      <th>char_count</th>\n",
       "      <th>punctuation_count</th>\n",
       "    </tr>\n",
       "  </thead>\n",
       "  <tbody>\n",
       "    <tr>\n",
       "      <th>50180</th>\n",
       "      <td>861f542e3a4bb53a</td>\n",
       "      <td>\"::You're right.  I wish there was more of an ...</td>\n",
       "      <td>False</td>\n",
       "      <td>69</td>\n",
       "      <td>54</td>\n",
       "      <td>38</td>\n",
       "      <td>4.434783</td>\n",
       "      <td>381</td>\n",
       "      <td>19</td>\n",
       "    </tr>\n",
       "    <tr>\n",
       "      <th>144161</th>\n",
       "      <td>08af65d6f113de00</td>\n",
       "      <td>I have added all the additional information fr...</td>\n",
       "      <td>False</td>\n",
       "      <td>35</td>\n",
       "      <td>26</td>\n",
       "      <td>15</td>\n",
       "      <td>4.200000</td>\n",
       "      <td>181</td>\n",
       "      <td>4</td>\n",
       "    </tr>\n",
       "    <tr>\n",
       "      <th>128764</th>\n",
       "      <td>b0a46912dbde827c</td>\n",
       "      <td>Woot: Go Terry, score some more goals buddy, y...</td>\n",
       "      <td>False</td>\n",
       "      <td>22</td>\n",
       "      <td>22</td>\n",
       "      <td>7</td>\n",
       "      <td>4.545455</td>\n",
       "      <td>121</td>\n",
       "      <td>6</td>\n",
       "    </tr>\n",
       "    <tr>\n",
       "      <th>78347</th>\n",
       "      <td>d1a567c71345a4c5</td>\n",
       "      <td>kushwaha \\nI respect your dalit activism. Howe...</td>\n",
       "      <td>False</td>\n",
       "      <td>51</td>\n",
       "      <td>47</td>\n",
       "      <td>23</td>\n",
       "      <td>4.862745</td>\n",
       "      <td>299</td>\n",
       "      <td>5</td>\n",
       "    </tr>\n",
       "    <tr>\n",
       "      <th>107510</th>\n",
       "      <td>3ec5181161541ce0</td>\n",
       "      <td>\"\\nSorry to hear that you was blocked for the ...</td>\n",
       "      <td>False</td>\n",
       "      <td>18</td>\n",
       "      <td>17</td>\n",
       "      <td>9</td>\n",
       "      <td>4.055556</td>\n",
       "      <td>91</td>\n",
       "      <td>5</td>\n",
       "    </tr>\n",
       "  </tbody>\n",
       "</table>\n",
       "</div>"
      ],
      "text/plain": [
       "                      id                                       comment_text  \\\n",
       "50180   861f542e3a4bb53a  \"::You're right.  I wish there was more of an ...   \n",
       "144161  08af65d6f113de00  I have added all the additional information fr...   \n",
       "128764  b0a46912dbde827c  Woot: Go Terry, score some more goals buddy, y...   \n",
       "78347   d1a567c71345a4c5  kushwaha \\nI respect your dalit activism. Howe...   \n",
       "107510  3ec5181161541ce0  \"\\nSorry to hear that you was blocked for the ...   \n",
       "\n",
       "            y  word_count  unique_word_count  stop_word_count  \\\n",
       "50180   False          69                 54               38   \n",
       "144161  False          35                 26               15   \n",
       "128764  False          22                 22                7   \n",
       "78347   False          51                 47               23   \n",
       "107510  False          18                 17                9   \n",
       "\n",
       "        mean_word_length  char_count  punctuation_count  \n",
       "50180           4.434783         381                 19  \n",
       "144161          4.200000         181                  4  \n",
       "128764          4.545455         121                  6  \n",
       "78347           4.862745         299                  5  \n",
       "107510          4.055556          91                  5  "
      ]
     },
     "execution_count": 14,
     "metadata": {},
     "output_type": "execute_result"
    }
   ],
   "source": [
    "# word_count\n",
    "df['word_count'] = df['comment_text'].apply(lambda x: len(str(x).split()))\n",
    "\n",
    "# unique_word_count\n",
    "df['unique_word_count'] = df['comment_text'].apply(lambda x: len(set(str(x).split())))\n",
    "\n",
    "# stop_word_count\n",
    "df['stop_word_count'] = df['comment_text'].apply(lambda x: len([w for w in str(x).lower().split() if w in STOPWORDS]))\n",
    "\n",
    "# mean_word_length\n",
    "df['mean_word_length'] = df['comment_text'].apply(lambda x: np.mean([len(w) for w in str(x).split()]))\n",
    "\n",
    "# char_count\n",
    "df['char_count'] = df['comment_text'].apply(lambda x: len(str(x)))\n",
    "\n",
    "# punctuation_count\n",
    "df['punctuation_count'] = df['comment_text'].apply(lambda x: len([c for c in str(x) if c in string.punctuation]))\n",
    "    \n",
    "df.tail()"
   ]
  },
  {
   "cell_type": "code",
   "execution_count": 15,
   "metadata": {},
   "outputs": [],
   "source": [
    "# #Spelling correction\n",
    "# from spellchecker import SpellChecker\n",
    "\n",
    "# spell = SpellChecker()\n",
    "# def correct_spellings(text):\n",
    "#     corrected_text = []\n",
    "# #     misspelled_words = spell.unknown(text.split())\n",
    "#     for word in text.split():\n",
    "#         if word in misspelled_words:\n",
    "#             corrected_text.append(spell.correction(word))\n",
    "#         else:\n",
    "#             corrected_text.append(word)\n",
    "#     return \" \".join(corrected_text)\n",
    "\n",
    "# df[\"comment_text\"]= df[\"comment_text\"].apply(correct_spellings)"
   ]
  },
  {
   "cell_type": "code",
   "execution_count": 16,
   "metadata": {
    "execution": {
     "iopub.execute_input": "2022-01-30T22:29:01.498698Z",
     "iopub.status.busy": "2022-01-30T22:29:01.498455Z",
     "iopub.status.idle": "2022-01-30T22:29:01.537656Z",
     "shell.execute_reply": "2022-01-30T22:29:01.536646Z",
     "shell.execute_reply.started": "2022-01-30T22:29:01.498671Z"
    }
   },
   "outputs": [
    {
     "data": {
      "text/html": [
       "<div>\n",
       "<style scoped>\n",
       "    .dataframe tbody tr th:only-of-type {\n",
       "        vertical-align: middle;\n",
       "    }\n",
       "\n",
       "    .dataframe tbody tr th {\n",
       "        vertical-align: top;\n",
       "    }\n",
       "\n",
       "    .dataframe thead th {\n",
       "        text-align: right;\n",
       "    }\n",
       "</style>\n",
       "<table border=\"1\" class=\"dataframe\">\n",
       "  <thead>\n",
       "    <tr style=\"text-align: right;\">\n",
       "      <th></th>\n",
       "      <th>word_count</th>\n",
       "      <th>unique_word_count</th>\n",
       "      <th>stop_word_count</th>\n",
       "      <th>mean_word_length</th>\n",
       "      <th>char_count</th>\n",
       "      <th>punctuation_count</th>\n",
       "    </tr>\n",
       "  </thead>\n",
       "  <tbody>\n",
       "    <tr>\n",
       "      <th>count</th>\n",
       "      <td>32450.000000</td>\n",
       "      <td>32450.000000</td>\n",
       "      <td>32450.000000</td>\n",
       "      <td>32450.000000</td>\n",
       "      <td>32450.000000</td>\n",
       "      <td>32450.000000</td>\n",
       "    </tr>\n",
       "    <tr>\n",
       "      <th>mean</th>\n",
       "      <td>61.205362</td>\n",
       "      <td>41.807026</td>\n",
       "      <td>27.648197</td>\n",
       "      <td>5.034995</td>\n",
       "      <td>356.342866</td>\n",
       "      <td>15.438767</td>\n",
       "    </tr>\n",
       "    <tr>\n",
       "      <th>std</th>\n",
       "      <td>103.033547</td>\n",
       "      <td>49.857923</td>\n",
       "      <td>46.836112</td>\n",
       "      <td>15.123255</td>\n",
       "      <td>606.673513</td>\n",
       "      <td>62.885901</td>\n",
       "    </tr>\n",
       "    <tr>\n",
       "      <th>min</th>\n",
       "      <td>1.000000</td>\n",
       "      <td>1.000000</td>\n",
       "      <td>0.000000</td>\n",
       "      <td>1.000000</td>\n",
       "      <td>6.000000</td>\n",
       "      <td>0.000000</td>\n",
       "    </tr>\n",
       "    <tr>\n",
       "      <th>25%</th>\n",
       "      <td>14.000000</td>\n",
       "      <td>13.000000</td>\n",
       "      <td>6.000000</td>\n",
       "      <td>4.214286</td>\n",
       "      <td>77.000000</td>\n",
       "      <td>3.000000</td>\n",
       "    </tr>\n",
       "    <tr>\n",
       "      <th>50%</th>\n",
       "      <td>30.000000</td>\n",
       "      <td>26.000000</td>\n",
       "      <td>14.000000</td>\n",
       "      <td>4.608696</td>\n",
       "      <td>170.000000</td>\n",
       "      <td>7.000000</td>\n",
       "    </tr>\n",
       "    <tr>\n",
       "      <th>75%</th>\n",
       "      <td>65.000000</td>\n",
       "      <td>51.000000</td>\n",
       "      <td>31.000000</td>\n",
       "      <td>5.038370</td>\n",
       "      <td>373.000000</td>\n",
       "      <td>15.000000</td>\n",
       "    </tr>\n",
       "    <tr>\n",
       "      <th>max</th>\n",
       "      <td>1411.000000</td>\n",
       "      <td>816.000000</td>\n",
       "      <td>902.000000</td>\n",
       "      <td>1655.000000</td>\n",
       "      <td>5000.000000</td>\n",
       "      <td>4942.000000</td>\n",
       "    </tr>\n",
       "  </tbody>\n",
       "</table>\n",
       "</div>"
      ],
      "text/plain": [
       "         word_count  unique_word_count  stop_word_count  mean_word_length  \\\n",
       "count  32450.000000       32450.000000     32450.000000      32450.000000   \n",
       "mean      61.205362          41.807026        27.648197          5.034995   \n",
       "std      103.033547          49.857923        46.836112         15.123255   \n",
       "min        1.000000           1.000000         0.000000          1.000000   \n",
       "25%       14.000000          13.000000         6.000000          4.214286   \n",
       "50%       30.000000          26.000000        14.000000          4.608696   \n",
       "75%       65.000000          51.000000        31.000000          5.038370   \n",
       "max     1411.000000         816.000000       902.000000       1655.000000   \n",
       "\n",
       "         char_count  punctuation_count  \n",
       "count  32450.000000       32450.000000  \n",
       "mean     356.342866          15.438767  \n",
       "std      606.673513          62.885901  \n",
       "min        6.000000           0.000000  \n",
       "25%       77.000000           3.000000  \n",
       "50%      170.000000           7.000000  \n",
       "75%      373.000000          15.000000  \n",
       "max     5000.000000        4942.000000  "
      ]
     },
     "execution_count": 16,
     "metadata": {},
     "output_type": "execute_result"
    }
   ],
   "source": [
    "df.describe()"
   ]
  },
  {
   "cell_type": "code",
   "execution_count": 17,
   "metadata": {
    "execution": {
     "iopub.execute_input": "2022-01-30T22:29:01.548215Z",
     "iopub.status.busy": "2022-01-30T22:29:01.547955Z",
     "iopub.status.idle": "2022-01-30T22:29:02.289853Z",
     "shell.execute_reply": "2022-01-30T22:29:02.289157Z",
     "shell.execute_reply.started": "2022-01-30T22:29:01.548188Z"
    }
   },
   "outputs": [],
   "source": [
    "# Remove stopwords & convert to lower case\n",
    "#df['comment_text'] = df['comment_text'].apply(lambda text: remove_stopwords(text))\n",
    "df['comment_text'] = df['comment_text'].apply(lambda x: ' '.join([w for w in str(x).lower().split() if w not in STOPWORDS]))"
   ]
  },
  {
   "cell_type": "code",
   "execution_count": 18,
   "metadata": {},
   "outputs": [
    {
     "name": "stderr",
     "output_type": "stream",
     "text": [
      "<ipython-input-18-188543086b1c>:2: FutureWarning: The default value of regex will change from True to False in a future version.\n",
      "  df[\"comment_text\"] = df['comment_text'].str.replace('[^\\w\\s]','')\n"
     ]
    }
   ],
   "source": [
    "# Remove Punctuations\n",
    "df[\"comment_text\"] = df['comment_text'].str.replace('[^\\w\\s]','')"
   ]
  },
  {
   "cell_type": "code",
   "execution_count": 19,
   "metadata": {},
   "outputs": [
    {
     "data": {
      "text/html": [
       "<div>\n",
       "<style scoped>\n",
       "    .dataframe tbody tr th:only-of-type {\n",
       "        vertical-align: middle;\n",
       "    }\n",
       "\n",
       "    .dataframe tbody tr th {\n",
       "        vertical-align: top;\n",
       "    }\n",
       "\n",
       "    .dataframe thead th {\n",
       "        text-align: right;\n",
       "    }\n",
       "</style>\n",
       "<table border=\"1\" class=\"dataframe\">\n",
       "  <thead>\n",
       "    <tr style=\"text-align: right;\">\n",
       "      <th></th>\n",
       "      <th>id</th>\n",
       "      <th>comment_text</th>\n",
       "      <th>y</th>\n",
       "      <th>word_count</th>\n",
       "      <th>unique_word_count</th>\n",
       "      <th>stop_word_count</th>\n",
       "      <th>mean_word_length</th>\n",
       "      <th>char_count</th>\n",
       "      <th>punctuation_count</th>\n",
       "    </tr>\n",
       "  </thead>\n",
       "  <tbody>\n",
       "    <tr>\n",
       "      <th>50180</th>\n",
       "      <td>861f542e3a4bb53a</td>\n",
       "      <td>youre right wish effort people include correct...</td>\n",
       "      <td>False</td>\n",
       "      <td>30</td>\n",
       "      <td>29</td>\n",
       "      <td>2</td>\n",
       "      <td>6.133333</td>\n",
       "      <td>214</td>\n",
       "      <td>0</td>\n",
       "    </tr>\n",
       "    <tr>\n",
       "      <th>144161</th>\n",
       "      <td>08af65d6f113de00</td>\n",
       "      <td>added additional information santa rosa beni p...</td>\n",
       "      <td>False</td>\n",
       "      <td>20</td>\n",
       "      <td>13</td>\n",
       "      <td>1</td>\n",
       "      <td>5.000000</td>\n",
       "      <td>119</td>\n",
       "      <td>0</td>\n",
       "    </tr>\n",
       "    <tr>\n",
       "      <th>128764</th>\n",
       "      <td>b0a46912dbde827c</td>\n",
       "      <td>woot go terry score goals buddy better way pla...</td>\n",
       "      <td>False</td>\n",
       "      <td>15</td>\n",
       "      <td>15</td>\n",
       "      <td>0</td>\n",
       "      <td>4.666667</td>\n",
       "      <td>84</td>\n",
       "      <td>0</td>\n",
       "    </tr>\n",
       "    <tr>\n",
       "      <th>78347</th>\n",
       "      <td>d1a567c71345a4c5</td>\n",
       "      <td>kushwaha respect dalit activism kushwaha neith...</td>\n",
       "      <td>False</td>\n",
       "      <td>28</td>\n",
       "      <td>26</td>\n",
       "      <td>1</td>\n",
       "      <td>6.214286</td>\n",
       "      <td>201</td>\n",
       "      <td>0</td>\n",
       "    </tr>\n",
       "    <tr>\n",
       "      <th>107510</th>\n",
       "      <td>3ec5181161541ce0</td>\n",
       "      <td>sorry hear blocked time guy v4711 victortalk</td>\n",
       "      <td>False</td>\n",
       "      <td>7</td>\n",
       "      <td>7</td>\n",
       "      <td>0</td>\n",
       "      <td>5.428571</td>\n",
       "      <td>46</td>\n",
       "      <td>0</td>\n",
       "    </tr>\n",
       "  </tbody>\n",
       "</table>\n",
       "</div>"
      ],
      "text/plain": [
       "                      id                                       comment_text  \\\n",
       "50180   861f542e3a4bb53a  youre right wish effort people include correct...   \n",
       "144161  08af65d6f113de00  added additional information santa rosa beni p...   \n",
       "128764  b0a46912dbde827c  woot go terry score goals buddy better way pla...   \n",
       "78347   d1a567c71345a4c5  kushwaha respect dalit activism kushwaha neith...   \n",
       "107510  3ec5181161541ce0      sorry hear blocked time guy v4711 victortalk    \n",
       "\n",
       "            y  word_count  unique_word_count  stop_word_count  \\\n",
       "50180   False          30                 29                2   \n",
       "144161  False          20                 13                1   \n",
       "128764  False          15                 15                0   \n",
       "78347   False          28                 26                1   \n",
       "107510  False           7                  7                0   \n",
       "\n",
       "        mean_word_length  char_count  punctuation_count  \n",
       "50180           6.133333         214                  0  \n",
       "144161          5.000000         119                  0  \n",
       "128764          4.666667          84                  0  \n",
       "78347           6.214286         201                  0  \n",
       "107510          5.428571          46                  0  "
      ]
     },
     "execution_count": 19,
     "metadata": {},
     "output_type": "execute_result"
    }
   ],
   "source": [
    "# word_count\n",
    "df['word_count'] = df['comment_text'].apply(lambda x: len(str(x).split()))\n",
    "\n",
    "# unique_word_count\n",
    "df['unique_word_count'] = df['comment_text'].apply(lambda x: len(set(str(x).split())))\n",
    "\n",
    "# stop_word_count\n",
    "df['stop_word_count'] = df['comment_text'].apply(lambda x: len([w for w in str(x).lower().split() if w in STOPWORDS]))\n",
    "\n",
    "# mean_word_length\n",
    "df['mean_word_length'] = df['comment_text'].apply(lambda x: np.mean([len(w) for w in str(x).split()]))\n",
    "\n",
    "# char_count\n",
    "df['char_count'] = df['comment_text'].apply(lambda x: len(str(x)))\n",
    "\n",
    "# punctuation_count\n",
    "df['punctuation_count'] = df['comment_text'].apply(lambda x: len([c for c in str(x) if c in string.punctuation]))\n",
    "    \n",
    "df.tail()"
   ]
  },
  {
   "cell_type": "code",
   "execution_count": 20,
   "metadata": {},
   "outputs": [],
   "source": [
    "#Removal of emojis"
   ]
  },
  {
   "cell_type": "code",
   "execution_count": 21,
   "metadata": {},
   "outputs": [],
   "source": [
    "def remove_emoji(string):\n",
    "    emoji_pattern = re.compile(\"[\"\n",
    "                           u\"\\U0001F600-\\U0001F64F\"  # emoticons\n",
    "                           u\"\\U0001F300-\\U0001F5FF\"  # symbols & pictographs\n",
    "                           u\"\\U0001F680-\\U0001F6FF\"  # transport & map symbols\n",
    "                           u\"\\U0001F1E0-\\U0001F1FF\"  # flags (iOS)\n",
    "                           u\"\\U00002702-\\U000027B0\"\n",
    "                           u\"\\U000024C2-\\U0001F251\"\n",
    "                           \"]+\", flags=re.UNICODE)\n",
    "    return emoji_pattern.sub(r'', string)\n",
    "\n",
    "df[\"comment_text\"]= df[\"comment_text\"].apply(lambda string : remove_emoji(string))"
   ]
  },
  {
   "cell_type": "code",
   "execution_count": 22,
   "metadata": {
    "scrolled": true
   },
   "outputs": [
    {
     "data": {
      "text/html": [
       "<div>\n",
       "<style scoped>\n",
       "    .dataframe tbody tr th:only-of-type {\n",
       "        vertical-align: middle;\n",
       "    }\n",
       "\n",
       "    .dataframe tbody tr th {\n",
       "        vertical-align: top;\n",
       "    }\n",
       "\n",
       "    .dataframe thead th {\n",
       "        text-align: right;\n",
       "    }\n",
       "</style>\n",
       "<table border=\"1\" class=\"dataframe\">\n",
       "  <thead>\n",
       "    <tr style=\"text-align: right;\">\n",
       "      <th></th>\n",
       "      <th>id</th>\n",
       "      <th>comment_text</th>\n",
       "      <th>y</th>\n",
       "      <th>word_count</th>\n",
       "      <th>unique_word_count</th>\n",
       "      <th>stop_word_count</th>\n",
       "      <th>mean_word_length</th>\n",
       "      <th>char_count</th>\n",
       "      <th>punctuation_count</th>\n",
       "    </tr>\n",
       "  </thead>\n",
       "  <tbody>\n",
       "    <tr>\n",
       "      <th>50180</th>\n",
       "      <td>861f542e3a4bb53a</td>\n",
       "      <td>youre right wish effort people include correct...</td>\n",
       "      <td>False</td>\n",
       "      <td>30</td>\n",
       "      <td>29</td>\n",
       "      <td>2</td>\n",
       "      <td>6.133333</td>\n",
       "      <td>214</td>\n",
       "      <td>0</td>\n",
       "    </tr>\n",
       "    <tr>\n",
       "      <th>144161</th>\n",
       "      <td>08af65d6f113de00</td>\n",
       "      <td>added additional information santa rosa beni p...</td>\n",
       "      <td>False</td>\n",
       "      <td>20</td>\n",
       "      <td>13</td>\n",
       "      <td>1</td>\n",
       "      <td>5.000000</td>\n",
       "      <td>119</td>\n",
       "      <td>0</td>\n",
       "    </tr>\n",
       "    <tr>\n",
       "      <th>128764</th>\n",
       "      <td>b0a46912dbde827c</td>\n",
       "      <td>woot go terry score goals buddy better way pla...</td>\n",
       "      <td>False</td>\n",
       "      <td>15</td>\n",
       "      <td>15</td>\n",
       "      <td>0</td>\n",
       "      <td>4.666667</td>\n",
       "      <td>84</td>\n",
       "      <td>0</td>\n",
       "    </tr>\n",
       "    <tr>\n",
       "      <th>78347</th>\n",
       "      <td>d1a567c71345a4c5</td>\n",
       "      <td>kushwaha respect dalit activism kushwaha neith...</td>\n",
       "      <td>False</td>\n",
       "      <td>28</td>\n",
       "      <td>26</td>\n",
       "      <td>1</td>\n",
       "      <td>6.214286</td>\n",
       "      <td>201</td>\n",
       "      <td>0</td>\n",
       "    </tr>\n",
       "    <tr>\n",
       "      <th>107510</th>\n",
       "      <td>3ec5181161541ce0</td>\n",
       "      <td>sorry hear blocked time guy v4711 victortalk</td>\n",
       "      <td>False</td>\n",
       "      <td>7</td>\n",
       "      <td>7</td>\n",
       "      <td>0</td>\n",
       "      <td>5.428571</td>\n",
       "      <td>46</td>\n",
       "      <td>0</td>\n",
       "    </tr>\n",
       "  </tbody>\n",
       "</table>\n",
       "</div>"
      ],
      "text/plain": [
       "                      id                                       comment_text  \\\n",
       "50180   861f542e3a4bb53a  youre right wish effort people include correct...   \n",
       "144161  08af65d6f113de00  added additional information santa rosa beni p...   \n",
       "128764  b0a46912dbde827c  woot go terry score goals buddy better way pla...   \n",
       "78347   d1a567c71345a4c5  kushwaha respect dalit activism kushwaha neith...   \n",
       "107510  3ec5181161541ce0      sorry hear blocked time guy v4711 victortalk    \n",
       "\n",
       "            y  word_count  unique_word_count  stop_word_count  \\\n",
       "50180   False          30                 29                2   \n",
       "144161  False          20                 13                1   \n",
       "128764  False          15                 15                0   \n",
       "78347   False          28                 26                1   \n",
       "107510  False           7                  7                0   \n",
       "\n",
       "        mean_word_length  char_count  punctuation_count  \n",
       "50180           6.133333         214                  0  \n",
       "144161          5.000000         119                  0  \n",
       "128764          4.666667          84                  0  \n",
       "78347           6.214286         201                  0  \n",
       "107510          5.428571          46                  0  "
      ]
     },
     "execution_count": 22,
     "metadata": {},
     "output_type": "execute_result"
    }
   ],
   "source": [
    "# word_count\n",
    "df['word_count'] = df['comment_text'].apply(lambda x: len(str(x).split()))\n",
    "\n",
    "# unique_word_count\n",
    "df['unique_word_count'] = df['comment_text'].apply(lambda x: len(set(str(x).split())))\n",
    "\n",
    "# stop_word_count\n",
    "df['stop_word_count'] = df['comment_text'].apply(lambda x: len([w for w in str(x).lower().split() if w in STOPWORDS]))\n",
    "\n",
    "# mean_word_length\n",
    "df['mean_word_length'] = df['comment_text'].apply(lambda x: np.mean([len(w) for w in str(x).split()]))\n",
    "\n",
    "# char_count\n",
    "df['char_count'] = df['comment_text'].apply(lambda x: len(str(x)))\n",
    "\n",
    "# punctuation_count\n",
    "df['punctuation_count'] = df['comment_text'].apply(lambda x: len([c for c in str(x) if c in string.punctuation]))\n",
    "    \n",
    "df.tail()"
   ]
  },
  {
   "cell_type": "code",
   "execution_count": 23,
   "metadata": {},
   "outputs": [],
   "source": [
    "#URL removal\n",
    "def remove_urls(text):\n",
    "    url_pattern = re.compile(r'https?://\\S+|www\\.\\S+')\n",
    "    return url_pattern.sub(r'', text)\n",
    "\n",
    "\n",
    "df[\"comment_text\"]= df[\"comment_text\"].apply(lambda text : remove_urls(text))"
   ]
  },
  {
   "cell_type": "code",
   "execution_count": 24,
   "metadata": {},
   "outputs": [
    {
     "data": {
      "text/html": [
       "<div>\n",
       "<style scoped>\n",
       "    .dataframe tbody tr th:only-of-type {\n",
       "        vertical-align: middle;\n",
       "    }\n",
       "\n",
       "    .dataframe tbody tr th {\n",
       "        vertical-align: top;\n",
       "    }\n",
       "\n",
       "    .dataframe thead th {\n",
       "        text-align: right;\n",
       "    }\n",
       "</style>\n",
       "<table border=\"1\" class=\"dataframe\">\n",
       "  <thead>\n",
       "    <tr style=\"text-align: right;\">\n",
       "      <th></th>\n",
       "      <th>id</th>\n",
       "      <th>comment_text</th>\n",
       "      <th>y</th>\n",
       "      <th>word_count</th>\n",
       "      <th>unique_word_count</th>\n",
       "      <th>stop_word_count</th>\n",
       "      <th>mean_word_length</th>\n",
       "      <th>char_count</th>\n",
       "      <th>punctuation_count</th>\n",
       "    </tr>\n",
       "  </thead>\n",
       "  <tbody>\n",
       "    <tr>\n",
       "      <th>50180</th>\n",
       "      <td>861f542e3a4bb53a</td>\n",
       "      <td>youre right wish effort people include correct...</td>\n",
       "      <td>False</td>\n",
       "      <td>30</td>\n",
       "      <td>29</td>\n",
       "      <td>2</td>\n",
       "      <td>6.133333</td>\n",
       "      <td>214</td>\n",
       "      <td>0</td>\n",
       "    </tr>\n",
       "    <tr>\n",
       "      <th>144161</th>\n",
       "      <td>08af65d6f113de00</td>\n",
       "      <td>added additional information santa rosa beni p...</td>\n",
       "      <td>False</td>\n",
       "      <td>20</td>\n",
       "      <td>13</td>\n",
       "      <td>1</td>\n",
       "      <td>5.000000</td>\n",
       "      <td>119</td>\n",
       "      <td>0</td>\n",
       "    </tr>\n",
       "    <tr>\n",
       "      <th>128764</th>\n",
       "      <td>b0a46912dbde827c</td>\n",
       "      <td>woot go terry score goals buddy better way pla...</td>\n",
       "      <td>False</td>\n",
       "      <td>15</td>\n",
       "      <td>15</td>\n",
       "      <td>0</td>\n",
       "      <td>4.666667</td>\n",
       "      <td>84</td>\n",
       "      <td>0</td>\n",
       "    </tr>\n",
       "    <tr>\n",
       "      <th>78347</th>\n",
       "      <td>d1a567c71345a4c5</td>\n",
       "      <td>kushwaha respect dalit activism kushwaha neith...</td>\n",
       "      <td>False</td>\n",
       "      <td>28</td>\n",
       "      <td>26</td>\n",
       "      <td>1</td>\n",
       "      <td>6.214286</td>\n",
       "      <td>201</td>\n",
       "      <td>0</td>\n",
       "    </tr>\n",
       "    <tr>\n",
       "      <th>107510</th>\n",
       "      <td>3ec5181161541ce0</td>\n",
       "      <td>sorry hear blocked time guy v4711 victortalk</td>\n",
       "      <td>False</td>\n",
       "      <td>7</td>\n",
       "      <td>7</td>\n",
       "      <td>0</td>\n",
       "      <td>5.428571</td>\n",
       "      <td>46</td>\n",
       "      <td>0</td>\n",
       "    </tr>\n",
       "  </tbody>\n",
       "</table>\n",
       "</div>"
      ],
      "text/plain": [
       "                      id                                       comment_text  \\\n",
       "50180   861f542e3a4bb53a  youre right wish effort people include correct...   \n",
       "144161  08af65d6f113de00  added additional information santa rosa beni p...   \n",
       "128764  b0a46912dbde827c  woot go terry score goals buddy better way pla...   \n",
       "78347   d1a567c71345a4c5  kushwaha respect dalit activism kushwaha neith...   \n",
       "107510  3ec5181161541ce0      sorry hear blocked time guy v4711 victortalk    \n",
       "\n",
       "            y  word_count  unique_word_count  stop_word_count  \\\n",
       "50180   False          30                 29                2   \n",
       "144161  False          20                 13                1   \n",
       "128764  False          15                 15                0   \n",
       "78347   False          28                 26                1   \n",
       "107510  False           7                  7                0   \n",
       "\n",
       "        mean_word_length  char_count  punctuation_count  \n",
       "50180           6.133333         214                  0  \n",
       "144161          5.000000         119                  0  \n",
       "128764          4.666667          84                  0  \n",
       "78347           6.214286         201                  0  \n",
       "107510          5.428571          46                  0  "
      ]
     },
     "execution_count": 24,
     "metadata": {},
     "output_type": "execute_result"
    }
   ],
   "source": [
    "# word_count\n",
    "df['word_count'] = df['comment_text'].apply(lambda x: len(str(x).split()))\n",
    "\n",
    "# unique_word_count\n",
    "df['unique_word_count'] = df['comment_text'].apply(lambda x: len(set(str(x).split())))\n",
    "\n",
    "# stop_word_count\n",
    "df['stop_word_count'] = df['comment_text'].apply(lambda x: len([w for w in str(x).lower().split() if w in STOPWORDS]))\n",
    "\n",
    "# mean_word_length\n",
    "df['mean_word_length'] = df['comment_text'].apply(lambda x: np.mean([len(w) for w in str(x).split()]))\n",
    "\n",
    "# char_count\n",
    "df['char_count'] = df['comment_text'].apply(lambda x: len(str(x)))\n",
    "\n",
    "# punctuation_count\n",
    "df['punctuation_count'] = df['comment_text'].apply(lambda x: len([c for c in str(x) if c in string.punctuation]))\n",
    "    \n",
    "df.tail()"
   ]
  },
  {
   "cell_type": "code",
   "execution_count": 25,
   "metadata": {},
   "outputs": [],
   "source": [
    "#Stemming"
   ]
  },
  {
   "cell_type": "code",
   "execution_count": 26,
   "metadata": {},
   "outputs": [],
   "source": [
    "stemmer = PorterStemmer()\n",
    "def stem_words(text):\n",
    "    return \" \".join([stemmer.stem(word) for word in text.split()])\n",
    "\n",
    "df[\"comment_text\"] = df[\"comment_text\"].apply(lambda text: stem_words(text))"
   ]
  },
  {
   "cell_type": "code",
   "execution_count": 27,
   "metadata": {},
   "outputs": [
    {
     "data": {
      "text/html": [
       "<div>\n",
       "<style scoped>\n",
       "    .dataframe tbody tr th:only-of-type {\n",
       "        vertical-align: middle;\n",
       "    }\n",
       "\n",
       "    .dataframe tbody tr th {\n",
       "        vertical-align: top;\n",
       "    }\n",
       "\n",
       "    .dataframe thead th {\n",
       "        text-align: right;\n",
       "    }\n",
       "</style>\n",
       "<table border=\"1\" class=\"dataframe\">\n",
       "  <thead>\n",
       "    <tr style=\"text-align: right;\">\n",
       "      <th></th>\n",
       "      <th>id</th>\n",
       "      <th>comment_text</th>\n",
       "      <th>y</th>\n",
       "      <th>word_count</th>\n",
       "      <th>unique_word_count</th>\n",
       "      <th>stop_word_count</th>\n",
       "      <th>mean_word_length</th>\n",
       "      <th>char_count</th>\n",
       "      <th>punctuation_count</th>\n",
       "    </tr>\n",
       "  </thead>\n",
       "  <tbody>\n",
       "    <tr>\n",
       "      <th>50180</th>\n",
       "      <td>861f542e3a4bb53a</td>\n",
       "      <td>your right wish effort peopl includ correct in...</td>\n",
       "      <td>False</td>\n",
       "      <td>30</td>\n",
       "      <td>28</td>\n",
       "      <td>3</td>\n",
       "      <td>5.366667</td>\n",
       "      <td>190</td>\n",
       "      <td>0</td>\n",
       "    </tr>\n",
       "    <tr>\n",
       "      <th>144161</th>\n",
       "      <td>08af65d6f113de00</td>\n",
       "      <td>ad addit inform santa rosa beni page santa ros...</td>\n",
       "      <td>False</td>\n",
       "      <td>20</td>\n",
       "      <td>13</td>\n",
       "      <td>1</td>\n",
       "      <td>4.300000</td>\n",
       "      <td>105</td>\n",
       "      <td>0</td>\n",
       "    </tr>\n",
       "    <tr>\n",
       "      <th>128764</th>\n",
       "      <td>b0a46912dbde827c</td>\n",
       "      <td>woot go terri score goal buddi better way play...</td>\n",
       "      <td>False</td>\n",
       "      <td>15</td>\n",
       "      <td>15</td>\n",
       "      <td>0</td>\n",
       "      <td>4.266667</td>\n",
       "      <td>78</td>\n",
       "      <td>0</td>\n",
       "    </tr>\n",
       "    <tr>\n",
       "      <th>78347</th>\n",
       "      <td>d1a567c71345a4c5</td>\n",
       "      <td>kushwaha respect dalit activ kushwaha neither ...</td>\n",
       "      <td>False</td>\n",
       "      <td>28</td>\n",
       "      <td>25</td>\n",
       "      <td>1</td>\n",
       "      <td>5.500000</td>\n",
       "      <td>181</td>\n",
       "      <td>0</td>\n",
       "    </tr>\n",
       "    <tr>\n",
       "      <th>107510</th>\n",
       "      <td>3ec5181161541ce0</td>\n",
       "      <td>sorri hear block time guy v4711 victortalk</td>\n",
       "      <td>False</td>\n",
       "      <td>7</td>\n",
       "      <td>7</td>\n",
       "      <td>0</td>\n",
       "      <td>5.142857</td>\n",
       "      <td>42</td>\n",
       "      <td>0</td>\n",
       "    </tr>\n",
       "  </tbody>\n",
       "</table>\n",
       "</div>"
      ],
      "text/plain": [
       "                      id                                       comment_text  \\\n",
       "50180   861f542e3a4bb53a  your right wish effort peopl includ correct in...   \n",
       "144161  08af65d6f113de00  ad addit inform santa rosa beni page santa ros...   \n",
       "128764  b0a46912dbde827c  woot go terri score goal buddi better way play...   \n",
       "78347   d1a567c71345a4c5  kushwaha respect dalit activ kushwaha neither ...   \n",
       "107510  3ec5181161541ce0         sorri hear block time guy v4711 victortalk   \n",
       "\n",
       "            y  word_count  unique_word_count  stop_word_count  \\\n",
       "50180   False          30                 28                3   \n",
       "144161  False          20                 13                1   \n",
       "128764  False          15                 15                0   \n",
       "78347   False          28                 25                1   \n",
       "107510  False           7                  7                0   \n",
       "\n",
       "        mean_word_length  char_count  punctuation_count  \n",
       "50180           5.366667         190                  0  \n",
       "144161          4.300000         105                  0  \n",
       "128764          4.266667          78                  0  \n",
       "78347           5.500000         181                  0  \n",
       "107510          5.142857          42                  0  "
      ]
     },
     "execution_count": 27,
     "metadata": {},
     "output_type": "execute_result"
    }
   ],
   "source": [
    "# word_count\n",
    "df['word_count'] = df['comment_text'].apply(lambda x: len(str(x).split()))\n",
    "\n",
    "# unique_word_count\n",
    "df['unique_word_count'] = df['comment_text'].apply(lambda x: len(set(str(x).split())))\n",
    "\n",
    "# stop_word_count\n",
    "df['stop_word_count'] = df['comment_text'].apply(lambda x: len([w for w in str(x).lower().split() if w in STOPWORDS]))\n",
    "\n",
    "# mean_word_length\n",
    "df['mean_word_length'] = df['comment_text'].apply(lambda x: np.mean([len(w) for w in str(x).split()]))\n",
    "\n",
    "# char_count\n",
    "df['char_count'] = df['comment_text'].apply(lambda x: len(str(x)))\n",
    "\n",
    "# punctuation_count\n",
    "df['punctuation_count'] = df['comment_text'].apply(lambda x: len([c for c in str(x) if c in string.punctuation]))\n",
    "    \n",
    "df.tail()"
   ]
  },
  {
   "cell_type": "code",
   "execution_count": 28,
   "metadata": {
    "execution": {
     "iopub.execute_input": "2022-01-30T22:31:36.286364Z",
     "iopub.status.busy": "2022-01-30T22:31:36.285778Z",
     "iopub.status.idle": "2022-01-30T22:31:36.296129Z",
     "shell.execute_reply": "2022-01-30T22:31:36.295303Z",
     "shell.execute_reply.started": "2022-01-30T22:31:36.286327Z"
    }
   },
   "outputs": [],
   "source": [
    "X = df.drop(['y'], axis=1)\n",
    "y = df['y']"
   ]
  },
  {
   "cell_type": "code",
   "execution_count": 29,
   "metadata": {
    "execution": {
     "iopub.execute_input": "2022-01-30T22:34:08.433972Z",
     "iopub.status.busy": "2022-01-30T22:34:08.433655Z",
     "iopub.status.idle": "2022-01-30T22:34:08.450583Z",
     "shell.execute_reply": "2022-01-30T22:34:08.449537Z",
     "shell.execute_reply.started": "2022-01-30T22:34:08.433939Z"
    }
   },
   "outputs": [],
   "source": [
    "from sklearn.model_selection import train_test_split\n",
    "X_train, X_test, y_train, y_test = train_test_split(X, y, random_state=42)\n"
   ]
  },
  {
   "cell_type": "code",
   "execution_count": 30,
   "metadata": {
    "execution": {
     "iopub.execute_input": "2022-01-30T22:34:20.225598Z",
     "iopub.status.busy": "2022-01-30T22:34:20.225321Z",
     "iopub.status.idle": "2022-01-30T22:34:20.238139Z",
     "shell.execute_reply": "2022-01-30T22:34:20.237201Z",
     "shell.execute_reply.started": "2022-01-30T22:34:20.225567Z"
    }
   },
   "outputs": [
    {
     "data": {
      "text/html": [
       "<div>\n",
       "<style scoped>\n",
       "    .dataframe tbody tr th:only-of-type {\n",
       "        vertical-align: middle;\n",
       "    }\n",
       "\n",
       "    .dataframe tbody tr th {\n",
       "        vertical-align: top;\n",
       "    }\n",
       "\n",
       "    .dataframe thead th {\n",
       "        text-align: right;\n",
       "    }\n",
       "</style>\n",
       "<table border=\"1\" class=\"dataframe\">\n",
       "  <thead>\n",
       "    <tr style=\"text-align: right;\">\n",
       "      <th></th>\n",
       "      <th>id</th>\n",
       "      <th>comment_text</th>\n",
       "      <th>word_count</th>\n",
       "      <th>unique_word_count</th>\n",
       "      <th>stop_word_count</th>\n",
       "      <th>mean_word_length</th>\n",
       "      <th>char_count</th>\n",
       "      <th>punctuation_count</th>\n",
       "    </tr>\n",
       "  </thead>\n",
       "  <tbody>\n",
       "    <tr>\n",
       "      <th>76690</th>\n",
       "      <td>cd64e48fc4b0d0bf</td>\n",
       "      <td>quot you dumb bastard realli understand anyth</td>\n",
       "      <td>7</td>\n",
       "      <td>7</td>\n",
       "      <td>1</td>\n",
       "      <td>5.571429</td>\n",
       "      <td>45</td>\n",
       "      <td>0</td>\n",
       "    </tr>\n",
       "    <tr>\n",
       "      <th>88218</th>\n",
       "      <td>ebf77e3298407a4d</td>\n",
       "      <td>persib persib again pleas leav true fuck you m...</td>\n",
       "      <td>25</td>\n",
       "      <td>19</td>\n",
       "      <td>2</td>\n",
       "      <td>5.400000</td>\n",
       "      <td>159</td>\n",
       "      <td>0</td>\n",
       "    </tr>\n",
       "    <tr>\n",
       "      <th>118013</th>\n",
       "      <td>766997bfc92e84cc</td>\n",
       "      <td>hate you hate you</td>\n",
       "      <td>4</td>\n",
       "      <td>2</td>\n",
       "      <td>2</td>\n",
       "      <td>3.500000</td>\n",
       "      <td>17</td>\n",
       "      <td>0</td>\n",
       "    </tr>\n",
       "    <tr>\n",
       "      <th>67770</th>\n",
       "      <td>b554c337ff97e3da</td>\n",
       "      <td>time wait wikia support repli pleas unblock me...</td>\n",
       "      <td>40</td>\n",
       "      <td>25</td>\n",
       "      <td>3</td>\n",
       "      <td>4.650000</td>\n",
       "      <td>225</td>\n",
       "      <td>0</td>\n",
       "    </tr>\n",
       "    <tr>\n",
       "      <th>71352</th>\n",
       "      <td>bf01285eec9b3811</td>\n",
       "      <td>loser loserthat atheisty total lostno guidanc ...</td>\n",
       "      <td>27</td>\n",
       "      <td>27</td>\n",
       "      <td>1</td>\n",
       "      <td>5.814815</td>\n",
       "      <td>183</td>\n",
       "      <td>0</td>\n",
       "    </tr>\n",
       "  </tbody>\n",
       "</table>\n",
       "</div>"
      ],
      "text/plain": [
       "                      id                                       comment_text  \\\n",
       "76690   cd64e48fc4b0d0bf      quot you dumb bastard realli understand anyth   \n",
       "88218   ebf77e3298407a4d  persib persib again pleas leav true fuck you m...   \n",
       "118013  766997bfc92e84cc                                  hate you hate you   \n",
       "67770   b554c337ff97e3da  time wait wikia support repli pleas unblock me...   \n",
       "71352   bf01285eec9b3811  loser loserthat atheisty total lostno guidanc ...   \n",
       "\n",
       "        word_count  unique_word_count  stop_word_count  mean_word_length  \\\n",
       "76690            7                  7                1          5.571429   \n",
       "88218           25                 19                2          5.400000   \n",
       "118013           4                  2                2          3.500000   \n",
       "67770           40                 25                3          4.650000   \n",
       "71352           27                 27                1          5.814815   \n",
       "\n",
       "        char_count  punctuation_count  \n",
       "76690           45                  0  \n",
       "88218          159                  0  \n",
       "118013          17                  0  \n",
       "67770          225                  0  \n",
       "71352          183                  0  "
      ]
     },
     "execution_count": 30,
     "metadata": {},
     "output_type": "execute_result"
    }
   ],
   "source": [
    "X_train.head()"
   ]
  },
  {
   "cell_type": "code",
   "execution_count": 31,
   "metadata": {
    "execution": {
     "iopub.execute_input": "2022-01-30T22:34:40.241869Z",
     "iopub.status.busy": "2022-01-30T22:34:40.241106Z",
     "iopub.status.idle": "2022-01-30T22:34:40.246501Z",
     "shell.execute_reply": "2022-01-30T22:34:40.245838Z",
     "shell.execute_reply.started": "2022-01-30T22:34:40.241826Z"
    }
   },
   "outputs": [],
   "source": [
    "X_train = X_train.comment_text.values\n",
    "X_test = X_test.comment_text.values"
   ]
  },
  {
   "cell_type": "code",
   "execution_count": 32,
   "metadata": {
    "execution": {
     "iopub.execute_input": "2022-01-30T22:34:50.847276Z",
     "iopub.status.busy": "2022-01-30T22:34:50.846978Z",
     "iopub.status.idle": "2022-01-30T22:34:50.854091Z",
     "shell.execute_reply": "2022-01-30T22:34:50.85353Z",
     "shell.execute_reply.started": "2022-01-30T22:34:50.847222Z"
    }
   },
   "outputs": [
    {
     "data": {
      "text/plain": [
       "76690      True\n",
       "88218      True\n",
       "118013     True\n",
       "67770     False\n",
       "71352      True\n",
       "Name: y, dtype: bool"
      ]
     },
     "execution_count": 32,
     "metadata": {},
     "output_type": "execute_result"
    }
   ],
   "source": [
    "y_train.head()"
   ]
  },
  {
   "cell_type": "code",
   "execution_count": 33,
   "metadata": {
    "execution": {
     "iopub.execute_input": "2022-01-30T22:36:15.940026Z",
     "iopub.status.busy": "2022-01-30T22:36:15.939199Z",
     "iopub.status.idle": "2022-01-30T22:36:15.943824Z",
     "shell.execute_reply": "2022-01-30T22:36:15.943233Z",
     "shell.execute_reply.started": "2022-01-30T22:36:15.939974Z"
    }
   },
   "outputs": [],
   "source": [
    "OOV_TOKEN = '<OOV>'\n",
    "VOCAB_SIZE = 10000\n",
    "MAX_LEN = 120\n",
    "EMBEDDING_DIM = 100"
   ]
  },
  {
   "cell_type": "code",
   "execution_count": 34,
   "metadata": {
    "execution": {
     "iopub.execute_input": "2022-01-30T22:38:49.407495Z",
     "iopub.status.busy": "2022-01-30T22:38:49.407115Z",
     "iopub.status.idle": "2022-01-30T22:38:50.354527Z",
     "shell.execute_reply": "2022-01-30T22:38:50.353452Z",
     "shell.execute_reply.started": "2022-01-30T22:38:49.407458Z"
    }
   },
   "outputs": [],
   "source": [
    "tokenizer = Tokenizer(num_words=VOCAB_SIZE,oov_token=OOV_TOKEN)\n",
    "tokenizer.fit_on_texts(X_train)"
   ]
  },
  {
   "cell_type": "code",
   "execution_count": 35,
   "metadata": {
    "execution": {
     "iopub.execute_input": "2022-01-30T22:39:03.082362Z",
     "iopub.status.busy": "2022-01-30T22:39:03.081806Z",
     "iopub.status.idle": "2022-01-30T22:39:03.088367Z",
     "shell.execute_reply": "2022-01-30T22:39:03.087504Z",
     "shell.execute_reply.started": "2022-01-30T22:39:03.082324Z"
    }
   },
   "outputs": [
    {
     "data": {
      "text/plain": [
       "52350"
      ]
     },
     "execution_count": 35,
     "metadata": {},
     "output_type": "execute_result"
    }
   ],
   "source": [
    "len(tokenizer.word_index)"
   ]
  },
  {
   "cell_type": "code",
   "execution_count": 36,
   "metadata": {
    "execution": {
     "iopub.execute_input": "2022-01-30T22:40:20.445924Z",
     "iopub.status.busy": "2022-01-30T22:40:20.445613Z",
     "iopub.status.idle": "2022-01-30T22:40:20.450165Z",
     "shell.execute_reply": "2022-01-30T22:40:20.449312Z",
     "shell.execute_reply.started": "2022-01-30T22:40:20.445892Z"
    }
   },
   "outputs": [],
   "source": [
    "unique_token_count = len(tokenizer.word_counts) + 2"
   ]
  },
  {
   "cell_type": "code",
   "execution_count": 37,
   "metadata": {
    "execution": {
     "iopub.execute_input": "2022-01-30T22:42:51.719291Z",
     "iopub.status.busy": "2022-01-30T22:42:51.718679Z",
     "iopub.status.idle": "2022-01-30T22:42:52.298668Z",
     "shell.execute_reply": "2022-01-30T22:42:52.297801Z",
     "shell.execute_reply.started": "2022-01-30T22:42:51.719226Z"
    }
   },
   "outputs": [],
   "source": [
    "train_seq = tokenizer.texts_to_sequences(X_train)"
   ]
  },
  {
   "cell_type": "code",
   "execution_count": 38,
   "metadata": {
    "execution": {
     "iopub.execute_input": "2022-01-30T22:43:14.403667Z",
     "iopub.status.busy": "2022-01-30T22:43:14.403083Z",
     "iopub.status.idle": "2022-01-30T22:43:14.611267Z",
     "shell.execute_reply": "2022-01-30T22:43:14.610312Z",
     "shell.execute_reply.started": "2022-01-30T22:43:14.403626Z"
    }
   },
   "outputs": [],
   "source": [
    "test_seq = tokenizer.texts_to_sequences(X_test)"
   ]
  },
  {
   "cell_type": "code",
   "execution_count": 39,
   "metadata": {
    "execution": {
     "iopub.execute_input": "2022-01-30T22:43:36.905498Z",
     "iopub.status.busy": "2022-01-30T22:43:36.9052Z",
     "iopub.status.idle": "2022-01-30T22:43:37.016801Z",
     "shell.execute_reply": "2022-01-30T22:43:37.015914Z",
     "shell.execute_reply.started": "2022-01-30T22:43:36.905468Z"
    }
   },
   "outputs": [],
   "source": [
    "train_padded = tf.keras.preprocessing.sequence.pad_sequences(train_seq, maxlen=MAX_LEN, dtype='int32', padding='post',\n",
    "    truncating='post')"
   ]
  },
  {
   "cell_type": "code",
   "execution_count": 40,
   "metadata": {
    "execution": {
     "iopub.execute_input": "2022-01-30T22:43:51.086097Z",
     "iopub.status.busy": "2022-01-30T22:43:51.085833Z",
     "iopub.status.idle": "2022-01-30T22:43:51.127185Z",
     "shell.execute_reply": "2022-01-30T22:43:51.126404Z",
     "shell.execute_reply.started": "2022-01-30T22:43:51.086069Z"
    }
   },
   "outputs": [],
   "source": [
    "test_padded = tf.keras.preprocessing.sequence.pad_sequences(test_seq, maxlen=MAX_LEN, dtype='int32', padding='post',truncating='post')"
   ]
  },
  {
   "cell_type": "code",
   "execution_count": 41,
   "metadata": {
    "execution": {
     "iopub.execute_input": "2022-01-30T22:44:02.114874Z",
     "iopub.status.busy": "2022-01-30T22:44:02.11461Z",
     "iopub.status.idle": "2022-01-30T22:44:02.121321Z",
     "shell.execute_reply": "2022-01-30T22:44:02.120317Z",
     "shell.execute_reply.started": "2022-01-30T22:44:02.114846Z"
    }
   },
   "outputs": [
    {
     "data": {
      "text/plain": [
       "(8113, 120)"
      ]
     },
     "execution_count": 41,
     "metadata": {},
     "output_type": "execute_result"
    }
   ],
   "source": [
    "test_padded.shape"
   ]
  },
  {
   "cell_type": "code",
   "execution_count": 42,
   "metadata": {},
   "outputs": [],
   "source": [
    "n_features = X.shape[1]"
   ]
  },
  {
   "cell_type": "code",
   "execution_count": 43,
   "metadata": {},
   "outputs": [
    {
     "data": {
      "text/plain": [
       "8"
      ]
     },
     "execution_count": 43,
     "metadata": {},
     "output_type": "execute_result"
    }
   ],
   "source": [
    "n_features "
   ]
  },
  {
   "cell_type": "code",
   "execution_count": 44,
   "metadata": {},
   "outputs": [],
   "source": [
    "#Training"
   ]
  },
  {
   "cell_type": "code",
   "execution_count": 45,
   "metadata": {},
   "outputs": [],
   "source": [
    "from tensorflow.keras.optimizers import Adam\n",
    "optimizer = Adam(0.001)"
   ]
  },
  {
   "cell_type": "code",
   "execution_count": 48,
   "metadata": {},
   "outputs": [],
   "source": [
    "def create_mlp_model():\n",
    "    '''return tf.keras.models.Sequential([\n",
    "    tf.keras.layers.Input(shape=(120,)),\n",
    "    tf.keras.layers.Embedding(unique_token_count, 16),\n",
    "    tf.keras.layers.Flatten(),\n",
    "    tf.keras.layers.Dense(10, activation = 'relu', kernel_initializer = 'he_normal', input_shape = (n_features,)),\n",
    "    tf.keras.layers.Dense(10, activation = 'relu', kernel_initializer = 'he_normal'),\n",
    "    tf.keras.layers.Dense(1)\n",
    "    ])'''\n",
    "    return tf.keras.models.Sequential([\n",
    "    tf.keras.layers.Input(shape=(120,)),\n",
    "    tf.keras.layers.Embedding(unique_token_count, 16),\n",
    "    tf.keras.layers.Flatten(),\n",
    "    tf.keras.layers.Dense(5, activation = 'relu', kernel_initializer = 'he_normal', input_shape = (n_features,)),\n",
    "    tf.keras.layers.Dense(5, activation = 'relu', kernel_initializer = 'he_normal'),\n",
    "    tf.keras.layers.Dense(5, activation = 'relu', kernel_initializer = 'he_normal'),\n",
    "    tf.keras.layers.Dense(5, activation = 'relu', kernel_initializer = 'he_normal'),\n",
    "    tf.keras.layers.Dense(1),\n",
    "    ])"
   ]
  },
  {
   "cell_type": "code",
   "execution_count": 49,
   "metadata": {
    "execution": {
     "iopub.execute_input": "2022-01-30T23:06:36.443707Z",
     "iopub.status.busy": "2022-01-30T23:06:36.443399Z",
     "iopub.status.idle": "2022-01-30T23:06:36.546742Z",
     "shell.execute_reply": "2022-01-30T23:06:36.545776Z",
     "shell.execute_reply.started": "2022-01-30T23:06:36.443674Z"
    }
   },
   "outputs": [
    {
     "name": "stdout",
     "output_type": "stream",
     "text": [
      "Epoch 1/100\n",
      "153/153 - 5s - loss: 0.1516 - accuracy: 0.7936 - val_loss: 0.1055 - val_accuracy: 0.8694\n",
      "Epoch 2/100\n",
      "153/153 - 2s - loss: 0.0671 - accuracy: 0.9194 - val_loss: 0.0923 - val_accuracy: 0.8753\n",
      "Epoch 3/100\n",
      "153/153 - 2s - loss: 0.0378 - accuracy: 0.9565 - val_loss: 0.0961 - val_accuracy: 0.8720\n",
      "Epoch 4/100\n",
      "153/153 - 2s - loss: 0.0239 - accuracy: 0.9731 - val_loss: 0.0992 - val_accuracy: 0.8745\n",
      "Epoch 5/100\n",
      "153/153 - 2s - loss: 0.0170 - accuracy: 0.9813 - val_loss: 0.1036 - val_accuracy: 0.8704\n",
      "Epoch 6/100\n",
      "153/153 - 2s - loss: 0.0131 - accuracy: 0.9862 - val_loss: 0.1063 - val_accuracy: 0.8722\n",
      "Epoch 7/100\n",
      "153/153 - 2s - loss: 0.0108 - accuracy: 0.9886 - val_loss: 0.1067 - val_accuracy: 0.8728\n",
      "Epoch 8/100\n",
      "153/153 - 2s - loss: 0.0092 - accuracy: 0.9907 - val_loss: 0.1109 - val_accuracy: 0.8718\n",
      "Epoch 9/100\n",
      "153/153 - 2s - loss: 0.0079 - accuracy: 0.9921 - val_loss: 0.1136 - val_accuracy: 0.8710\n",
      "Epoch 10/100\n",
      "153/153 - 2s - loss: 0.0072 - accuracy: 0.9926 - val_loss: 0.1094 - val_accuracy: 0.8739\n",
      "Epoch 11/100\n",
      "153/153 - 2s - loss: 0.0064 - accuracy: 0.9934 - val_loss: 0.1136 - val_accuracy: 0.8683\n",
      "Epoch 12/100\n",
      "153/153 - 2s - loss: 0.0062 - accuracy: 0.9937 - val_loss: 0.1136 - val_accuracy: 0.8675\n",
      "Epoch 13/100\n",
      "153/153 - 2s - loss: 0.0056 - accuracy: 0.9945 - val_loss: 0.1175 - val_accuracy: 0.8679\n",
      "Epoch 14/100\n",
      "153/153 - 2s - loss: 0.0054 - accuracy: 0.9946 - val_loss: 0.1181 - val_accuracy: 0.8667\n",
      "Epoch 15/100\n",
      "153/153 - 2s - loss: 0.0051 - accuracy: 0.9950 - val_loss: 0.1143 - val_accuracy: 0.8708\n",
      "Epoch 16/100\n",
      "153/153 - 2s - loss: 0.0049 - accuracy: 0.9950 - val_loss: 0.1168 - val_accuracy: 0.8694\n",
      "Epoch 17/100\n",
      "153/153 - 2s - loss: 0.0049 - accuracy: 0.9950 - val_loss: 0.1151 - val_accuracy: 0.8691\n",
      "Epoch 18/100\n",
      "153/153 - 2s - loss: 0.0051 - accuracy: 0.9949 - val_loss: 0.1176 - val_accuracy: 0.8669\n",
      "Epoch 19/100\n",
      "153/153 - 2s - loss: 0.0049 - accuracy: 0.9949 - val_loss: 0.1173 - val_accuracy: 0.8683\n",
      "Epoch 20/100\n",
      "153/153 - 2s - loss: 0.0046 - accuracy: 0.9952 - val_loss: 0.1156 - val_accuracy: 0.8720\n",
      "Epoch 21/100\n",
      "153/153 - 2s - loss: 0.0045 - accuracy: 0.9954 - val_loss: 0.1170 - val_accuracy: 0.8702\n",
      "Epoch 22/100\n",
      "153/153 - 2s - loss: 0.0043 - accuracy: 0.9955 - val_loss: 0.1176 - val_accuracy: 0.8679\n",
      "Epoch 23/100\n",
      "153/153 - 2s - loss: 0.0041 - accuracy: 0.9955 - val_loss: 0.1180 - val_accuracy: 0.8689\n",
      "Epoch 24/100\n",
      "153/153 - 2s - loss: 0.0040 - accuracy: 0.9955 - val_loss: 0.1198 - val_accuracy: 0.8671\n",
      "Epoch 25/100\n",
      "153/153 - 2s - loss: 0.0040 - accuracy: 0.9954 - val_loss: 0.1171 - val_accuracy: 0.8696\n",
      "Epoch 26/100\n",
      "153/153 - 2s - loss: 0.0042 - accuracy: 0.9951 - val_loss: 0.1234 - val_accuracy: 0.8624\n",
      "Epoch 27/100\n",
      "153/153 - 2s - loss: 0.0040 - accuracy: 0.9950 - val_loss: 0.1199 - val_accuracy: 0.8665\n",
      "Epoch 28/100\n",
      "153/153 - 2s - loss: 0.0040 - accuracy: 0.9945 - val_loss: 0.1193 - val_accuracy: 0.8673\n",
      "Epoch 29/100\n",
      "153/153 - 2s - loss: 0.0034 - accuracy: 0.9954 - val_loss: 0.1188 - val_accuracy: 0.8646\n",
      "Epoch 30/100\n",
      "153/153 - 2s - loss: 0.0033 - accuracy: 0.9965 - val_loss: 0.1202 - val_accuracy: 0.8663\n",
      "Epoch 31/100\n",
      "153/153 - 2s - loss: 0.0030 - accuracy: 0.9968 - val_loss: 0.1178 - val_accuracy: 0.8677\n",
      "Epoch 32/100\n",
      "153/153 - 2s - loss: 0.0025 - accuracy: 0.9974 - val_loss: 0.1210 - val_accuracy: 0.8689\n",
      "Epoch 33/100\n",
      "153/153 - 2s - loss: 0.0025 - accuracy: 0.9976 - val_loss: 0.1208 - val_accuracy: 0.8677\n",
      "Epoch 34/100\n",
      "153/153 - 2s - loss: 0.0024 - accuracy: 0.9975 - val_loss: 0.1229 - val_accuracy: 0.8663\n",
      "Epoch 35/100\n",
      "153/153 - 2s - loss: 0.0024 - accuracy: 0.9975 - val_loss: 0.1225 - val_accuracy: 0.8650\n",
      "Epoch 36/100\n",
      "153/153 - 2s - loss: 0.0024 - accuracy: 0.9975 - val_loss: 0.1237 - val_accuracy: 0.8663\n",
      "Epoch 37/100\n",
      "153/153 - 2s - loss: 0.0022 - accuracy: 0.9978 - val_loss: 0.1237 - val_accuracy: 0.8650\n",
      "Epoch 38/100\n",
      "153/153 - 2s - loss: 0.0021 - accuracy: 0.9978 - val_loss: 0.1222 - val_accuracy: 0.8675\n",
      "Epoch 39/100\n",
      "153/153 - 2s - loss: 0.0021 - accuracy: 0.9979 - val_loss: 0.1302 - val_accuracy: 0.8595\n",
      "Epoch 40/100\n",
      "153/153 - 2s - loss: 0.0020 - accuracy: 0.9980 - val_loss: 0.1226 - val_accuracy: 0.8652\n",
      "Epoch 41/100\n",
      "153/153 - 2s - loss: 0.0024 - accuracy: 0.9976 - val_loss: 0.1215 - val_accuracy: 0.8663\n",
      "Epoch 42/100\n",
      "153/153 - 2s - loss: 0.0023 - accuracy: 0.9975 - val_loss: 0.1217 - val_accuracy: 0.8689\n",
      "Epoch 43/100\n",
      "153/153 - 2s - loss: 0.0025 - accuracy: 0.9975 - val_loss: 0.1235 - val_accuracy: 0.8659\n",
      "Epoch 44/100\n",
      "153/153 - 2s - loss: 0.0019 - accuracy: 0.9982 - val_loss: 0.1251 - val_accuracy: 0.8636\n",
      "Epoch 45/100\n",
      "153/153 - 2s - loss: 0.0018 - accuracy: 0.9982 - val_loss: 0.1203 - val_accuracy: 0.8700\n",
      "Epoch 46/100\n",
      "153/153 - 2s - loss: 0.0017 - accuracy: 0.9984 - val_loss: 0.1223 - val_accuracy: 0.8683\n",
      "Epoch 47/100\n",
      "153/153 - 2s - loss: 0.0017 - accuracy: 0.9984 - val_loss: 0.1194 - val_accuracy: 0.8708\n",
      "Epoch 48/100\n",
      "153/153 - 2s - loss: 0.0015 - accuracy: 0.9985 - val_loss: 0.1204 - val_accuracy: 0.8691\n",
      "Epoch 49/100\n",
      "153/153 - 2s - loss: 0.0015 - accuracy: 0.9986 - val_loss: 0.1190 - val_accuracy: 0.8710\n",
      "Epoch 50/100\n",
      "153/153 - 2s - loss: 0.0014 - accuracy: 0.9986 - val_loss: 0.1179 - val_accuracy: 0.8735\n",
      "Epoch 51/100\n",
      "153/153 - 2s - loss: 0.0015 - accuracy: 0.9985 - val_loss: 0.1183 - val_accuracy: 0.8726\n",
      "Epoch 52/100\n",
      "153/153 - 2s - loss: 0.0014 - accuracy: 0.9986 - val_loss: 0.1195 - val_accuracy: 0.8737\n",
      "Epoch 53/100\n",
      "153/153 - 2s - loss: 0.0015 - accuracy: 0.9985 - val_loss: 0.1223 - val_accuracy: 0.8675\n",
      "Epoch 54/100\n",
      "153/153 - 2s - loss: 0.0016 - accuracy: 0.9983 - val_loss: 0.1236 - val_accuracy: 0.8671\n",
      "Epoch 55/100\n",
      "153/153 - 2s - loss: 0.0015 - accuracy: 0.9985 - val_loss: 0.1230 - val_accuracy: 0.8675\n",
      "Epoch 56/100\n",
      "153/153 - 2s - loss: 0.0016 - accuracy: 0.9984 - val_loss: 0.1220 - val_accuracy: 0.8691\n",
      "Epoch 57/100\n",
      "153/153 - 2s - loss: 0.0016 - accuracy: 0.9984 - val_loss: 0.1249 - val_accuracy: 0.8657\n",
      "Epoch 58/100\n",
      "153/153 - 2s - loss: 0.0017 - accuracy: 0.9983 - val_loss: 0.1256 - val_accuracy: 0.8624\n",
      "Epoch 59/100\n",
      "153/153 - 2s - loss: 0.0021 - accuracy: 0.9983 - val_loss: 0.1261 - val_accuracy: 0.8638\n",
      "Epoch 60/100\n",
      "153/153 - 2s - loss: 0.0019 - accuracy: 0.9983 - val_loss: 0.1248 - val_accuracy: 0.8644\n",
      "Epoch 61/100\n",
      "153/153 - 2s - loss: 0.0019 - accuracy: 0.9979 - val_loss: 0.1268 - val_accuracy: 0.8644\n",
      "Epoch 62/100\n",
      "153/153 - 2s - loss: 0.0022 - accuracy: 0.9977 - val_loss: 0.1230 - val_accuracy: 0.8691\n",
      "Epoch 63/100\n",
      "153/153 - 2s - loss: 0.0024 - accuracy: 0.9974 - val_loss: 0.1200 - val_accuracy: 0.8702\n",
      "Epoch 64/100\n",
      "153/153 - 2s - loss: 0.0019 - accuracy: 0.9981 - val_loss: 0.1227 - val_accuracy: 0.8669\n",
      "Epoch 65/100\n",
      "153/153 - 2s - loss: 0.0016 - accuracy: 0.9984 - val_loss: 0.1235 - val_accuracy: 0.8657\n",
      "Epoch 66/100\n",
      "153/153 - 2s - loss: 0.0014 - accuracy: 0.9986 - val_loss: 0.1219 - val_accuracy: 0.8700\n",
      "Epoch 67/100\n",
      "153/153 - 2s - loss: 0.0015 - accuracy: 0.9985 - val_loss: 0.1219 - val_accuracy: 0.8696\n",
      "Epoch 68/100\n",
      "153/153 - 2s - loss: 0.0014 - accuracy: 0.9986 - val_loss: 0.1227 - val_accuracy: 0.8677\n",
      "Epoch 69/100\n",
      "153/153 - 2s - loss: 0.0014 - accuracy: 0.9986 - val_loss: 0.1228 - val_accuracy: 0.8691\n",
      "Epoch 70/100\n",
      "153/153 - 2s - loss: 0.0014 - accuracy: 0.9987 - val_loss: 0.1231 - val_accuracy: 0.8675\n",
      "Epoch 71/100\n",
      "153/153 - 2s - loss: 0.0015 - accuracy: 0.9985 - val_loss: 0.1240 - val_accuracy: 0.8657\n",
      "Epoch 72/100\n",
      "153/153 - 2s - loss: 0.0014 - accuracy: 0.9985 - val_loss: 0.1242 - val_accuracy: 0.8667\n",
      "Epoch 73/100\n",
      "153/153 - 2s - loss: 0.0014 - accuracy: 0.9986 - val_loss: 0.1230 - val_accuracy: 0.8671\n",
      "Epoch 74/100\n",
      "153/153 - 2s - loss: 0.0013 - accuracy: 0.9988 - val_loss: 0.1256 - val_accuracy: 0.8654\n",
      "Epoch 75/100\n",
      "153/153 - 2s - loss: 0.0013 - accuracy: 0.9987 - val_loss: 0.1246 - val_accuracy: 0.8663\n",
      "Epoch 76/100\n",
      "153/153 - 2s - loss: 0.0014 - accuracy: 0.9985 - val_loss: 0.1264 - val_accuracy: 0.8657\n",
      "Epoch 77/100\n",
      "153/153 - 2s - loss: 0.0013 - accuracy: 0.9986 - val_loss: 0.1262 - val_accuracy: 0.8646\n",
      "Epoch 78/100\n",
      "153/153 - 2s - loss: 0.0014 - accuracy: 0.9987 - val_loss: 0.1261 - val_accuracy: 0.8640\n",
      "Epoch 79/100\n",
      "153/153 - 2s - loss: 0.0013 - accuracy: 0.9987 - val_loss: 0.1275 - val_accuracy: 0.8640\n",
      "Epoch 80/100\n",
      "153/153 - 2s - loss: 0.0014 - accuracy: 0.9987 - val_loss: 0.1268 - val_accuracy: 0.8634\n",
      "Epoch 81/100\n",
      "153/153 - 2s - loss: 0.0014 - accuracy: 0.9986 - val_loss: 0.1280 - val_accuracy: 0.8634\n"
     ]
    },
    {
     "name": "stdout",
     "output_type": "stream",
     "text": [
      "Epoch 82/100\n",
      "153/153 - 2s - loss: 0.0015 - accuracy: 0.9985 - val_loss: 0.1283 - val_accuracy: 0.8603\n",
      "Epoch 83/100\n",
      "153/153 - 2s - loss: 0.0017 - accuracy: 0.9983 - val_loss: 0.1253 - val_accuracy: 0.8648\n",
      "Epoch 84/100\n",
      "153/153 - 2s - loss: 0.0019 - accuracy: 0.9981 - val_loss: 0.1294 - val_accuracy: 0.8556\n",
      "Epoch 85/100\n",
      "153/153 - 2s - loss: 0.0022 - accuracy: 0.9975 - val_loss: 0.1281 - val_accuracy: 0.8611\n",
      "Epoch 86/100\n",
      "153/153 - 2s - loss: 0.0021 - accuracy: 0.9977 - val_loss: 0.1270 - val_accuracy: 0.8632\n",
      "Epoch 87/100\n",
      "153/153 - 2s - loss: 0.0016 - accuracy: 0.9985 - val_loss: 0.1277 - val_accuracy: 0.8620\n",
      "Epoch 88/100\n",
      "153/153 - 2s - loss: 0.0017 - accuracy: 0.9984 - val_loss: 0.1289 - val_accuracy: 0.8603\n",
      "Epoch 89/100\n",
      "153/153 - 2s - loss: 0.0016 - accuracy: 0.9984 - val_loss: 0.1307 - val_accuracy: 0.8603\n",
      "Epoch 90/100\n",
      "153/153 - 2s - loss: 0.0015 - accuracy: 0.9985 - val_loss: 0.1304 - val_accuracy: 0.8609\n",
      "Epoch 91/100\n",
      "153/153 - 2s - loss: 0.0015 - accuracy: 0.9985 - val_loss: 0.1295 - val_accuracy: 0.8613\n",
      "Epoch 92/100\n",
      "153/153 - 2s - loss: 0.0016 - accuracy: 0.9984 - val_loss: 0.1317 - val_accuracy: 0.8568\n",
      "Epoch 93/100\n",
      "153/153 - 2s - loss: 0.0016 - accuracy: 0.9985 - val_loss: 0.1264 - val_accuracy: 0.8642\n",
      "Epoch 94/100\n",
      "153/153 - 2s - loss: 0.0016 - accuracy: 0.9984 - val_loss: 0.1281 - val_accuracy: 0.8626\n",
      "Epoch 95/100\n",
      "153/153 - 2s - loss: 0.0014 - accuracy: 0.9985 - val_loss: 0.1294 - val_accuracy: 0.8601\n",
      "Epoch 96/100\n",
      "153/153 - 2s - loss: 0.0014 - accuracy: 0.9986 - val_loss: 0.1304 - val_accuracy: 0.8591\n",
      "Epoch 97/100\n",
      "153/153 - 2s - loss: 0.0016 - accuracy: 0.9983 - val_loss: 0.1267 - val_accuracy: 0.8640\n",
      "Epoch 98/100\n",
      "153/153 - 2s - loss: 0.0018 - accuracy: 0.9983 - val_loss: 0.1295 - val_accuracy: 0.8593\n",
      "Epoch 99/100\n",
      "153/153 - 2s - loss: 0.0021 - accuracy: 0.9976 - val_loss: 0.1330 - val_accuracy: 0.8574\n",
      "Epoch 100/100\n",
      "153/153 - 2s - loss: 0.0020 - accuracy: 0.9979 - val_loss: 0.1349 - val_accuracy: 0.8550\n"
     ]
    }
   ],
   "source": [
    "def train_model():\n",
    "\n",
    "  model = create_mlp_model()\n",
    "  model.compile(loss='mean_squared_error',optimizer=optimizer,\n",
    "                metrics=['accuracy'])\n",
    "  log_dir = \"logs/fit/\" + datetime.datetime.now().strftime(\"%Y%m%d-%H%M%S\")\n",
    "  tensorboard_callback = tf.keras.callbacks.TensorBoard(log_dir=log_dir, histogram_freq=1)\n",
    "  model.fit(train_padded,y = y_train,validation_data=(test_padded, y_test), epochs=100, batch_size=128, verbose = 2, shuffle=True, validation_split=0.2,callbacks=[tensorboard_callback])\n",
    "  return model\n",
    "\n",
    "model = train_model()"
   ]
  },
  {
   "cell_type": "code",
   "execution_count": 50,
   "metadata": {
    "scrolled": true
   },
   "outputs": [
    {
     "data": {
      "text/plain": [
       "Reusing TensorBoard on port 8088 (pid 2136), started 4:51:10 ago. (Use '!kill 2136' to kill it.)"
      ]
     },
     "metadata": {},
     "output_type": "display_data"
    },
    {
     "data": {
      "text/html": [
       "\n",
       "      <iframe id=\"tensorboard-frame-f37ca5c36ef0839a\" width=\"100%\" height=\"800\" frameborder=\"0\">\n",
       "      </iframe>\n",
       "      <script>\n",
       "        (function() {\n",
       "          const frame = document.getElementById(\"tensorboard-frame-f37ca5c36ef0839a\");\n",
       "          const url = new URL(\"/\", window.location);\n",
       "          const port = 8088;\n",
       "          if (port) {\n",
       "            url.port = port;\n",
       "          }\n",
       "          frame.src = url;\n",
       "        })();\n",
       "      </script>\n",
       "    "
      ],
      "text/plain": [
       "<IPython.core.display.HTML object>"
      ]
     },
     "metadata": {},
     "output_type": "display_data"
    }
   ],
   "source": [
    "%tensorboard --logdir logs/fit --host localhost --port 8088"
   ]
  },
  {
   "cell_type": "code",
   "execution_count": null,
   "metadata": {
    "execution": {
     "iopub.execute_input": "2022-01-30T23:16:14.87986Z",
     "iopub.status.busy": "2022-01-30T23:16:14.879532Z",
     "iopub.status.idle": "2022-01-30T23:16:14.889123Z",
     "shell.execute_reply": "2022-01-30T23:16:14.888583Z",
     "shell.execute_reply.started": "2022-01-30T23:16:14.879825Z"
    }
   },
   "outputs": [],
   "source": [
    "target.head()"
   ]
  },
  {
   "cell_type": "code",
   "execution_count": null,
   "metadata": {
    "execution": {
     "iopub.execute_input": "2022-01-30T23:16:51.718078Z",
     "iopub.status.busy": "2022-01-30T23:16:51.717771Z",
     "iopub.status.idle": "2022-01-30T23:16:51.722754Z",
     "shell.execute_reply": "2022-01-30T23:16:51.721817Z",
     "shell.execute_reply.started": "2022-01-30T23:16:51.718037Z"
    }
   },
   "outputs": [],
   "source": [
    "df_target = target"
   ]
  },
  {
   "cell_type": "code",
   "execution_count": null,
   "metadata": {},
   "outputs": [],
   "source": [
    "df_target['text'] = df_target['text'].apply(lambda text: stem_words(text))"
   ]
  },
  {
   "cell_type": "code",
   "execution_count": null,
   "metadata": {
    "execution": {
     "iopub.execute_input": "2022-01-30T23:16:57.40259Z",
     "iopub.status.busy": "2022-01-30T23:16:57.40217Z",
     "iopub.status.idle": "2022-01-30T23:16:57.586696Z",
     "shell.execute_reply": "2022-01-30T23:16:57.585893Z",
     "shell.execute_reply.started": "2022-01-30T23:16:57.402561Z"
    }
   },
   "outputs": [],
   "source": [
    "# Remove stopwords & convert to lower case\n",
    "df_target['text'] = df_target['text'].apply(lambda x: ' '.join([w for w in str(x).lower().split() if w not in STOPWORDS]))"
   ]
  },
  {
   "cell_type": "code",
   "execution_count": null,
   "metadata": {},
   "outputs": [],
   "source": [
    "# Remove Punctuations\n",
    "df_target[\"text\"] = df_target['text'].str.replace('[^\\w\\s]','')"
   ]
  },
  {
   "cell_type": "code",
   "execution_count": null,
   "metadata": {},
   "outputs": [],
   "source": [
    "df_target[\"text\"] = df_target['text'].apply(remove_emoji)"
   ]
  },
  {
   "cell_type": "code",
   "execution_count": null,
   "metadata": {},
   "outputs": [],
   "source": [
    "df_target[\"text\"] = df_target['text'].apply(remove_urls)"
   ]
  },
  {
   "cell_type": "code",
   "execution_count": null,
   "metadata": {
    "execution": {
     "iopub.execute_input": "2022-01-30T23:17:45.712342Z",
     "iopub.status.busy": "2022-01-30T23:17:45.712046Z",
     "iopub.status.idle": "2022-01-30T23:17:45.957842Z",
     "shell.execute_reply": "2022-01-30T23:17:45.956984Z",
     "shell.execute_reply.started": "2022-01-30T23:17:45.712309Z"
    }
   },
   "outputs": [],
   "source": [
    "target_seq = tokenizer.texts_to_sequences(df_target.text.values)\n",
    "target_padded = pad_sequences(\n",
    "    target_seq, maxlen=MAX_LEN, dtype='int32', padding='post',\n",
    "    truncating='post'\n",
    ")"
   ]
  },
  {
   "cell_type": "code",
   "execution_count": null,
   "metadata": {
    "execution": {
     "iopub.execute_input": "2022-01-30T23:18:04.029938Z",
     "iopub.status.busy": "2022-01-30T23:18:04.029098Z",
     "iopub.status.idle": "2022-01-30T23:18:04.334639Z",
     "shell.execute_reply": "2022-01-30T23:18:04.333713Z",
     "shell.execute_reply.started": "2022-01-30T23:18:04.029887Z"
    }
   },
   "outputs": [],
   "source": [
    "result = model.predict(target_padded)"
   ]
  },
  {
   "cell_type": "code",
   "execution_count": null,
   "metadata": {
    "execution": {
     "iopub.execute_input": "2022-01-30T23:22:49.050349Z",
     "iopub.status.busy": "2022-01-30T23:22:49.05002Z",
     "iopub.status.idle": "2022-01-30T23:22:49.055466Z",
     "shell.execute_reply": "2022-01-30T23:22:49.054603Z",
     "shell.execute_reply.started": "2022-01-30T23:22:49.050317Z"
    }
   },
   "outputs": [],
   "source": [
    "target['score'] = result"
   ]
  },
  {
   "cell_type": "code",
   "execution_count": null,
   "metadata": {
    "execution": {
     "iopub.execute_input": "2022-01-30T23:23:39.30864Z",
     "iopub.status.busy": "2022-01-30T23:23:39.30834Z",
     "iopub.status.idle": "2022-01-30T23:23:39.312986Z",
     "shell.execute_reply": "2022-01-30T23:23:39.312062Z",
     "shell.execute_reply.started": "2022-01-30T23:23:39.30861Z"
    }
   },
   "outputs": [],
   "source": [
    "from scipy.stats import rankdata"
   ]
  },
  {
   "cell_type": "code",
   "execution_count": null,
   "metadata": {
    "execution": {
     "iopub.execute_input": "2022-01-30T23:23:41.968279Z",
     "iopub.status.busy": "2022-01-30T23:23:41.967617Z",
     "iopub.status.idle": "2022-01-30T23:23:41.974921Z",
     "shell.execute_reply": "2022-01-30T23:23:41.974313Z",
     "shell.execute_reply.started": "2022-01-30T23:23:41.968208Z"
    }
   },
   "outputs": [],
   "source": [
    "target['score']= rankdata( target['score'], method='ordinal') "
   ]
  },
  {
   "cell_type": "code",
   "execution_count": null,
   "metadata": {
    "execution": {
     "iopub.execute_input": "2022-01-30T23:24:05.771437Z",
     "iopub.status.busy": "2022-01-30T23:24:05.77114Z",
     "iopub.status.idle": "2022-01-30T23:24:05.793992Z",
     "shell.execute_reply": "2022-01-30T23:24:05.793331Z",
     "shell.execute_reply.started": "2022-01-30T23:24:05.771406Z"
    }
   },
   "outputs": [],
   "source": [
    "target[['comment_id','score']].to_csv('submission.csv', index=False)"
   ]
  }
 ],
 "metadata": {
  "kernelspec": {
   "display_name": "Python 3",
   "language": "python",
   "name": "python3"
  },
  "language_info": {
   "codemirror_mode": {
    "name": "ipython",
    "version": 3
   },
   "file_extension": ".py",
   "mimetype": "text/x-python",
   "name": "python",
   "nbconvert_exporter": "python",
   "pygments_lexer": "ipython3",
   "version": "3.8.8"
  }
 },
 "nbformat": 4,
 "nbformat_minor": 4
}
