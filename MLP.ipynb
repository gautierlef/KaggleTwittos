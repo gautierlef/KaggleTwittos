{
 "cells": [
  {
   "cell_type": "code",
   "execution_count": 1,
   "metadata": {},
   "outputs": [],
   "source": [
    "%load_ext tensorboard"
   ]
  },
  {
   "cell_type": "code",
   "execution_count": 3,
   "metadata": {
    "execution": {
     "iopub.execute_input": "2022-01-30T22:28:56.906434Z",
     "iopub.status.busy": "2022-01-30T22:28:56.905553Z",
     "iopub.status.idle": "2022-01-30T22:28:56.912719Z",
     "shell.execute_reply": "2022-01-30T22:28:56.91171Z",
     "shell.execute_reply.started": "2022-01-30T22:28:56.906383Z"
    }
   },
   "outputs": [],
   "source": [
    "import numpy as np\n",
    "import pandas as pd\n",
    "import re\n",
    "#import emot \n",
    "#from emot import EMOTICONS_EMO\n",
    "import nltk\n",
    "from nltk.stem.porter import PorterStemmer\n",
    "import string\n",
    "from wordcloud import WordCloud, STOPWORDS\n",
    "\n",
    "import matplotlib.pyplot as plt\n",
    "\n",
    "import tensorflow as tf\n",
    "from tensorflow import keras\n",
    "from tensorflow.keras.preprocessing.text import Tokenizer\n",
    "from tensorflow.keras.preprocessing.sequence import pad_sequences\n",
    "import datetime, os"
   ]
  },
  {
   "cell_type": "code",
   "execution_count": 4,
   "metadata": {
    "execution": {
     "iopub.execute_input": "2022-01-30T22:28:56.915429Z",
     "iopub.status.busy": "2022-01-30T22:28:56.915085Z",
     "iopub.status.idle": "2022-01-30T22:28:58.455297Z",
     "shell.execute_reply": "2022-01-30T22:28:58.454237Z",
     "shell.execute_reply.started": "2022-01-30T22:28:56.915385Z"
    }
   },
   "outputs": [],
   "source": [
    "train = pd.read_csv('dataset/train.csv')\n",
    "test = pd.read_csv('dataset/validation_data.csv')\n",
    "target = pd.read_csv('dataset/comments_to_score.csv')\n",
    "sample = pd.read_csv('dataset/sample_submission.csv')"
   ]
  },
  {
   "cell_type": "code",
   "execution_count": 5,
   "metadata": {
    "execution": {
     "iopub.execute_input": "2022-01-30T22:28:58.456685Z",
     "iopub.status.busy": "2022-01-30T22:28:58.456447Z",
     "iopub.status.idle": "2022-01-30T22:28:58.467766Z",
     "shell.execute_reply": "2022-01-30T22:28:58.466928Z",
     "shell.execute_reply.started": "2022-01-30T22:28:58.456658Z"
    }
   },
   "outputs": [
    {
     "data": {
      "text/html": [
       "<div>\n",
       "<style scoped>\n",
       "    .dataframe tbody tr th:only-of-type {\n",
       "        vertical-align: middle;\n",
       "    }\n",
       "\n",
       "    .dataframe tbody tr th {\n",
       "        vertical-align: top;\n",
       "    }\n",
       "\n",
       "    .dataframe thead th {\n",
       "        text-align: right;\n",
       "    }\n",
       "</style>\n",
       "<table border=\"1\" class=\"dataframe\">\n",
       "  <thead>\n",
       "    <tr style=\"text-align: right;\">\n",
       "      <th></th>\n",
       "      <th>id</th>\n",
       "      <th>comment_text</th>\n",
       "      <th>toxic</th>\n",
       "      <th>severe_toxic</th>\n",
       "      <th>obscene</th>\n",
       "      <th>threat</th>\n",
       "      <th>insult</th>\n",
       "      <th>identity_hate</th>\n",
       "    </tr>\n",
       "  </thead>\n",
       "  <tbody>\n",
       "    <tr>\n",
       "      <th>0</th>\n",
       "      <td>0000997932d777bf</td>\n",
       "      <td>Explanation\\nWhy the edits made under my usern...</td>\n",
       "      <td>0</td>\n",
       "      <td>0</td>\n",
       "      <td>0</td>\n",
       "      <td>0</td>\n",
       "      <td>0</td>\n",
       "      <td>0</td>\n",
       "    </tr>\n",
       "    <tr>\n",
       "      <th>1</th>\n",
       "      <td>000103f0d9cfb60f</td>\n",
       "      <td>D'aww! He matches this background colour I'm s...</td>\n",
       "      <td>0</td>\n",
       "      <td>0</td>\n",
       "      <td>0</td>\n",
       "      <td>0</td>\n",
       "      <td>0</td>\n",
       "      <td>0</td>\n",
       "    </tr>\n",
       "    <tr>\n",
       "      <th>2</th>\n",
       "      <td>000113f07ec002fd</td>\n",
       "      <td>Hey man, I'm really not trying to edit war. It...</td>\n",
       "      <td>0</td>\n",
       "      <td>0</td>\n",
       "      <td>0</td>\n",
       "      <td>0</td>\n",
       "      <td>0</td>\n",
       "      <td>0</td>\n",
       "    </tr>\n",
       "    <tr>\n",
       "      <th>3</th>\n",
       "      <td>0001b41b1c6bb37e</td>\n",
       "      <td>\"\\nMore\\nI can't make any real suggestions on ...</td>\n",
       "      <td>0</td>\n",
       "      <td>0</td>\n",
       "      <td>0</td>\n",
       "      <td>0</td>\n",
       "      <td>0</td>\n",
       "      <td>0</td>\n",
       "    </tr>\n",
       "    <tr>\n",
       "      <th>4</th>\n",
       "      <td>0001d958c54c6e35</td>\n",
       "      <td>You, sir, are my hero. Any chance you remember...</td>\n",
       "      <td>0</td>\n",
       "      <td>0</td>\n",
       "      <td>0</td>\n",
       "      <td>0</td>\n",
       "      <td>0</td>\n",
       "      <td>0</td>\n",
       "    </tr>\n",
       "  </tbody>\n",
       "</table>\n",
       "</div>"
      ],
      "text/plain": [
       "                 id                                       comment_text  toxic  \\\n",
       "0  0000997932d777bf  Explanation\\nWhy the edits made under my usern...      0   \n",
       "1  000103f0d9cfb60f  D'aww! He matches this background colour I'm s...      0   \n",
       "2  000113f07ec002fd  Hey man, I'm really not trying to edit war. It...      0   \n",
       "3  0001b41b1c6bb37e  \"\\nMore\\nI can't make any real suggestions on ...      0   \n",
       "4  0001d958c54c6e35  You, sir, are my hero. Any chance you remember...      0   \n",
       "\n",
       "   severe_toxic  obscene  threat  insult  identity_hate  \n",
       "0             0        0       0       0              0  \n",
       "1             0        0       0       0              0  \n",
       "2             0        0       0       0              0  \n",
       "3             0        0       0       0              0  \n",
       "4             0        0       0       0              0  "
      ]
     },
     "execution_count": 5,
     "metadata": {},
     "output_type": "execute_result"
    }
   ],
   "source": [
    "train.head()"
   ]
  },
  {
   "cell_type": "code",
   "execution_count": 6,
   "metadata": {
    "execution": {
     "iopub.execute_input": "2022-01-30T22:28:58.46931Z",
     "iopub.status.busy": "2022-01-30T22:28:58.468963Z",
     "iopub.status.idle": "2022-01-30T22:28:58.495334Z",
     "shell.execute_reply": "2022-01-30T22:28:58.494493Z",
     "shell.execute_reply.started": "2022-01-30T22:28:58.469272Z"
    }
   },
   "outputs": [],
   "source": [
    "train['y'] = train[['toxic','severe_toxic','obscene','threat','insult','identity_hate']].sum(axis=1) > 0\n",
    "train.drop(['toxic','severe_toxic','obscene','threat','insult','identity_hate'], inplace=True, axis=1)"
   ]
  },
  {
   "cell_type": "code",
   "execution_count": 7,
   "metadata": {
    "execution": {
     "iopub.execute_input": "2022-01-30T22:28:58.497661Z",
     "iopub.status.busy": "2022-01-30T22:28:58.497339Z",
     "iopub.status.idle": "2022-01-30T22:28:58.508311Z",
     "shell.execute_reply": "2022-01-30T22:28:58.507331Z",
     "shell.execute_reply.started": "2022-01-30T22:28:58.497627Z"
    }
   },
   "outputs": [
    {
     "data": {
      "text/html": [
       "<div>\n",
       "<style scoped>\n",
       "    .dataframe tbody tr th:only-of-type {\n",
       "        vertical-align: middle;\n",
       "    }\n",
       "\n",
       "    .dataframe tbody tr th {\n",
       "        vertical-align: top;\n",
       "    }\n",
       "\n",
       "    .dataframe thead th {\n",
       "        text-align: right;\n",
       "    }\n",
       "</style>\n",
       "<table border=\"1\" class=\"dataframe\">\n",
       "  <thead>\n",
       "    <tr style=\"text-align: right;\">\n",
       "      <th></th>\n",
       "      <th>id</th>\n",
       "      <th>comment_text</th>\n",
       "      <th>y</th>\n",
       "    </tr>\n",
       "  </thead>\n",
       "  <tbody>\n",
       "    <tr>\n",
       "      <th>0</th>\n",
       "      <td>0000997932d777bf</td>\n",
       "      <td>Explanation\\nWhy the edits made under my usern...</td>\n",
       "      <td>False</td>\n",
       "    </tr>\n",
       "    <tr>\n",
       "      <th>1</th>\n",
       "      <td>000103f0d9cfb60f</td>\n",
       "      <td>D'aww! He matches this background colour I'm s...</td>\n",
       "      <td>False</td>\n",
       "    </tr>\n",
       "    <tr>\n",
       "      <th>2</th>\n",
       "      <td>000113f07ec002fd</td>\n",
       "      <td>Hey man, I'm really not trying to edit war. It...</td>\n",
       "      <td>False</td>\n",
       "    </tr>\n",
       "    <tr>\n",
       "      <th>3</th>\n",
       "      <td>0001b41b1c6bb37e</td>\n",
       "      <td>\"\\nMore\\nI can't make any real suggestions on ...</td>\n",
       "      <td>False</td>\n",
       "    </tr>\n",
       "    <tr>\n",
       "      <th>4</th>\n",
       "      <td>0001d958c54c6e35</td>\n",
       "      <td>You, sir, are my hero. Any chance you remember...</td>\n",
       "      <td>False</td>\n",
       "    </tr>\n",
       "  </tbody>\n",
       "</table>\n",
       "</div>"
      ],
      "text/plain": [
       "                 id                                       comment_text      y\n",
       "0  0000997932d777bf  Explanation\\nWhy the edits made under my usern...  False\n",
       "1  000103f0d9cfb60f  D'aww! He matches this background colour I'm s...  False\n",
       "2  000113f07ec002fd  Hey man, I'm really not trying to edit war. It...  False\n",
       "3  0001b41b1c6bb37e  \"\\nMore\\nI can't make any real suggestions on ...  False\n",
       "4  0001d958c54c6e35  You, sir, are my hero. Any chance you remember...  False"
      ]
     },
     "execution_count": 7,
     "metadata": {},
     "output_type": "execute_result"
    }
   ],
   "source": [
    "train.head()"
   ]
  },
  {
   "cell_type": "code",
   "execution_count": 8,
   "metadata": {
    "execution": {
     "iopub.execute_input": "2022-01-30T22:28:58.510663Z",
     "iopub.status.busy": "2022-01-30T22:28:58.509661Z",
     "iopub.status.idle": "2022-01-30T22:28:58.524063Z",
     "shell.execute_reply": "2022-01-30T22:28:58.522824Z",
     "shell.execute_reply.started": "2022-01-30T22:28:58.510594Z"
    }
   },
   "outputs": [
    {
     "data": {
      "text/plain": [
       "array([False,  True])"
      ]
     },
     "execution_count": 8,
     "metadata": {},
     "output_type": "execute_result"
    }
   ],
   "source": [
    "train.y.unique()"
   ]
  },
  {
   "cell_type": "code",
   "execution_count": 9,
   "metadata": {
    "execution": {
     "iopub.execute_input": "2022-01-30T22:28:58.527449Z",
     "iopub.status.busy": "2022-01-30T22:28:58.525551Z",
     "iopub.status.idle": "2022-01-30T22:28:58.671444Z",
     "shell.execute_reply": "2022-01-30T22:28:58.670431Z",
     "shell.execute_reply.started": "2022-01-30T22:28:58.527397Z"
    }
   },
   "outputs": [
    {
     "data": {
      "text/plain": [
       "<AxesSubplot:>"
      ]
     },
     "execution_count": 9,
     "metadata": {},
     "output_type": "execute_result"
    },
    {
     "data": {
      "image/png": "[encoded data removed]",
      "text/plain": [
       "<Figure size 432x288 with 1 Axes>"
      ]
     },
     "metadata": {
      "needs_background": "light"
     },
     "output_type": "display_data"
    }
   ],
   "source": [
    "train.y.value_counts().plot(kind='barh')"
   ]
  },
  {
   "cell_type": "code",
   "execution_count": 10,
   "metadata": {
    "execution": {
     "iopub.execute_input": "2022-01-30T22:28:58.674424Z",
     "iopub.status.busy": "2022-01-30T22:28:58.673665Z",
     "iopub.status.idle": "2022-01-30T22:28:58.686945Z",
     "shell.execute_reply": "2022-01-30T22:28:58.686395Z",
     "shell.execute_reply.started": "2022-01-30T22:28:58.674376Z"
    }
   },
   "outputs": [
    {
     "data": {
      "text/plain": [
       "16225"
      ]
     },
     "execution_count": 10,
     "metadata": {},
     "output_type": "execute_result"
    }
   ],
   "source": [
    "count_of_toxic_comments =  train[train.y != 0].shape[0]\n",
    "count_of_toxic_comments"
   ]
  },
  {
   "cell_type": "code",
   "execution_count": 11,
   "metadata": {
    "execution": {
     "iopub.execute_input": "2022-01-30T22:28:58.690441Z",
     "iopub.status.busy": "2022-01-30T22:28:58.688203Z",
     "iopub.status.idle": "2022-01-30T22:28:58.723946Z",
     "shell.execute_reply": "2022-01-30T22:28:58.723255Z",
     "shell.execute_reply.started": "2022-01-30T22:28:58.690382Z"
    }
   },
   "outputs": [],
   "source": [
    "train_toxic = train[train.y != 0]\n",
    "train_non_toxic = train[train.y == 0].sample(count_of_toxic_comments)"
   ]
  },
  {
   "cell_type": "code",
   "execution_count": 12,
   "metadata": {
    "execution": {
     "iopub.execute_input": "2022-01-30T22:28:58.725816Z",
     "iopub.status.busy": "2022-01-30T22:28:58.725507Z",
     "iopub.status.idle": "2022-01-30T22:28:58.74402Z",
     "shell.execute_reply": "2022-01-30T22:28:58.742868Z",
     "shell.execute_reply.started": "2022-01-30T22:28:58.725776Z"
    }
   },
   "outputs": [
    {
     "data": {
      "text/html": [
       "<div>\n",
       "<style scoped>\n",
       "    .dataframe tbody tr th:only-of-type {\n",
       "        vertical-align: middle;\n",
       "    }\n",
       "\n",
       "    .dataframe tbody tr th {\n",
       "        vertical-align: top;\n",
       "    }\n",
       "\n",
       "    .dataframe thead th {\n",
       "        text-align: right;\n",
       "    }\n",
       "</style>\n",
       "<table border=\"1\" class=\"dataframe\">\n",
       "  <thead>\n",
       "    <tr style=\"text-align: right;\">\n",
       "      <th></th>\n",
       "      <th>id</th>\n",
       "      <th>comment_text</th>\n",
       "      <th>y</th>\n",
       "    </tr>\n",
       "  </thead>\n",
       "  <tbody>\n",
       "    <tr>\n",
       "      <th>6</th>\n",
       "      <td>0002bcb3da6cb337</td>\n",
       "      <td>COCKSUCKER BEFORE YOU PISS AROUND ON MY WORK</td>\n",
       "      <td>True</td>\n",
       "    </tr>\n",
       "    <tr>\n",
       "      <th>12</th>\n",
       "      <td>0005c987bdfc9d4b</td>\n",
       "      <td>Hey... what is it..\\n@ | talk .\\nWhat is it......</td>\n",
       "      <td>True</td>\n",
       "    </tr>\n",
       "    <tr>\n",
       "      <th>16</th>\n",
       "      <td>0007e25b2121310b</td>\n",
       "      <td>Bye! \\n\\nDon't look, come or think of comming ...</td>\n",
       "      <td>True</td>\n",
       "    </tr>\n",
       "    <tr>\n",
       "      <th>42</th>\n",
       "      <td>001810bf8c45bf5f</td>\n",
       "      <td>You are gay or antisemmitian? \\n\\nArchangel WH...</td>\n",
       "      <td>True</td>\n",
       "    </tr>\n",
       "    <tr>\n",
       "      <th>43</th>\n",
       "      <td>00190820581d90ce</td>\n",
       "      <td>FUCK YOUR FILTHY MOTHER IN THE ASS, DRY!</td>\n",
       "      <td>True</td>\n",
       "    </tr>\n",
       "    <tr>\n",
       "      <th>...</th>\n",
       "      <td>...</td>\n",
       "      <td>...</td>\n",
       "      <td>...</td>\n",
       "    </tr>\n",
       "    <tr>\n",
       "      <th>96360</th>\n",
       "      <td>036ac588de682671</td>\n",
       "      <td>By the way, I had no problem translating only ...</td>\n",
       "      <td>False</td>\n",
       "    </tr>\n",
       "    <tr>\n",
       "      <th>75013</th>\n",
       "      <td>c8b61837a86e9d66</td>\n",
       "      <td>\"\\n\\n Concern \\n\\nI'm concerned of all the use...</td>\n",
       "      <td>False</td>\n",
       "    </tr>\n",
       "    <tr>\n",
       "      <th>12327</th>\n",
       "      <td>20ae5843d010d39b</td>\n",
       "      <td>Turkey 14 March 2003 \\n\\nI'd say the situation...</td>\n",
       "      <td>False</td>\n",
       "    </tr>\n",
       "    <tr>\n",
       "      <th>45960</th>\n",
       "      <td>7ace2915af79a67d</td>\n",
       "      <td>\"\\n \"\"Dominion\"\" was not used to to indicate \"...</td>\n",
       "      <td>False</td>\n",
       "    </tr>\n",
       "    <tr>\n",
       "      <th>135692</th>\n",
       "      <td>d5af1baae5529b2e</td>\n",
       "      <td>I sent a message, with respect.</td>\n",
       "      <td>False</td>\n",
       "    </tr>\n",
       "  </tbody>\n",
       "</table>\n",
       "<p>32450 rows × 3 columns</p>\n",
       "</div>"
      ],
      "text/plain": [
       "                      id                                       comment_text  \\\n",
       "6       0002bcb3da6cb337       COCKSUCKER BEFORE YOU PISS AROUND ON MY WORK   \n",
       "12      0005c987bdfc9d4b  Hey... what is it..\\n@ | talk .\\nWhat is it......   \n",
       "16      0007e25b2121310b  Bye! \\n\\nDon't look, come or think of comming ...   \n",
       "42      001810bf8c45bf5f  You are gay or antisemmitian? \\n\\nArchangel WH...   \n",
       "43      00190820581d90ce           FUCK YOUR FILTHY MOTHER IN THE ASS, DRY!   \n",
       "...                  ...                                                ...   \n",
       "96360   036ac588de682671  By the way, I had no problem translating only ...   \n",
       "75013   c8b61837a86e9d66  \"\\n\\n Concern \\n\\nI'm concerned of all the use...   \n",
       "12327   20ae5843d010d39b  Turkey 14 March 2003 \\n\\nI'd say the situation...   \n",
       "45960   7ace2915af79a67d  \"\\n \"\"Dominion\"\" was not used to to indicate \"...   \n",
       "135692  d5af1baae5529b2e                    I sent a message, with respect.   \n",
       "\n",
       "            y  \n",
       "6        True  \n",
       "12       True  \n",
       "16       True  \n",
       "42       True  \n",
       "43       True  \n",
       "...       ...  \n",
       "96360   False  \n",
       "75013   False  \n",
       "12327   False  \n",
       "45960   False  \n",
       "135692  False  \n",
       "\n",
       "[32450 rows x 3 columns]"
      ]
     },
     "execution_count": 12,
     "metadata": {},
     "output_type": "execute_result"
    }
   ],
   "source": [
    "df = pd.concat([train_toxic, train_non_toxic])\n",
    "df"
   ]
  },
  {
   "cell_type": "code",
   "execution_count": 13,
   "metadata": {
    "execution": {
     "iopub.execute_input": "2022-01-30T22:28:58.746028Z",
     "iopub.status.busy": "2022-01-30T22:28:58.745444Z",
     "iopub.status.idle": "2022-01-30T22:28:58.888219Z",
     "shell.execute_reply": "2022-01-30T22:28:58.8873Z",
     "shell.execute_reply.started": "2022-01-30T22:28:58.745981Z"
    }
   },
   "outputs": [
    {
     "data": {
      "text/plain": [
       "<AxesSubplot:>"
      ]
     },
     "execution_count": 13,
     "metadata": {},
     "output_type": "execute_result"
    },
    {
     "data": {
      "image/png": "[encoded data removed]",
      "text/plain": [
       "<Figure size 432x288 with 1 Axes>"
      ]
     },
     "metadata": {
      "needs_background": "light"
     },
     "output_type": "display_data"
    }
   ],
   "source": [
    "df.y.value_counts().plot(kind='barh')"
   ]
  },
  {
   "cell_type": "code",
   "execution_count": 14,
   "metadata": {
    "execution": {
     "iopub.execute_input": "2022-01-30T22:28:58.890042Z",
     "iopub.status.busy": "2022-01-30T22:28:58.889648Z",
     "iopub.status.idle": "2022-01-30T22:29:01.4791Z",
     "shell.execute_reply": "2022-01-30T22:29:01.478213Z",
     "shell.execute_reply.started": "2022-01-30T22:28:58.889992Z"
    }
   },
   "outputs": [
    {
     "data": {
      "text/html": [
       "<div>\n",
       "<style scoped>\n",
       "    .dataframe tbody tr th:only-of-type {\n",
       "        vertical-align: middle;\n",
       "    }\n",
       "\n",
       "    .dataframe tbody tr th {\n",
       "        vertical-align: top;\n",
       "    }\n",
       "\n",
       "    .dataframe thead th {\n",
       "        text-align: right;\n",
       "    }\n",
       "</style>\n",
       "<table border=\"1\" class=\"dataframe\">\n",
       "  <thead>\n",
       "    <tr style=\"text-align: right;\">\n",
       "      <th></th>\n",
       "      <th>id</th>\n",
       "      <th>comment_text</th>\n",
       "      <th>y</th>\n",
       "      <th>word_count</th>\n",
       "      <th>unique_word_count</th>\n",
       "      <th>stop_word_count</th>\n",
       "      <th>mean_word_length</th>\n",
       "      <th>char_count</th>\n",
       "      <th>punctuation_count</th>\n",
       "    </tr>\n",
       "  </thead>\n",
       "  <tbody>\n",
       "    <tr>\n",
       "      <th>96360</th>\n",
       "      <td>036ac588de682671</td>\n",
       "      <td>By the way, I had no problem translating only ...</td>\n",
       "      <td>False</td>\n",
       "      <td>17</td>\n",
       "      <td>15</td>\n",
       "      <td>9</td>\n",
       "      <td>4.470588</td>\n",
       "      <td>92</td>\n",
       "      <td>2</td>\n",
       "    </tr>\n",
       "    <tr>\n",
       "      <th>75013</th>\n",
       "      <td>c8b61837a86e9d66</td>\n",
       "      <td>\"\\n\\n Concern \\n\\nI'm concerned of all the use...</td>\n",
       "      <td>False</td>\n",
       "      <td>55</td>\n",
       "      <td>47</td>\n",
       "      <td>26</td>\n",
       "      <td>4.581818</td>\n",
       "      <td>315</td>\n",
       "      <td>19</td>\n",
       "    </tr>\n",
       "    <tr>\n",
       "      <th>12327</th>\n",
       "      <td>20ae5843d010d39b</td>\n",
       "      <td>Turkey 14 March 2003 \\n\\nI'd say the situation...</td>\n",
       "      <td>False</td>\n",
       "      <td>43</td>\n",
       "      <td>38</td>\n",
       "      <td>21</td>\n",
       "      <td>4.627907</td>\n",
       "      <td>243</td>\n",
       "      <td>6</td>\n",
       "    </tr>\n",
       "    <tr>\n",
       "      <th>45960</th>\n",
       "      <td>7ace2915af79a67d</td>\n",
       "      <td>\"\\n \"\"Dominion\"\" was not used to to indicate \"...</td>\n",
       "      <td>False</td>\n",
       "      <td>43</td>\n",
       "      <td>31</td>\n",
       "      <td>19</td>\n",
       "      <td>5.348837</td>\n",
       "      <td>275</td>\n",
       "      <td>16</td>\n",
       "    </tr>\n",
       "    <tr>\n",
       "      <th>135692</th>\n",
       "      <td>d5af1baae5529b2e</td>\n",
       "      <td>I sent a message, with respect.</td>\n",
       "      <td>False</td>\n",
       "      <td>6</td>\n",
       "      <td>6</td>\n",
       "      <td>3</td>\n",
       "      <td>4.333333</td>\n",
       "      <td>31</td>\n",
       "      <td>2</td>\n",
       "    </tr>\n",
       "  </tbody>\n",
       "</table>\n",
       "</div>"
      ],
      "text/plain": [
       "                      id                                       comment_text  \\\n",
       "96360   036ac588de682671  By the way, I had no problem translating only ...   \n",
       "75013   c8b61837a86e9d66  \"\\n\\n Concern \\n\\nI'm concerned of all the use...   \n",
       "12327   20ae5843d010d39b  Turkey 14 March 2003 \\n\\nI'd say the situation...   \n",
       "45960   7ace2915af79a67d  \"\\n \"\"Dominion\"\" was not used to to indicate \"...   \n",
       "135692  d5af1baae5529b2e                    I sent a message, with respect.   \n",
       "\n",
       "            y  word_count  unique_word_count  stop_word_count  \\\n",
       "96360   False          17                 15                9   \n",
       "75013   False          55                 47               26   \n",
       "12327   False          43                 38               21   \n",
       "45960   False          43                 31               19   \n",
       "135692  False           6                  6                3   \n",
       "\n",
       "        mean_word_length  char_count  punctuation_count  \n",
       "96360           4.470588          92                  2  \n",
       "75013           4.581818         315                 19  \n",
       "12327           4.627907         243                  6  \n",
       "45960           5.348837         275                 16  \n",
       "135692          4.333333          31                  2  "
      ]
     },
     "execution_count": 14,
     "metadata": {},
     "output_type": "execute_result"
    }
   ],
   "source": [
    "# word_count\n",
    "df['word_count'] = df['comment_text'].apply(lambda x: len(str(x).split()))\n",
    "\n",
    "# unique_word_count\n",
    "df['unique_word_count'] = df['comment_text'].apply(lambda x: len(set(str(x).split())))\n",
    "\n",
    "# stop_word_count\n",
    "df['stop_word_count'] = df['comment_text'].apply(lambda x: len([w for w in str(x).lower().split() if w in STOPWORDS]))\n",
    "\n",
    "# mean_word_length\n",
    "df['mean_word_length'] = df['comment_text'].apply(lambda x: np.mean([len(w) for w in str(x).split()]))\n",
    "\n",
    "# char_count\n",
    "df['char_count'] = df['comment_text'].apply(lambda x: len(str(x)))\n",
    "\n",
    "# punctuation_count\n",
    "df['punctuation_count'] = df['comment_text'].apply(lambda x: len([c for c in str(x) if c in string.punctuation]))\n",
    "    \n",
    "df.tail()"
   ]
  },
  {
   "cell_type": "code",
   "execution_count": 15,
   "metadata": {},
   "outputs": [],
   "source": [
    "# #Spelling correction\n",
    "# from spellchecker import SpellChecker\n",
    "\n",
    "# spell = SpellChecker()\n",
    "# def correct_spellings(text):\n",
    "#     corrected_text = []\n",
    "# #     misspelled_words = spell.unknown(text.split())\n",
    "#     for word in text.split():\n",
    "#         if word in misspelled_words:\n",
    "#             corrected_text.append(spell.correction(word))\n",
    "#         else:\n",
    "#             corrected_text.append(word)\n",
    "#     return \" \".join(corrected_text)\n",
    "\n",
    "# df[\"comment_text\"]= df[\"comment_text\"].apply(correct_spellings)"
   ]
  },
  {
   "cell_type": "code",
   "execution_count": 16,
   "metadata": {
    "execution": {
     "iopub.execute_input": "2022-01-30T22:29:01.498698Z",
     "iopub.status.busy": "2022-01-30T22:29:01.498455Z",
     "iopub.status.idle": "2022-01-30T22:29:01.537656Z",
     "shell.execute_reply": "2022-01-30T22:29:01.536646Z",
     "shell.execute_reply.started": "2022-01-30T22:29:01.498671Z"
    }
   },
   "outputs": [
    {
     "data": {
      "text/html": [
       "<div>\n",
       "<style scoped>\n",
       "    .dataframe tbody tr th:only-of-type {\n",
       "        vertical-align: middle;\n",
       "    }\n",
       "\n",
       "    .dataframe tbody tr th {\n",
       "        vertical-align: top;\n",
       "    }\n",
       "\n",
       "    .dataframe thead th {\n",
       "        text-align: right;\n",
       "    }\n",
       "</style>\n",
       "<table border=\"1\" class=\"dataframe\">\n",
       "  <thead>\n",
       "    <tr style=\"text-align: right;\">\n",
       "      <th></th>\n",
       "      <th>word_count</th>\n",
       "      <th>unique_word_count</th>\n",
       "      <th>stop_word_count</th>\n",
       "      <th>mean_word_length</th>\n",
       "      <th>char_count</th>\n",
       "      <th>punctuation_count</th>\n",
       "    </tr>\n",
       "  </thead>\n",
       "  <tbody>\n",
       "    <tr>\n",
       "      <th>count</th>\n",
       "      <td>32450.000000</td>\n",
       "      <td>32450.000000</td>\n",
       "      <td>32450.000000</td>\n",
       "      <td>32450.000000</td>\n",
       "      <td>32450.000000</td>\n",
       "      <td>32450.000000</td>\n",
       "    </tr>\n",
       "    <tr>\n",
       "      <th>mean</th>\n",
       "      <td>60.719045</td>\n",
       "      <td>41.483082</td>\n",
       "      <td>27.470663</td>\n",
       "      <td>5.047528</td>\n",
       "      <td>353.107581</td>\n",
       "      <td>15.235593</td>\n",
       "    </tr>\n",
       "    <tr>\n",
       "      <th>std</th>\n",
       "      <td>102.330680</td>\n",
       "      <td>49.356023</td>\n",
       "      <td>46.673799</td>\n",
       "      <td>15.192434</td>\n",
       "      <td>602.180079</td>\n",
       "      <td>60.885434</td>\n",
       "    </tr>\n",
       "    <tr>\n",
       "      <th>min</th>\n",
       "      <td>1.000000</td>\n",
       "      <td>1.000000</td>\n",
       "      <td>0.000000</td>\n",
       "      <td>1.000000</td>\n",
       "      <td>8.000000</td>\n",
       "      <td>0.000000</td>\n",
       "    </tr>\n",
       "    <tr>\n",
       "      <th>25%</th>\n",
       "      <td>14.000000</td>\n",
       "      <td>12.000000</td>\n",
       "      <td>5.000000</td>\n",
       "      <td>4.214286</td>\n",
       "      <td>77.000000</td>\n",
       "      <td>3.000000</td>\n",
       "    </tr>\n",
       "    <tr>\n",
       "      <th>50%</th>\n",
       "      <td>30.000000</td>\n",
       "      <td>26.000000</td>\n",
       "      <td>13.000000</td>\n",
       "      <td>4.605263</td>\n",
       "      <td>169.000000</td>\n",
       "      <td>7.000000</td>\n",
       "    </tr>\n",
       "    <tr>\n",
       "      <th>75%</th>\n",
       "      <td>64.000000</td>\n",
       "      <td>51.000000</td>\n",
       "      <td>30.000000</td>\n",
       "      <td>5.030147</td>\n",
       "      <td>366.000000</td>\n",
       "      <td>15.000000</td>\n",
       "    </tr>\n",
       "    <tr>\n",
       "      <th>max</th>\n",
       "      <td>1411.000000</td>\n",
       "      <td>480.000000</td>\n",
       "      <td>902.000000</td>\n",
       "      <td>1655.000000</td>\n",
       "      <td>5000.000000</td>\n",
       "      <td>4942.000000</td>\n",
       "    </tr>\n",
       "  </tbody>\n",
       "</table>\n",
       "</div>"
      ],
      "text/plain": [
       "         word_count  unique_word_count  stop_word_count  mean_word_length  \\\n",
       "count  32450.000000       32450.000000     32450.000000      32450.000000   \n",
       "mean      60.719045          41.483082        27.470663          5.047528   \n",
       "std      102.330680          49.356023        46.673799         15.192434   \n",
       "min        1.000000           1.000000         0.000000          1.000000   \n",
       "25%       14.000000          12.000000         5.000000          4.214286   \n",
       "50%       30.000000          26.000000        13.000000          4.605263   \n",
       "75%       64.000000          51.000000        30.000000          5.030147   \n",
       "max     1411.000000         480.000000       902.000000       1655.000000   \n",
       "\n",
       "         char_count  punctuation_count  \n",
       "count  32450.000000       32450.000000  \n",
       "mean     353.107581          15.235593  \n",
       "std      602.180079          60.885434  \n",
       "min        8.000000           0.000000  \n",
       "25%       77.000000           3.000000  \n",
       "50%      169.000000           7.000000  \n",
       "75%      366.000000          15.000000  \n",
       "max     5000.000000        4942.000000  "
      ]
     },
     "execution_count": 16,
     "metadata": {},
     "output_type": "execute_result"
    }
   ],
   "source": [
    "df.describe()"
   ]
  },
  {
   "cell_type": "code",
   "execution_count": 17,
   "metadata": {
    "execution": {
     "iopub.execute_input": "2022-01-30T22:29:01.548215Z",
     "iopub.status.busy": "2022-01-30T22:29:01.547955Z",
     "iopub.status.idle": "2022-01-30T22:29:02.289853Z",
     "shell.execute_reply": "2022-01-30T22:29:02.289157Z",
     "shell.execute_reply.started": "2022-01-30T22:29:01.548188Z"
    }
   },
   "outputs": [],
   "source": [
    "# Remove stopwords & convert to lower case\n",
    "#df['comment_text'] = df['comment_text'].apply(lambda text: remove_stopwords(text))\n",
    "df['comment_text'] = df['comment_text'].apply(lambda x: ' '.join([w for w in str(x).lower().split() if w not in STOPWORDS]))"
   ]
  },
  {
   "cell_type": "code",
   "execution_count": 18,
   "metadata": {},
   "outputs": [
    {
     "name": "stderr",
     "output_type": "stream",
     "text": [
      "<ipython-input-18-188543086b1c>:2: FutureWarning: The default value of regex will change from True to False in a future version.\n",
      "  df[\"comment_text\"] = df['comment_text'].str.replace('[^\\w\\s]','')\n"
     ]
    }
   ],
   "source": [
    "# Remove Punctuations\n",
    "df[\"comment_text\"] = df['comment_text'].str.replace('[^\\w\\s]','')"
   ]
  },
  {
   "cell_type": "code",
   "execution_count": 19,
   "metadata": {},
   "outputs": [
    {
     "data": {
      "text/html": [
       "<div>\n",
       "<style scoped>\n",
       "    .dataframe tbody tr th:only-of-type {\n",
       "        vertical-align: middle;\n",
       "    }\n",
       "\n",
       "    .dataframe tbody tr th {\n",
       "        vertical-align: top;\n",
       "    }\n",
       "\n",
       "    .dataframe thead th {\n",
       "        text-align: right;\n",
       "    }\n",
       "</style>\n",
       "<table border=\"1\" class=\"dataframe\">\n",
       "  <thead>\n",
       "    <tr style=\"text-align: right;\">\n",
       "      <th></th>\n",
       "      <th>id</th>\n",
       "      <th>comment_text</th>\n",
       "      <th>y</th>\n",
       "      <th>word_count</th>\n",
       "      <th>unique_word_count</th>\n",
       "      <th>stop_word_count</th>\n",
       "      <th>mean_word_length</th>\n",
       "      <th>char_count</th>\n",
       "      <th>punctuation_count</th>\n",
       "    </tr>\n",
       "  </thead>\n",
       "  <tbody>\n",
       "    <tr>\n",
       "      <th>96360</th>\n",
       "      <td>036ac588de682671</td>\n",
       "      <td>way problem translating sole sentence rather e...</td>\n",
       "      <td>False</td>\n",
       "      <td>8</td>\n",
       "      <td>8</td>\n",
       "      <td>0</td>\n",
       "      <td>6.125000</td>\n",
       "      <td>56</td>\n",
       "      <td>0</td>\n",
       "    </tr>\n",
       "    <tr>\n",
       "      <th>75013</th>\n",
       "      <td>c8b61837a86e9d66</td>\n",
       "      <td>concern concerned userboxes deleted en masse ...</td>\n",
       "      <td>False</td>\n",
       "      <td>27</td>\n",
       "      <td>27</td>\n",
       "      <td>2</td>\n",
       "      <td>5.962963</td>\n",
       "      <td>189</td>\n",
       "      <td>0</td>\n",
       "    </tr>\n",
       "    <tr>\n",
       "      <th>12327</th>\n",
       "      <td>20ae5843d010d39b</td>\n",
       "      <td>turkey 14 march 2003 say situation fits defini...</td>\n",
       "      <td>False</td>\n",
       "      <td>22</td>\n",
       "      <td>22</td>\n",
       "      <td>0</td>\n",
       "      <td>5.954545</td>\n",
       "      <td>152</td>\n",
       "      <td>0</td>\n",
       "    </tr>\n",
       "    <tr>\n",
       "      <th>45960</th>\n",
       "      <td>7ace2915af79a67d</td>\n",
       "      <td>dominion used indicate semiindependent selfgo...</td>\n",
       "      <td>False</td>\n",
       "      <td>22</td>\n",
       "      <td>18</td>\n",
       "      <td>0</td>\n",
       "      <td>7.363636</td>\n",
       "      <td>185</td>\n",
       "      <td>0</td>\n",
       "    </tr>\n",
       "    <tr>\n",
       "      <th>135692</th>\n",
       "      <td>d5af1baae5529b2e</td>\n",
       "      <td>sent message respect</td>\n",
       "      <td>False</td>\n",
       "      <td>3</td>\n",
       "      <td>3</td>\n",
       "      <td>0</td>\n",
       "      <td>6.000000</td>\n",
       "      <td>20</td>\n",
       "      <td>0</td>\n",
       "    </tr>\n",
       "  </tbody>\n",
       "</table>\n",
       "</div>"
      ],
      "text/plain": [
       "                      id                                       comment_text  \\\n",
       "96360   036ac588de682671  way problem translating sole sentence rather e...   \n",
       "75013   c8b61837a86e9d66   concern concerned userboxes deleted en masse ...   \n",
       "12327   20ae5843d010d39b  turkey 14 march 2003 say situation fits defini...   \n",
       "45960   7ace2915af79a67d   dominion used indicate semiindependent selfgo...   \n",
       "135692  d5af1baae5529b2e                               sent message respect   \n",
       "\n",
       "            y  word_count  unique_word_count  stop_word_count  \\\n",
       "96360   False           8                  8                0   \n",
       "75013   False          27                 27                2   \n",
       "12327   False          22                 22                0   \n",
       "45960   False          22                 18                0   \n",
       "135692  False           3                  3                0   \n",
       "\n",
       "        mean_word_length  char_count  punctuation_count  \n",
       "96360           6.125000          56                  0  \n",
       "75013           5.962963         189                  0  \n",
       "12327           5.954545         152                  0  \n",
       "45960           7.363636         185                  0  \n",
       "135692          6.000000          20                  0  "
      ]
     },
     "execution_count": 19,
     "metadata": {},
     "output_type": "execute_result"
    }
   ],
   "source": [
    "# word_count\n",
    "df['word_count'] = df['comment_text'].apply(lambda x: len(str(x).split()))\n",
    "\n",
    "# unique_word_count\n",
    "df['unique_word_count'] = df['comment_text'].apply(lambda x: len(set(str(x).split())))\n",
    "\n",
    "# stop_word_count\n",
    "df['stop_word_count'] = df['comment_text'].apply(lambda x: len([w for w in str(x).lower().split() if w in STOPWORDS]))\n",
    "\n",
    "# mean_word_length\n",
    "df['mean_word_length'] = df['comment_text'].apply(lambda x: np.mean([len(w) for w in str(x).split()]))\n",
    "\n",
    "# char_count\n",
    "df['char_count'] = df['comment_text'].apply(lambda x: len(str(x)))\n",
    "\n",
    "# punctuation_count\n",
    "df['punctuation_count'] = df['comment_text'].apply(lambda x: len([c for c in str(x) if c in string.punctuation]))\n",
    "    \n",
    "df.tail()"
   ]
  },
  {
   "cell_type": "code",
   "execution_count": 20,
   "metadata": {},
   "outputs": [],
   "source": [
    "#Removal of emojis"
   ]
  },
  {
   "cell_type": "code",
   "execution_count": 21,
   "metadata": {},
   "outputs": [],
   "source": [
    "def remove_emoji(string):\n",
    "    emoji_pattern = re.compile(\"[\"\n",
    "                           u\"\\U0001F600-\\U0001F64F\"  # emoticons\n",
    "                           u\"\\U0001F300-\\U0001F5FF\"  # symbols & pictographs\n",
    "                           u\"\\U0001F680-\\U0001F6FF\"  # transport & map symbols\n",
    "                           u\"\\U0001F1E0-\\U0001F1FF\"  # flags (iOS)\n",
    "                           u\"\\U00002702-\\U000027B0\"\n",
    "                           u\"\\U000024C2-\\U0001F251\"\n",
    "                           \"]+\", flags=re.UNICODE)\n",
    "    return emoji_pattern.sub(r'', string)\n",
    "\n",
    "df[\"comment_text\"]= df[\"comment_text\"].apply(lambda string : remove_emoji(string))"
   ]
  },
  {
   "cell_type": "code",
   "execution_count": 22,
   "metadata": {
    "scrolled": true
   },
   "outputs": [
    {
     "data": {
      "text/html": [
       "<div>\n",
       "<style scoped>\n",
       "    .dataframe tbody tr th:only-of-type {\n",
       "        vertical-align: middle;\n",
       "    }\n",
       "\n",
       "    .dataframe tbody tr th {\n",
       "        vertical-align: top;\n",
       "    }\n",
       "\n",
       "    .dataframe thead th {\n",
       "        text-align: right;\n",
       "    }\n",
       "</style>\n",
       "<table border=\"1\" class=\"dataframe\">\n",
       "  <thead>\n",
       "    <tr style=\"text-align: right;\">\n",
       "      <th></th>\n",
       "      <th>id</th>\n",
       "      <th>comment_text</th>\n",
       "      <th>y</th>\n",
       "      <th>word_count</th>\n",
       "      <th>unique_word_count</th>\n",
       "      <th>stop_word_count</th>\n",
       "      <th>mean_word_length</th>\n",
       "      <th>char_count</th>\n",
       "      <th>punctuation_count</th>\n",
       "    </tr>\n",
       "  </thead>\n",
       "  <tbody>\n",
       "    <tr>\n",
       "      <th>96360</th>\n",
       "      <td>036ac588de682671</td>\n",
       "      <td>way problem translating sole sentence rather e...</td>\n",
       "      <td>False</td>\n",
       "      <td>8</td>\n",
       "      <td>8</td>\n",
       "      <td>0</td>\n",
       "      <td>6.125000</td>\n",
       "      <td>56</td>\n",
       "      <td>0</td>\n",
       "    </tr>\n",
       "    <tr>\n",
       "      <th>75013</th>\n",
       "      <td>c8b61837a86e9d66</td>\n",
       "      <td>concern concerned userboxes deleted en masse ...</td>\n",
       "      <td>False</td>\n",
       "      <td>27</td>\n",
       "      <td>27</td>\n",
       "      <td>2</td>\n",
       "      <td>5.962963</td>\n",
       "      <td>189</td>\n",
       "      <td>0</td>\n",
       "    </tr>\n",
       "    <tr>\n",
       "      <th>12327</th>\n",
       "      <td>20ae5843d010d39b</td>\n",
       "      <td>turkey 14 march 2003 say situation fits defini...</td>\n",
       "      <td>False</td>\n",
       "      <td>22</td>\n",
       "      <td>22</td>\n",
       "      <td>0</td>\n",
       "      <td>5.954545</td>\n",
       "      <td>152</td>\n",
       "      <td>0</td>\n",
       "    </tr>\n",
       "    <tr>\n",
       "      <th>45960</th>\n",
       "      <td>7ace2915af79a67d</td>\n",
       "      <td>dominion used indicate semiindependent selfgo...</td>\n",
       "      <td>False</td>\n",
       "      <td>22</td>\n",
       "      <td>18</td>\n",
       "      <td>0</td>\n",
       "      <td>7.363636</td>\n",
       "      <td>185</td>\n",
       "      <td>0</td>\n",
       "    </tr>\n",
       "    <tr>\n",
       "      <th>135692</th>\n",
       "      <td>d5af1baae5529b2e</td>\n",
       "      <td>sent message respect</td>\n",
       "      <td>False</td>\n",
       "      <td>3</td>\n",
       "      <td>3</td>\n",
       "      <td>0</td>\n",
       "      <td>6.000000</td>\n",
       "      <td>20</td>\n",
       "      <td>0</td>\n",
       "    </tr>\n",
       "  </tbody>\n",
       "</table>\n",
       "</div>"
      ],
      "text/plain": [
       "                      id                                       comment_text  \\\n",
       "96360   036ac588de682671  way problem translating sole sentence rather e...   \n",
       "75013   c8b61837a86e9d66   concern concerned userboxes deleted en masse ...   \n",
       "12327   20ae5843d010d39b  turkey 14 march 2003 say situation fits defini...   \n",
       "45960   7ace2915af79a67d   dominion used indicate semiindependent selfgo...   \n",
       "135692  d5af1baae5529b2e                               sent message respect   \n",
       "\n",
       "            y  word_count  unique_word_count  stop_word_count  \\\n",
       "96360   False           8                  8                0   \n",
       "75013   False          27                 27                2   \n",
       "12327   False          22                 22                0   \n",
       "45960   False          22                 18                0   \n",
       "135692  False           3                  3                0   \n",
       "\n",
       "        mean_word_length  char_count  punctuation_count  \n",
       "96360           6.125000          56                  0  \n",
       "75013           5.962963         189                  0  \n",
       "12327           5.954545         152                  0  \n",
       "45960           7.363636         185                  0  \n",
       "135692          6.000000          20                  0  "
      ]
     },
     "execution_count": 22,
     "metadata": {},
     "output_type": "execute_result"
    }
   ],
   "source": [
    "# word_count\n",
    "df['word_count'] = df['comment_text'].apply(lambda x: len(str(x).split()))\n",
    "\n",
    "# unique_word_count\n",
    "df['unique_word_count'] = df['comment_text'].apply(lambda x: len(set(str(x).split())))\n",
    "\n",
    "# stop_word_count\n",
    "df['stop_word_count'] = df['comment_text'].apply(lambda x: len([w for w in str(x).lower().split() if w in STOPWORDS]))\n",
    "\n",
    "# mean_word_length\n",
    "df['mean_word_length'] = df['comment_text'].apply(lambda x: np.mean([len(w) for w in str(x).split()]))\n",
    "\n",
    "# char_count\n",
    "df['char_count'] = df['comment_text'].apply(lambda x: len(str(x)))\n",
    "\n",
    "# punctuation_count\n",
    "df['punctuation_count'] = df['comment_text'].apply(lambda x: len([c for c in str(x) if c in string.punctuation]))\n",
    "    \n",
    "df.tail()"
   ]
  },
  {
   "cell_type": "code",
   "execution_count": 23,
   "metadata": {},
   "outputs": [],
   "source": [
    "#URL removal\n",
    "def remove_urls(text):\n",
    "    url_pattern = re.compile(r'https?://\\S+|www\\.\\S+')\n",
    "    return url_pattern.sub(r'', text)\n",
    "\n",
    "\n",
    "df[\"comment_text\"]= df[\"comment_text\"].apply(lambda text : remove_urls(text))"
   ]
  },
  {
   "cell_type": "code",
   "execution_count": 24,
   "metadata": {},
   "outputs": [
    {
     "data": {
      "text/html": [
       "<div>\n",
       "<style scoped>\n",
       "    .dataframe tbody tr th:only-of-type {\n",
       "        vertical-align: middle;\n",
       "    }\n",
       "\n",
       "    .dataframe tbody tr th {\n",
       "        vertical-align: top;\n",
       "    }\n",
       "\n",
       "    .dataframe thead th {\n",
       "        text-align: right;\n",
       "    }\n",
       "</style>\n",
       "<table border=\"1\" class=\"dataframe\">\n",
       "  <thead>\n",
       "    <tr style=\"text-align: right;\">\n",
       "      <th></th>\n",
       "      <th>id</th>\n",
       "      <th>comment_text</th>\n",
       "      <th>y</th>\n",
       "      <th>word_count</th>\n",
       "      <th>unique_word_count</th>\n",
       "      <th>stop_word_count</th>\n",
       "      <th>mean_word_length</th>\n",
       "      <th>char_count</th>\n",
       "      <th>punctuation_count</th>\n",
       "    </tr>\n",
       "  </thead>\n",
       "  <tbody>\n",
       "    <tr>\n",
       "      <th>96360</th>\n",
       "      <td>036ac588de682671</td>\n",
       "      <td>way problem translating sole sentence rather e...</td>\n",
       "      <td>False</td>\n",
       "      <td>8</td>\n",
       "      <td>8</td>\n",
       "      <td>0</td>\n",
       "      <td>6.125000</td>\n",
       "      <td>56</td>\n",
       "      <td>0</td>\n",
       "    </tr>\n",
       "    <tr>\n",
       "      <th>75013</th>\n",
       "      <td>c8b61837a86e9d66</td>\n",
       "      <td>concern concerned userboxes deleted en masse ...</td>\n",
       "      <td>False</td>\n",
       "      <td>27</td>\n",
       "      <td>27</td>\n",
       "      <td>2</td>\n",
       "      <td>5.962963</td>\n",
       "      <td>189</td>\n",
       "      <td>0</td>\n",
       "    </tr>\n",
       "    <tr>\n",
       "      <th>12327</th>\n",
       "      <td>20ae5843d010d39b</td>\n",
       "      <td>turkey 14 march 2003 say situation fits defini...</td>\n",
       "      <td>False</td>\n",
       "      <td>22</td>\n",
       "      <td>22</td>\n",
       "      <td>0</td>\n",
       "      <td>5.954545</td>\n",
       "      <td>152</td>\n",
       "      <td>0</td>\n",
       "    </tr>\n",
       "    <tr>\n",
       "      <th>45960</th>\n",
       "      <td>7ace2915af79a67d</td>\n",
       "      <td>dominion used indicate semiindependent selfgo...</td>\n",
       "      <td>False</td>\n",
       "      <td>22</td>\n",
       "      <td>18</td>\n",
       "      <td>0</td>\n",
       "      <td>7.363636</td>\n",
       "      <td>185</td>\n",
       "      <td>0</td>\n",
       "    </tr>\n",
       "    <tr>\n",
       "      <th>135692</th>\n",
       "      <td>d5af1baae5529b2e</td>\n",
       "      <td>sent message respect</td>\n",
       "      <td>False</td>\n",
       "      <td>3</td>\n",
       "      <td>3</td>\n",
       "      <td>0</td>\n",
       "      <td>6.000000</td>\n",
       "      <td>20</td>\n",
       "      <td>0</td>\n",
       "    </tr>\n",
       "  </tbody>\n",
       "</table>\n",
       "</div>"
      ],
      "text/plain": [
       "                      id                                       comment_text  \\\n",
       "96360   036ac588de682671  way problem translating sole sentence rather e...   \n",
       "75013   c8b61837a86e9d66   concern concerned userboxes deleted en masse ...   \n",
       "12327   20ae5843d010d39b  turkey 14 march 2003 say situation fits defini...   \n",
       "45960   7ace2915af79a67d   dominion used indicate semiindependent selfgo...   \n",
       "135692  d5af1baae5529b2e                               sent message respect   \n",
       "\n",
       "            y  word_count  unique_word_count  stop_word_count  \\\n",
       "96360   False           8                  8                0   \n",
       "75013   False          27                 27                2   \n",
       "12327   False          22                 22                0   \n",
       "45960   False          22                 18                0   \n",
       "135692  False           3                  3                0   \n",
       "\n",
       "        mean_word_length  char_count  punctuation_count  \n",
       "96360           6.125000          56                  0  \n",
       "75013           5.962963         189                  0  \n",
       "12327           5.954545         152                  0  \n",
       "45960           7.363636         185                  0  \n",
       "135692          6.000000          20                  0  "
      ]
     },
     "execution_count": 24,
     "metadata": {},
     "output_type": "execute_result"
    }
   ],
   "source": [
    "# word_count\n",
    "df['word_count'] = df['comment_text'].apply(lambda x: len(str(x).split()))\n",
    "\n",
    "# unique_word_count\n",
    "df['unique_word_count'] = df['comment_text'].apply(lambda x: len(set(str(x).split())))\n",
    "\n",
    "# stop_word_count\n",
    "df['stop_word_count'] = df['comment_text'].apply(lambda x: len([w for w in str(x).lower().split() if w in STOPWORDS]))\n",
    "\n",
    "# mean_word_length\n",
    "df['mean_word_length'] = df['comment_text'].apply(lambda x: np.mean([len(w) for w in str(x).split()]))\n",
    "\n",
    "# char_count\n",
    "df['char_count'] = df['comment_text'].apply(lambda x: len(str(x)))\n",
    "\n",
    "# punctuation_count\n",
    "df['punctuation_count'] = df['comment_text'].apply(lambda x: len([c for c in str(x) if c in string.punctuation]))\n",
    "    \n",
    "df.tail()"
   ]
  },
  {
   "cell_type": "code",
   "execution_count": 25,
   "metadata": {},
   "outputs": [],
   "source": [
    "#Stemming"
   ]
  },
  {
   "cell_type": "code",
   "execution_count": 26,
   "metadata": {},
   "outputs": [],
   "source": [
    "stemmer = PorterStemmer()\n",
    "def stem_words(text):\n",
    "    return \" \".join([stemmer.stem(word) for word in text.split()])\n",
    "\n",
    "df[\"comment_text\"] = df[\"comment_text\"].apply(lambda text: stem_words(text))"
   ]
  },
  {
   "cell_type": "code",
   "execution_count": 27,
   "metadata": {},
   "outputs": [
    {
     "data": {
      "text/html": [
       "<div>\n",
       "<style scoped>\n",
       "    .dataframe tbody tr th:only-of-type {\n",
       "        vertical-align: middle;\n",
       "    }\n",
       "\n",
       "    .dataframe tbody tr th {\n",
       "        vertical-align: top;\n",
       "    }\n",
       "\n",
       "    .dataframe thead th {\n",
       "        text-align: right;\n",
       "    }\n",
       "</style>\n",
       "<table border=\"1\" class=\"dataframe\">\n",
       "  <thead>\n",
       "    <tr style=\"text-align: right;\">\n",
       "      <th></th>\n",
       "      <th>id</th>\n",
       "      <th>comment_text</th>\n",
       "      <th>y</th>\n",
       "      <th>word_count</th>\n",
       "      <th>unique_word_count</th>\n",
       "      <th>stop_word_count</th>\n",
       "      <th>mean_word_length</th>\n",
       "      <th>char_count</th>\n",
       "      <th>punctuation_count</th>\n",
       "    </tr>\n",
       "  </thead>\n",
       "  <tbody>\n",
       "    <tr>\n",
       "      <th>96360</th>\n",
       "      <td>036ac588de682671</td>\n",
       "      <td>way problem translat sole sentenc rather entir...</td>\n",
       "      <td>False</td>\n",
       "      <td>8</td>\n",
       "      <td>8</td>\n",
       "      <td>0</td>\n",
       "      <td>5.500000</td>\n",
       "      <td>51</td>\n",
       "      <td>0</td>\n",
       "    </tr>\n",
       "    <tr>\n",
       "      <th>75013</th>\n",
       "      <td>c8b61837a86e9d66</td>\n",
       "      <td>concern concern userbox delet en mass tonight ...</td>\n",
       "      <td>False</td>\n",
       "      <td>27</td>\n",
       "      <td>26</td>\n",
       "      <td>2</td>\n",
       "      <td>5.148148</td>\n",
       "      <td>165</td>\n",
       "      <td>0</td>\n",
       "    </tr>\n",
       "    <tr>\n",
       "      <th>12327</th>\n",
       "      <td>20ae5843d010d39b</td>\n",
       "      <td>turkey 14 march 2003 say situat fit definit da...</td>\n",
       "      <td>False</td>\n",
       "      <td>22</td>\n",
       "      <td>22</td>\n",
       "      <td>0</td>\n",
       "      <td>5.000000</td>\n",
       "      <td>131</td>\n",
       "      <td>0</td>\n",
       "    </tr>\n",
       "    <tr>\n",
       "      <th>45960</th>\n",
       "      <td>7ace2915af79a67d</td>\n",
       "      <td>dominion use indic semiindepend selfgovern ter...</td>\n",
       "      <td>False</td>\n",
       "      <td>22</td>\n",
       "      <td>18</td>\n",
       "      <td>0</td>\n",
       "      <td>6.454545</td>\n",
       "      <td>163</td>\n",
       "      <td>0</td>\n",
       "    </tr>\n",
       "    <tr>\n",
       "      <th>135692</th>\n",
       "      <td>d5af1baae5529b2e</td>\n",
       "      <td>sent messag respect</td>\n",
       "      <td>False</td>\n",
       "      <td>3</td>\n",
       "      <td>3</td>\n",
       "      <td>0</td>\n",
       "      <td>5.666667</td>\n",
       "      <td>19</td>\n",
       "      <td>0</td>\n",
       "    </tr>\n",
       "  </tbody>\n",
       "</table>\n",
       "</div>"
      ],
      "text/plain": [
       "                      id                                       comment_text  \\\n",
       "96360   036ac588de682671  way problem translat sole sentenc rather entir...   \n",
       "75013   c8b61837a86e9d66  concern concern userbox delet en mass tonight ...   \n",
       "12327   20ae5843d010d39b  turkey 14 march 2003 say situat fit definit da...   \n",
       "45960   7ace2915af79a67d  dominion use indic semiindepend selfgovern ter...   \n",
       "135692  d5af1baae5529b2e                                sent messag respect   \n",
       "\n",
       "            y  word_count  unique_word_count  stop_word_count  \\\n",
       "96360   False           8                  8                0   \n",
       "75013   False          27                 26                2   \n",
       "12327   False          22                 22                0   \n",
       "45960   False          22                 18                0   \n",
       "135692  False           3                  3                0   \n",
       "\n",
       "        mean_word_length  char_count  punctuation_count  \n",
       "96360           5.500000          51                  0  \n",
       "75013           5.148148         165                  0  \n",
       "12327           5.000000         131                  0  \n",
       "45960           6.454545         163                  0  \n",
       "135692          5.666667          19                  0  "
      ]
     },
     "execution_count": 27,
     "metadata": {},
     "output_type": "execute_result"
    }
   ],
   "source": [
    "# word_count\n",
    "df['word_count'] = df['comment_text'].apply(lambda x: len(str(x).split()))\n",
    "\n",
    "# unique_word_count\n",
    "df['unique_word_count'] = df['comment_text'].apply(lambda x: len(set(str(x).split())))\n",
    "\n",
    "# stop_word_count\n",
    "df['stop_word_count'] = df['comment_text'].apply(lambda x: len([w for w in str(x).lower().split() if w in STOPWORDS]))\n",
    "\n",
    "# mean_word_length\n",
    "df['mean_word_length'] = df['comment_text'].apply(lambda x: np.mean([len(w) for w in str(x).split()]))\n",
    "\n",
    "# char_count\n",
    "df['char_count'] = df['comment_text'].apply(lambda x: len(str(x)))\n",
    "\n",
    "# punctuation_count\n",
    "df['punctuation_count'] = df['comment_text'].apply(lambda x: len([c for c in str(x) if c in string.punctuation]))\n",
    "    \n",
    "df.tail()"
   ]
  },
  {
   "cell_type": "code",
   "execution_count": 28,
   "metadata": {
    "execution": {
     "iopub.execute_input": "2022-01-30T22:31:36.286364Z",
     "iopub.status.busy": "2022-01-30T22:31:36.285778Z",
     "iopub.status.idle": "2022-01-30T22:31:36.296129Z",
     "shell.execute_reply": "2022-01-30T22:31:36.295303Z",
     "shell.execute_reply.started": "2022-01-30T22:31:36.286327Z"
    }
   },
   "outputs": [],
   "source": [
    "X = df.drop(['y'], axis=1)\n",
    "y = df['y']"
   ]
  },
  {
   "cell_type": "code",
   "execution_count": 29,
   "metadata": {
    "execution": {
     "iopub.execute_input": "2022-01-30T22:34:08.433972Z",
     "iopub.status.busy": "2022-01-30T22:34:08.433655Z",
     "iopub.status.idle": "2022-01-30T22:34:08.450583Z",
     "shell.execute_reply": "2022-01-30T22:34:08.449537Z",
     "shell.execute_reply.started": "2022-01-30T22:34:08.433939Z"
    }
   },
   "outputs": [],
   "source": [
    "from sklearn.model_selection import train_test_split\n",
    "X_train, X_test, y_train, y_test = train_test_split(X, y, random_state=42)\n"
   ]
  },
  {
   "cell_type": "code",
   "execution_count": 30,
   "metadata": {
    "execution": {
     "iopub.execute_input": "2022-01-30T22:34:20.225598Z",
     "iopub.status.busy": "2022-01-30T22:34:20.225321Z",
     "iopub.status.idle": "2022-01-30T22:34:20.238139Z",
     "shell.execute_reply": "2022-01-30T22:34:20.237201Z",
     "shell.execute_reply.started": "2022-01-30T22:34:20.225567Z"
    }
   },
   "outputs": [
    {
     "data": {
      "text/html": [
       "<div>\n",
       "<style scoped>\n",
       "    .dataframe tbody tr th:only-of-type {\n",
       "        vertical-align: middle;\n",
       "    }\n",
       "\n",
       "    .dataframe tbody tr th {\n",
       "        vertical-align: top;\n",
       "    }\n",
       "\n",
       "    .dataframe thead th {\n",
       "        text-align: right;\n",
       "    }\n",
       "</style>\n",
       "<table border=\"1\" class=\"dataframe\">\n",
       "  <thead>\n",
       "    <tr style=\"text-align: right;\">\n",
       "      <th></th>\n",
       "      <th>id</th>\n",
       "      <th>comment_text</th>\n",
       "      <th>word_count</th>\n",
       "      <th>unique_word_count</th>\n",
       "      <th>stop_word_count</th>\n",
       "      <th>mean_word_length</th>\n",
       "      <th>char_count</th>\n",
       "      <th>punctuation_count</th>\n",
       "    </tr>\n",
       "  </thead>\n",
       "  <tbody>\n",
       "    <tr>\n",
       "      <th>76690</th>\n",
       "      <td>cd64e48fc4b0d0bf</td>\n",
       "      <td>quot you dumb bastard realli understand anyth</td>\n",
       "      <td>7</td>\n",
       "      <td>7</td>\n",
       "      <td>1</td>\n",
       "      <td>5.571429</td>\n",
       "      <td>45</td>\n",
       "      <td>0</td>\n",
       "    </tr>\n",
       "    <tr>\n",
       "      <th>88218</th>\n",
       "      <td>ebf77e3298407a4d</td>\n",
       "      <td>persib persib again pleas leav true fuck you m...</td>\n",
       "      <td>25</td>\n",
       "      <td>19</td>\n",
       "      <td>2</td>\n",
       "      <td>5.400000</td>\n",
       "      <td>159</td>\n",
       "      <td>0</td>\n",
       "    </tr>\n",
       "    <tr>\n",
       "      <th>118013</th>\n",
       "      <td>766997bfc92e84cc</td>\n",
       "      <td>hate you hate you</td>\n",
       "      <td>4</td>\n",
       "      <td>2</td>\n",
       "      <td>2</td>\n",
       "      <td>3.500000</td>\n",
       "      <td>17</td>\n",
       "      <td>0</td>\n",
       "    </tr>\n",
       "    <tr>\n",
       "      <th>25691</th>\n",
       "      <td>440449ec911108db</td>\n",
       "      <td>seri 13 section vagu section need expans chang...</td>\n",
       "      <td>14</td>\n",
       "      <td>10</td>\n",
       "      <td>0</td>\n",
       "      <td>4.857143</td>\n",
       "      <td>81</td>\n",
       "      <td>0</td>\n",
       "    </tr>\n",
       "    <tr>\n",
       "      <th>71352</th>\n",
       "      <td>bf01285eec9b3811</td>\n",
       "      <td>loser loserthat atheisty total lostno guidanc ...</td>\n",
       "      <td>27</td>\n",
       "      <td>27</td>\n",
       "      <td>1</td>\n",
       "      <td>5.814815</td>\n",
       "      <td>183</td>\n",
       "      <td>0</td>\n",
       "    </tr>\n",
       "  </tbody>\n",
       "</table>\n",
       "</div>"
      ],
      "text/plain": [
       "                      id                                       comment_text  \\\n",
       "76690   cd64e48fc4b0d0bf      quot you dumb bastard realli understand anyth   \n",
       "88218   ebf77e3298407a4d  persib persib again pleas leav true fuck you m...   \n",
       "118013  766997bfc92e84cc                                  hate you hate you   \n",
       "25691   440449ec911108db  seri 13 section vagu section need expans chang...   \n",
       "71352   bf01285eec9b3811  loser loserthat atheisty total lostno guidanc ...   \n",
       "\n",
       "        word_count  unique_word_count  stop_word_count  mean_word_length  \\\n",
       "76690            7                  7                1          5.571429   \n",
       "88218           25                 19                2          5.400000   \n",
       "118013           4                  2                2          3.500000   \n",
       "25691           14                 10                0          4.857143   \n",
       "71352           27                 27                1          5.814815   \n",
       "\n",
       "        char_count  punctuation_count  \n",
       "76690           45                  0  \n",
       "88218          159                  0  \n",
       "118013          17                  0  \n",
       "25691           81                  0  \n",
       "71352          183                  0  "
      ]
     },
     "execution_count": 30,
     "metadata": {},
     "output_type": "execute_result"
    }
   ],
   "source": [
    "X_train.head()"
   ]
  },
  {
   "cell_type": "code",
   "execution_count": 31,
   "metadata": {
    "execution": {
     "iopub.execute_input": "2022-01-30T22:34:40.241869Z",
     "iopub.status.busy": "2022-01-30T22:34:40.241106Z",
     "iopub.status.idle": "2022-01-30T22:34:40.246501Z",
     "shell.execute_reply": "2022-01-30T22:34:40.245838Z",
     "shell.execute_reply.started": "2022-01-30T22:34:40.241826Z"
    }
   },
   "outputs": [],
   "source": [
    "X_train = X_train.comment_text.values\n",
    "X_test = X_test.comment_text.values"
   ]
  },
  {
   "cell_type": "code",
   "execution_count": 32,
   "metadata": {
    "execution": {
     "iopub.execute_input": "2022-01-30T22:34:50.847276Z",
     "iopub.status.busy": "2022-01-30T22:34:50.846978Z",
     "iopub.status.idle": "2022-01-30T22:34:50.854091Z",
     "shell.execute_reply": "2022-01-30T22:34:50.85353Z",
     "shell.execute_reply.started": "2022-01-30T22:34:50.847222Z"
    }
   },
   "outputs": [
    {
     "data": {
      "text/plain": [
       "76690      True\n",
       "88218      True\n",
       "118013     True\n",
       "25691     False\n",
       "71352      True\n",
       "Name: y, dtype: bool"
      ]
     },
     "execution_count": 32,
     "metadata": {},
     "output_type": "execute_result"
    }
   ],
   "source": [
    "y_train.head()"
   ]
  },
  {
   "cell_type": "code",
   "execution_count": 33,
   "metadata": {
    "execution": {
     "iopub.execute_input": "2022-01-30T22:36:15.940026Z",
     "iopub.status.busy": "2022-01-30T22:36:15.939199Z",
     "iopub.status.idle": "2022-01-30T22:36:15.943824Z",
     "shell.execute_reply": "2022-01-30T22:36:15.943233Z",
     "shell.execute_reply.started": "2022-01-30T22:36:15.939974Z"
    }
   },
   "outputs": [],
   "source": [
    "OOV_TOKEN = '<OOV>'\n",
    "VOCAB_SIZE = 10000\n",
    "MAX_LEN = 120\n",
    "EMBEDDING_DIM = 100"
   ]
  },
  {
   "cell_type": "code",
   "execution_count": 34,
   "metadata": {
    "execution": {
     "iopub.execute_input": "2022-01-30T22:38:49.407495Z",
     "iopub.status.busy": "2022-01-30T22:38:49.407115Z",
     "iopub.status.idle": "2022-01-30T22:38:50.354527Z",
     "shell.execute_reply": "2022-01-30T22:38:50.353452Z",
     "shell.execute_reply.started": "2022-01-30T22:38:49.407458Z"
    }
   },
   "outputs": [],
   "source": [
    "tokenizer = Tokenizer(num_words=VOCAB_SIZE,oov_token=OOV_TOKEN)\n",
    "tokenizer.fit_on_texts(X_train)"
   ]
  },
  {
   "cell_type": "code",
   "execution_count": 35,
   "metadata": {
    "execution": {
     "iopub.execute_input": "2022-01-30T22:39:03.082362Z",
     "iopub.status.busy": "2022-01-30T22:39:03.081806Z",
     "iopub.status.idle": "2022-01-30T22:39:03.088367Z",
     "shell.execute_reply": "2022-01-30T22:39:03.087504Z",
     "shell.execute_reply.started": "2022-01-30T22:39:03.082324Z"
    }
   },
   "outputs": [
    {
     "data": {
      "text/plain": [
       "52101"
      ]
     },
     "execution_count": 35,
     "metadata": {},
     "output_type": "execute_result"
    }
   ],
   "source": [
    "len(tokenizer.word_index)"
   ]
  },
  {
   "cell_type": "code",
   "execution_count": 36,
   "metadata": {
    "execution": {
     "iopub.execute_input": "2022-01-30T22:40:20.445924Z",
     "iopub.status.busy": "2022-01-30T22:40:20.445613Z",
     "iopub.status.idle": "2022-01-30T22:40:20.450165Z",
     "shell.execute_reply": "2022-01-30T22:40:20.449312Z",
     "shell.execute_reply.started": "2022-01-30T22:40:20.445892Z"
    }
   },
   "outputs": [],
   "source": [
    "unique_token_count = len(tokenizer.word_counts) + 2"
   ]
  },
  {
   "cell_type": "code",
   "execution_count": 37,
   "metadata": {
    "execution": {
     "iopub.execute_input": "2022-01-30T22:42:51.719291Z",
     "iopub.status.busy": "2022-01-30T22:42:51.718679Z",
     "iopub.status.idle": "2022-01-30T22:42:52.298668Z",
     "shell.execute_reply": "2022-01-30T22:42:52.297801Z",
     "shell.execute_reply.started": "2022-01-30T22:42:51.719226Z"
    }
   },
   "outputs": [],
   "source": [
    "train_seq = tokenizer.texts_to_sequences(X_train)"
   ]
  },
  {
   "cell_type": "code",
   "execution_count": 38,
   "metadata": {
    "execution": {
     "iopub.execute_input": "2022-01-30T22:43:14.403667Z",
     "iopub.status.busy": "2022-01-30T22:43:14.403083Z",
     "iopub.status.idle": "2022-01-30T22:43:14.611267Z",
     "shell.execute_reply": "2022-01-30T22:43:14.610312Z",
     "shell.execute_reply.started": "2022-01-30T22:43:14.403626Z"
    }
   },
   "outputs": [],
   "source": [
    "test_seq = tokenizer.texts_to_sequences(X_test)"
   ]
  },
  {
   "cell_type": "code",
   "execution_count": 39,
   "metadata": {
    "execution": {
     "iopub.execute_input": "2022-01-30T22:43:36.905498Z",
     "iopub.status.busy": "2022-01-30T22:43:36.9052Z",
     "iopub.status.idle": "2022-01-30T22:43:37.016801Z",
     "shell.execute_reply": "2022-01-30T22:43:37.015914Z",
     "shell.execute_reply.started": "2022-01-30T22:43:36.905468Z"
    }
   },
   "outputs": [],
   "source": [
    "train_padded = tf.keras.preprocessing.sequence.pad_sequences(train_seq, maxlen=MAX_LEN, dtype='int32', padding='post',\n",
    "    truncating='post')"
   ]
  },
  {
   "cell_type": "code",
   "execution_count": 40,
   "metadata": {
    "execution": {
     "iopub.execute_input": "2022-01-30T22:43:51.086097Z",
     "iopub.status.busy": "2022-01-30T22:43:51.085833Z",
     "iopub.status.idle": "2022-01-30T22:43:51.127185Z",
     "shell.execute_reply": "2022-01-30T22:43:51.126404Z",
     "shell.execute_reply.started": "2022-01-30T22:43:51.086069Z"
    }
   },
   "outputs": [],
   "source": [
    "test_padded = tf.keras.preprocessing.sequence.pad_sequences(test_seq, maxlen=MAX_LEN, dtype='int32', padding='post',truncating='post')"
   ]
  },
  {
   "cell_type": "code",
   "execution_count": 41,
   "metadata": {
    "execution": {
     "iopub.execute_input": "2022-01-30T22:44:02.114874Z",
     "iopub.status.busy": "2022-01-30T22:44:02.11461Z",
     "iopub.status.idle": "2022-01-30T22:44:02.121321Z",
     "shell.execute_reply": "2022-01-30T22:44:02.120317Z",
     "shell.execute_reply.started": "2022-01-30T22:44:02.114846Z"
    }
   },
   "outputs": [
    {
     "data": {
      "text/plain": [
       "(8113, 120)"
      ]
     },
     "execution_count": 41,
     "metadata": {},
     "output_type": "execute_result"
    }
   ],
   "source": [
    "test_padded.shape"
   ]
  },
  {
   "cell_type": "code",
   "execution_count": 42,
   "metadata": {},
   "outputs": [],
   "source": [
    "n_features = X.shape[1]"
   ]
  },
  {
   "cell_type": "code",
   "execution_count": 43,
   "metadata": {},
   "outputs": [
    {
     "data": {
      "text/plain": [
       "8"
      ]
     },
     "execution_count": 43,
     "metadata": {},
     "output_type": "execute_result"
    }
   ],
   "source": [
    "n_features "
   ]
  },
  {
   "cell_type": "code",
   "execution_count": 44,
   "metadata": {},
   "outputs": [],
   "source": [
    "#Training"
   ]
  },
  {
   "cell_type": "code",
   "execution_count": 45,
   "metadata": {},
   "outputs": [],
   "source": [
    "from tensorflow.keras.optimizers import Adam\n",
    "optimizer = Adam(0.001)"
   ]
  },
  {
   "cell_type": "code",
   "execution_count": 46,
   "metadata": {},
   "outputs": [],
   "source": [
    "def create_mlp_model():\n",
    "    return tf.keras.models.Sequential([\n",
    "    tf.keras.layers.Input(shape=(120,)),\n",
    "    tf.keras.layers.Embedding(unique_token_count, 16),\n",
    "    tf.keras.layers.Flatten(),\n",
    "    tf.keras.layers.Dense(10, activation = 'relu', kernel_initializer = 'he_normal', input_shape = (n_features,)),\n",
    "    tf.keras.layers.Dropout(0.2),\n",
    "    tf.keras.layers.Dense(10, activation = 'relu', kernel_initializer = 'he_normal'),\n",
    "    tf.keras.layers.Dense(1),\n",
    "    ])"
   ]
  },
  {
   "cell_type": "code",
   "execution_count": 47,
   "metadata": {
    "execution": {
     "iopub.execute_input": "2022-01-30T23:06:36.443707Z",
     "iopub.status.busy": "2022-01-30T23:06:36.443399Z",
     "iopub.status.idle": "2022-01-30T23:06:36.546742Z",
     "shell.execute_reply": "2022-01-30T23:06:36.545776Z",
     "shell.execute_reply.started": "2022-01-30T23:06:36.443674Z"
    }
   },
   "outputs": [
    {
     "name": "stdout",
     "output_type": "stream",
     "text": [
      "Epoch 1/100\n",
      "153/153 - 6s - loss: 0.2244 - accuracy: 0.6529 - val_loss: 0.1351 - val_accuracy: 0.8303\n",
      "Epoch 2/100\n",
      "153/153 - 2s - loss: 0.1161 - accuracy: 0.8541 - val_loss: 0.1075 - val_accuracy: 0.8652\n",
      "Epoch 3/100\n",
      "153/153 - 2s - loss: 0.0710 - accuracy: 0.9257 - val_loss: 0.0980 - val_accuracy: 0.8700\n",
      "Epoch 4/100\n",
      "153/153 - 2s - loss: 0.0407 - accuracy: 0.9631 - val_loss: 0.0996 - val_accuracy: 0.8691\n",
      "Epoch 5/100\n",
      "153/153 - 2s - loss: 0.0241 - accuracy: 0.9792 - val_loss: 0.1050 - val_accuracy: 0.8587\n",
      "Epoch 6/100\n",
      "153/153 - 2s - loss: 0.0153 - accuracy: 0.9883 - val_loss: 0.1096 - val_accuracy: 0.8595\n",
      "Epoch 7/100\n",
      "153/153 - 2s - loss: 0.0108 - accuracy: 0.9919 - val_loss: 0.1111 - val_accuracy: 0.8591\n",
      "Epoch 8/100\n",
      "153/153 - 2s - loss: 0.0077 - accuracy: 0.9936 - val_loss: 0.1162 - val_accuracy: 0.8546\n",
      "Epoch 9/100\n",
      "153/153 - 2s - loss: 0.0059 - accuracy: 0.9956 - val_loss: 0.1214 - val_accuracy: 0.8488\n",
      "Epoch 10/100\n",
      "153/153 - 2s - loss: 0.0054 - accuracy: 0.9956 - val_loss: 0.1233 - val_accuracy: 0.8550\n",
      "Epoch 11/100\n",
      "153/153 - 2s - loss: 0.0040 - accuracy: 0.9965 - val_loss: 0.1279 - val_accuracy: 0.8515\n",
      "Epoch 12/100\n",
      "153/153 - 2s - loss: 0.0036 - accuracy: 0.9965 - val_loss: 0.1306 - val_accuracy: 0.8521\n",
      "Epoch 13/100\n",
      "153/153 - 2s - loss: 0.0033 - accuracy: 0.9966 - val_loss: 0.1320 - val_accuracy: 0.8492\n",
      "Epoch 14/100\n",
      "153/153 - 2s - loss: 0.0028 - accuracy: 0.9974 - val_loss: 0.1339 - val_accuracy: 0.8476\n",
      "Epoch 15/100\n",
      "153/153 - 2s - loss: 0.0027 - accuracy: 0.9972 - val_loss: 0.1347 - val_accuracy: 0.8457\n",
      "Epoch 16/100\n",
      "153/153 - 2s - loss: 0.0026 - accuracy: 0.9974 - val_loss: 0.1359 - val_accuracy: 0.8459\n",
      "Epoch 17/100\n",
      "153/153 - 3s - loss: 0.0026 - accuracy: 0.9971 - val_loss: 0.1345 - val_accuracy: 0.8465\n",
      "Epoch 18/100\n",
      "153/153 - 3s - loss: 0.0027 - accuracy: 0.9971 - val_loss: 0.1376 - val_accuracy: 0.8441\n",
      "Epoch 19/100\n",
      "153/153 - 2s - loss: 0.0026 - accuracy: 0.9974 - val_loss: 0.1410 - val_accuracy: 0.8416\n",
      "Epoch 20/100\n",
      "153/153 - 2s - loss: 0.0024 - accuracy: 0.9975 - val_loss: 0.1354 - val_accuracy: 0.8459\n",
      "Epoch 21/100\n",
      "153/153 - 2s - loss: 0.0028 - accuracy: 0.9969 - val_loss: 0.1370 - val_accuracy: 0.8453\n",
      "Epoch 22/100\n",
      "153/153 - 2s - loss: 0.0032 - accuracy: 0.9964 - val_loss: 0.1386 - val_accuracy: 0.8435\n",
      "Epoch 23/100\n",
      "153/153 - 2s - loss: 0.0030 - accuracy: 0.9963 - val_loss: 0.1375 - val_accuracy: 0.8445\n",
      "Epoch 24/100\n",
      "153/153 - 2s - loss: 0.0025 - accuracy: 0.9971 - val_loss: 0.1394 - val_accuracy: 0.8420\n",
      "Epoch 25/100\n",
      "153/153 - 2s - loss: 0.0027 - accuracy: 0.9972 - val_loss: 0.1441 - val_accuracy: 0.8394\n",
      "Epoch 26/100\n",
      "153/153 - 2s - loss: 0.0024 - accuracy: 0.9970 - val_loss: 0.1485 - val_accuracy: 0.8338\n",
      "Epoch 27/100\n",
      "153/153 - 2s - loss: 0.0021 - accuracy: 0.9974 - val_loss: 0.1457 - val_accuracy: 0.8365\n",
      "Epoch 28/100\n",
      "153/153 - 2s - loss: 0.0021 - accuracy: 0.9972 - val_loss: 0.1432 - val_accuracy: 0.8398\n",
      "Epoch 29/100\n",
      "153/153 - 2s - loss: 0.0018 - accuracy: 0.9979 - val_loss: 0.1465 - val_accuracy: 0.8371\n",
      "Epoch 30/100\n",
      "153/153 - 2s - loss: 0.0018 - accuracy: 0.9977 - val_loss: 0.1449 - val_accuracy: 0.8392\n",
      "Epoch 31/100\n",
      "153/153 - 2s - loss: 0.0017 - accuracy: 0.9979 - val_loss: 0.1480 - val_accuracy: 0.8338\n",
      "Epoch 32/100\n",
      "153/153 - 2s - loss: 0.0019 - accuracy: 0.9978 - val_loss: 0.1425 - val_accuracy: 0.8408\n",
      "Epoch 33/100\n",
      "153/153 - 2s - loss: 0.0018 - accuracy: 0.9976 - val_loss: 0.1474 - val_accuracy: 0.8365\n",
      "Epoch 34/100\n",
      "153/153 - 2s - loss: 0.0017 - accuracy: 0.9980 - val_loss: 0.1470 - val_accuracy: 0.8324\n",
      "Epoch 35/100\n",
      "153/153 - 2s - loss: 0.0018 - accuracy: 0.9977 - val_loss: 0.1458 - val_accuracy: 0.8320\n",
      "Epoch 36/100\n",
      "153/153 - 2s - loss: 0.0019 - accuracy: 0.9973 - val_loss: 0.1440 - val_accuracy: 0.8340\n",
      "Epoch 37/100\n",
      "153/153 - 2s - loss: 0.0018 - accuracy: 0.9979 - val_loss: 0.1423 - val_accuracy: 0.8404\n",
      "Epoch 38/100\n",
      "153/153 - 2s - loss: 0.0017 - accuracy: 0.9978 - val_loss: 0.1447 - val_accuracy: 0.8375\n",
      "Epoch 39/100\n",
      "153/153 - 2s - loss: 0.0017 - accuracy: 0.9979 - val_loss: 0.1468 - val_accuracy: 0.8295\n",
      "Epoch 40/100\n",
      "153/153 - 2s - loss: 0.0019 - accuracy: 0.9978 - val_loss: 0.1412 - val_accuracy: 0.8404\n",
      "Epoch 41/100\n",
      "153/153 - 2s - loss: 0.0016 - accuracy: 0.9980 - val_loss: 0.1368 - val_accuracy: 0.8406\n",
      "Epoch 42/100\n",
      "153/153 - 2s - loss: 0.0018 - accuracy: 0.9977 - val_loss: 0.1462 - val_accuracy: 0.8369\n",
      "Epoch 43/100\n",
      "153/153 - 2s - loss: 0.0019 - accuracy: 0.9979 - val_loss: 0.1491 - val_accuracy: 0.8336\n",
      "Epoch 44/100\n",
      "153/153 - 2s - loss: 0.0024 - accuracy: 0.9972 - val_loss: 0.1468 - val_accuracy: 0.8375\n",
      "Epoch 45/100\n",
      "153/153 - 2s - loss: 0.0020 - accuracy: 0.9976 - val_loss: 0.1436 - val_accuracy: 0.8400\n",
      "Epoch 46/100\n",
      "153/153 - 2s - loss: 0.0020 - accuracy: 0.9978 - val_loss: 0.1501 - val_accuracy: 0.8330\n",
      "Epoch 47/100\n",
      "153/153 - 2s - loss: 0.0018 - accuracy: 0.9979 - val_loss: 0.1510 - val_accuracy: 0.8311\n",
      "Epoch 48/100\n",
      "153/153 - 2s - loss: 0.0018 - accuracy: 0.9978 - val_loss: 0.1456 - val_accuracy: 0.8404\n",
      "Epoch 49/100\n",
      "153/153 - 2s - loss: 0.0017 - accuracy: 0.9977 - val_loss: 0.1477 - val_accuracy: 0.8326\n",
      "Epoch 50/100\n",
      "153/153 - 2s - loss: 0.0020 - accuracy: 0.9976 - val_loss: 0.1448 - val_accuracy: 0.8408\n",
      "Epoch 51/100\n",
      "153/153 - 2s - loss: 0.0019 - accuracy: 0.9977 - val_loss: 0.1447 - val_accuracy: 0.8416\n",
      "Epoch 52/100\n",
      "153/153 - 2s - loss: 0.0017 - accuracy: 0.9979 - val_loss: 0.1481 - val_accuracy: 0.8361\n",
      "Epoch 53/100\n",
      "153/153 - 2s - loss: 0.0017 - accuracy: 0.9978 - val_loss: 0.1394 - val_accuracy: 0.8392\n",
      "Epoch 54/100\n",
      "153/153 - 2s - loss: 0.0017 - accuracy: 0.9977 - val_loss: 0.1461 - val_accuracy: 0.8392\n",
      "Epoch 55/100\n",
      "153/153 - 2s - loss: 0.0019 - accuracy: 0.9975 - val_loss: 0.1458 - val_accuracy: 0.8381\n",
      "Epoch 56/100\n",
      "153/153 - 2s - loss: 0.0018 - accuracy: 0.9979 - val_loss: 0.1464 - val_accuracy: 0.8392\n",
      "Epoch 57/100\n",
      "153/153 - 2s - loss: 0.0018 - accuracy: 0.9978 - val_loss: 0.1508 - val_accuracy: 0.8320\n",
      "Epoch 58/100\n",
      "153/153 - 2s - loss: 0.0018 - accuracy: 0.9978 - val_loss: 0.1466 - val_accuracy: 0.8381\n",
      "Epoch 59/100\n",
      "153/153 - 2s - loss: 0.0019 - accuracy: 0.9976 - val_loss: 0.1462 - val_accuracy: 0.8383\n",
      "Epoch 60/100\n",
      "153/153 - 2s - loss: 0.0015 - accuracy: 0.9982 - val_loss: 0.1503 - val_accuracy: 0.8375\n",
      "Epoch 61/100\n",
      "153/153 - 2s - loss: 0.0019 - accuracy: 0.9977 - val_loss: 0.1476 - val_accuracy: 0.8381\n",
      "Epoch 62/100\n",
      "153/153 - 2s - loss: 0.0016 - accuracy: 0.9981 - val_loss: 0.1469 - val_accuracy: 0.8373\n",
      "Epoch 63/100\n",
      "153/153 - 2s - loss: 0.0018 - accuracy: 0.9978 - val_loss: 0.1489 - val_accuracy: 0.8342\n",
      "Epoch 64/100\n",
      "153/153 - 2s - loss: 0.0016 - accuracy: 0.9980 - val_loss: 0.1504 - val_accuracy: 0.8350\n",
      "Epoch 65/100\n",
      "153/153 - 2s - loss: 0.0016 - accuracy: 0.9980 - val_loss: 0.1456 - val_accuracy: 0.8377\n",
      "Epoch 66/100\n",
      "153/153 - 2s - loss: 0.0017 - accuracy: 0.9976 - val_loss: 0.1512 - val_accuracy: 0.8334\n",
      "Epoch 67/100\n",
      "153/153 - 2s - loss: 0.0015 - accuracy: 0.9982 - val_loss: 0.1482 - val_accuracy: 0.8353\n",
      "Epoch 68/100\n",
      "153/153 - 2s - loss: 0.0020 - accuracy: 0.9974 - val_loss: 0.1495 - val_accuracy: 0.8338\n",
      "Epoch 69/100\n",
      "153/153 - 2s - loss: 0.0017 - accuracy: 0.9980 - val_loss: 0.1513 - val_accuracy: 0.8303\n",
      "Epoch 70/100\n",
      "153/153 - 2s - loss: 0.0015 - accuracy: 0.9981 - val_loss: 0.1452 - val_accuracy: 0.8385\n",
      "Epoch 71/100\n",
      "153/153 - 2s - loss: 0.0019 - accuracy: 0.9972 - val_loss: 0.1451 - val_accuracy: 0.8369\n",
      "Epoch 72/100\n",
      "153/153 - 2s - loss: 0.0016 - accuracy: 0.9980 - val_loss: 0.1439 - val_accuracy: 0.8357\n",
      "Epoch 73/100\n",
      "153/153 - 2s - loss: 0.0021 - accuracy: 0.9980 - val_loss: 0.1494 - val_accuracy: 0.8344\n",
      "Epoch 74/100\n",
      "153/153 - 2s - loss: 0.0017 - accuracy: 0.9977 - val_loss: 0.1512 - val_accuracy: 0.8346\n",
      "Epoch 75/100\n",
      "153/153 - 2s - loss: 0.0018 - accuracy: 0.9975 - val_loss: 0.1496 - val_accuracy: 0.8355\n",
      "Epoch 76/100\n",
      "153/153 - 2s - loss: 0.0016 - accuracy: 0.9979 - val_loss: 0.1472 - val_accuracy: 0.8336\n",
      "Epoch 77/100\n",
      "153/153 - 2s - loss: 0.0017 - accuracy: 0.9978 - val_loss: 0.1450 - val_accuracy: 0.8400\n",
      "Epoch 78/100\n",
      "153/153 - 2s - loss: 0.0022 - accuracy: 0.9967 - val_loss: 0.1431 - val_accuracy: 0.8359\n",
      "Epoch 79/100\n",
      "153/153 - 2s - loss: 0.0021 - accuracy: 0.9973 - val_loss: 0.1493 - val_accuracy: 0.8316\n",
      "Epoch 80/100\n",
      "153/153 - 2s - loss: 0.0018 - accuracy: 0.9975 - val_loss: 0.1468 - val_accuracy: 0.8359\n",
      "Epoch 81/100\n",
      "153/153 - 2s - loss: 0.0018 - accuracy: 0.9975 - val_loss: 0.1481 - val_accuracy: 0.8346\n"
     ]
    },
    {
     "name": "stdout",
     "output_type": "stream",
     "text": [
      "Epoch 82/100\n",
      "153/153 - 2s - loss: 0.0014 - accuracy: 0.9982 - val_loss: 0.1475 - val_accuracy: 0.8363\n",
      "Epoch 83/100\n",
      "153/153 - 2s - loss: 0.0015 - accuracy: 0.9979 - val_loss: 0.1499 - val_accuracy: 0.8353\n",
      "Epoch 84/100\n",
      "153/153 - 2s - loss: 0.0015 - accuracy: 0.9979 - val_loss: 0.1498 - val_accuracy: 0.8340\n",
      "Epoch 85/100\n",
      "153/153 - 2s - loss: 0.0015 - accuracy: 0.9983 - val_loss: 0.1520 - val_accuracy: 0.8309\n",
      "Epoch 86/100\n",
      "153/153 - 2s - loss: 0.0018 - accuracy: 0.9980 - val_loss: 0.1492 - val_accuracy: 0.8340\n",
      "Epoch 87/100\n",
      "153/153 - 2s - loss: 0.0016 - accuracy: 0.9981 - val_loss: 0.1465 - val_accuracy: 0.8394\n",
      "Epoch 88/100\n",
      "153/153 - 2s - loss: 0.0017 - accuracy: 0.9978 - val_loss: 0.1458 - val_accuracy: 0.8355\n",
      "Epoch 89/100\n",
      "153/153 - 2s - loss: 0.0016 - accuracy: 0.9979 - val_loss: 0.1506 - val_accuracy: 0.8359\n",
      "Epoch 90/100\n",
      "153/153 - 2s - loss: 0.0015 - accuracy: 0.9984 - val_loss: 0.1463 - val_accuracy: 0.8326\n",
      "Epoch 91/100\n",
      "153/153 - 2s - loss: 0.0015 - accuracy: 0.9982 - val_loss: 0.1486 - val_accuracy: 0.8340\n",
      "Epoch 92/100\n",
      "153/153 - 2s - loss: 0.0015 - accuracy: 0.9983 - val_loss: 0.1509 - val_accuracy: 0.8320\n",
      "Epoch 93/100\n",
      "153/153 - 2s - loss: 0.0015 - accuracy: 0.9983 - val_loss: 0.1486 - val_accuracy: 0.8355\n",
      "Epoch 94/100\n",
      "153/153 - 2s - loss: 0.0014 - accuracy: 0.9983 - val_loss: 0.1498 - val_accuracy: 0.8353\n",
      "Epoch 95/100\n",
      "153/153 - 2s - loss: 0.0015 - accuracy: 0.9981 - val_loss: 0.1425 - val_accuracy: 0.8439\n",
      "Epoch 96/100\n",
      "153/153 - 2s - loss: 0.0015 - accuracy: 0.9984 - val_loss: 0.1495 - val_accuracy: 0.8363\n",
      "Epoch 97/100\n",
      "153/153 - 2s - loss: 0.0015 - accuracy: 0.9984 - val_loss: 0.1435 - val_accuracy: 0.8381\n",
      "Epoch 98/100\n",
      "153/153 - 2s - loss: 0.0015 - accuracy: 0.9986 - val_loss: 0.1441 - val_accuracy: 0.8420\n",
      "Epoch 99/100\n",
      "153/153 - 2s - loss: 0.0016 - accuracy: 0.9985 - val_loss: 0.1453 - val_accuracy: 0.8418\n",
      "Epoch 100/100\n",
      "153/153 - 2s - loss: 0.0016 - accuracy: 0.9981 - val_loss: 0.1469 - val_accuracy: 0.8344\n"
     ]
    }
   ],
   "source": [
    "def train_model():\n",
    "\n",
    "  model = create_mlp_model()\n",
    "  model.compile(loss='mean_squared_error',optimizer=optimizer,\n",
    "                metrics=['accuracy'])\n",
    "  log_dir = \"logs/fit/\" + datetime.datetime.now().strftime(\"%Y%m%d-%H%M%S\")\n",
    "  tensorboard_callback = tf.keras.callbacks.TensorBoard(log_dir=log_dir, histogram_freq=1)\n",
    "  model.fit(train_padded,y = y_train,validation_data=(test_padded, y_test), epochs=100, batch_size=128, verbose = 2, shuffle=True, validation_split=0.2,callbacks=[tensorboard_callback])\n",
    "  return model\n",
    "\n",
    "model = train_model()"
   ]
  },
  {
   "cell_type": "code",
   "execution_count": 48,
   "metadata": {
    "scrolled": true
   },
   "outputs": [
    {
     "data": {
      "text/html": [
       "\n",
       "      <iframe id=\"tensorboard-frame-4b236c1125a9c30a\" width=\"100%\" height=\"800\" frameborder=\"0\">\n",
       "      </iframe>\n",
       "      <script>\n",
       "        (function() {\n",
       "          const frame = document.getElementById(\"tensorboard-frame-4b236c1125a9c30a\");\n",
       "          const url = new URL(\"/\", window.location);\n",
       "          const port = 8089;\n",
       "          if (port) {\n",
       "            url.port = port;\n",
       "          }\n",
       "          frame.src = url;\n",
       "        })();\n",
       "      </script>\n",
       "    "
      ],
      "text/plain": [
       "<IPython.core.display.HTML object>"
      ]
     },
     "metadata": {},
     "output_type": "display_data"
    }
   ],
   "source": [
    "%tensorboard --logdir logs/fit --host localhost --port 8089"
   ]
  },
  {
   "cell_type": "code",
   "execution_count": 49,
   "metadata": {
    "execution": {
     "iopub.execute_input": "2022-01-30T23:16:14.87986Z",
     "iopub.status.busy": "2022-01-30T23:16:14.879532Z",
     "iopub.status.idle": "2022-01-30T23:16:14.889123Z",
     "shell.execute_reply": "2022-01-30T23:16:14.888583Z",
     "shell.execute_reply.started": "2022-01-30T23:16:14.879825Z"
    }
   },
   "outputs": [
    {
     "data": {
      "text/html": [
       "<div>\n",
       "<style scoped>\n",
       "    .dataframe tbody tr th:only-of-type {\n",
       "        vertical-align: middle;\n",
       "    }\n",
       "\n",
       "    .dataframe tbody tr th {\n",
       "        vertical-align: top;\n",
       "    }\n",
       "\n",
       "    .dataframe thead th {\n",
       "        text-align: right;\n",
       "    }\n",
       "</style>\n",
       "<table border=\"1\" class=\"dataframe\">\n",
       "  <thead>\n",
       "    <tr style=\"text-align: right;\">\n",
       "      <th></th>\n",
       "      <th>comment_id</th>\n",
       "      <th>text</th>\n",
       "    </tr>\n",
       "  </thead>\n",
       "  <tbody>\n",
       "    <tr>\n",
       "      <th>0</th>\n",
       "      <td>114890</td>\n",
       "      <td>\"\\n \\n\\nGjalexei, you asked about whether ther...</td>\n",
       "    </tr>\n",
       "    <tr>\n",
       "      <th>1</th>\n",
       "      <td>732895</td>\n",
       "      <td>Looks like be have an abuser , can you please ...</td>\n",
       "    </tr>\n",
       "    <tr>\n",
       "      <th>2</th>\n",
       "      <td>1139051</td>\n",
       "      <td>I confess to having complete (and apparently b...</td>\n",
       "    </tr>\n",
       "    <tr>\n",
       "      <th>3</th>\n",
       "      <td>1434512</td>\n",
       "      <td>\"\\n\\nFreud's ideas are certainly much discusse...</td>\n",
       "    </tr>\n",
       "    <tr>\n",
       "      <th>4</th>\n",
       "      <td>2084821</td>\n",
       "      <td>It is not just you. This is a laundry list of ...</td>\n",
       "    </tr>\n",
       "  </tbody>\n",
       "</table>\n",
       "</div>"
      ],
      "text/plain": [
       "   comment_id                                               text\n",
       "0      114890  \"\\n \\n\\nGjalexei, you asked about whether ther...\n",
       "1      732895  Looks like be have an abuser , can you please ...\n",
       "2     1139051  I confess to having complete (and apparently b...\n",
       "3     1434512  \"\\n\\nFreud's ideas are certainly much discusse...\n",
       "4     2084821  It is not just you. This is a laundry list of ..."
      ]
     },
     "execution_count": 49,
     "metadata": {},
     "output_type": "execute_result"
    }
   ],
   "source": [
    "target.head()"
   ]
  },
  {
   "cell_type": "code",
   "execution_count": 50,
   "metadata": {
    "execution": {
     "iopub.execute_input": "2022-01-30T23:16:51.718078Z",
     "iopub.status.busy": "2022-01-30T23:16:51.717771Z",
     "iopub.status.idle": "2022-01-30T23:16:51.722754Z",
     "shell.execute_reply": "2022-01-30T23:16:51.721817Z",
     "shell.execute_reply.started": "2022-01-30T23:16:51.718037Z"
    }
   },
   "outputs": [],
   "source": [
    "df_target = target"
   ]
  },
  {
   "cell_type": "code",
   "execution_count": 51,
   "metadata": {},
   "outputs": [],
   "source": [
    "df_target['text'] = df_target['text'].apply(lambda text: stem_words(text))"
   ]
  },
  {
   "cell_type": "code",
   "execution_count": 52,
   "metadata": {
    "execution": {
     "iopub.execute_input": "2022-01-30T23:16:57.40259Z",
     "iopub.status.busy": "2022-01-30T23:16:57.40217Z",
     "iopub.status.idle": "2022-01-30T23:16:57.586696Z",
     "shell.execute_reply": "2022-01-30T23:16:57.585893Z",
     "shell.execute_reply.started": "2022-01-30T23:16:57.402561Z"
    }
   },
   "outputs": [],
   "source": [
    "# Remove stopwords & convert to lower case\n",
    "df_target['text'] = df_target['text'].apply(lambda x: ' '.join([w for w in str(x).lower().split() if w not in STOPWORDS]))"
   ]
  },
  {
   "cell_type": "code",
   "execution_count": 53,
   "metadata": {},
   "outputs": [
    {
     "name": "stderr",
     "output_type": "stream",
     "text": [
      "<ipython-input-53-97ce1d64059a>:2: FutureWarning: The default value of regex will change from True to False in a future version.\n",
      "  df_target[\"text\"] = df_target['text'].str.replace('[^\\w\\s]','')\n"
     ]
    }
   ],
   "source": [
    "# Remove Punctuations\n",
    "df_target[\"text\"] = df_target['text'].str.replace('[^\\w\\s]','')"
   ]
  },
  {
   "cell_type": "code",
   "execution_count": 54,
   "metadata": {},
   "outputs": [],
   "source": [
    "df_target[\"text\"] = df_target['text'].apply(remove_emoji)"
   ]
  },
  {
   "cell_type": "code",
   "execution_count": 55,
   "metadata": {},
   "outputs": [],
   "source": [
    "df_target[\"text\"] = df_target['text'].apply(remove_urls)"
   ]
  },
  {
   "cell_type": "code",
   "execution_count": 56,
   "metadata": {
    "execution": {
     "iopub.execute_input": "2022-01-30T23:17:45.712342Z",
     "iopub.status.busy": "2022-01-30T23:17:45.712046Z",
     "iopub.status.idle": "2022-01-30T23:17:45.957842Z",
     "shell.execute_reply": "2022-01-30T23:17:45.956984Z",
     "shell.execute_reply.started": "2022-01-30T23:17:45.712309Z"
    }
   },
   "outputs": [],
   "source": [
    "target_seq = tokenizer.texts_to_sequences(df_target.text.values)\n",
    "target_padded = pad_sequences(\n",
    "    target_seq, maxlen=MAX_LEN, dtype='int32', padding='post',\n",
    "    truncating='post'\n",
    ")"
   ]
  },
  {
   "cell_type": "code",
   "execution_count": 57,
   "metadata": {
    "execution": {
     "iopub.execute_input": "2022-01-30T23:18:04.029938Z",
     "iopub.status.busy": "2022-01-30T23:18:04.029098Z",
     "iopub.status.idle": "2022-01-30T23:18:04.334639Z",
     "shell.execute_reply": "2022-01-30T23:18:04.333713Z",
     "shell.execute_reply.started": "2022-01-30T23:18:04.029887Z"
    }
   },
   "outputs": [],
   "source": [
    "result = model.predict(target_padded)"
   ]
  },
  {
   "cell_type": "code",
   "execution_count": 58,
   "metadata": {
    "execution": {
     "iopub.execute_input": "2022-01-30T23:22:49.050349Z",
     "iopub.status.busy": "2022-01-30T23:22:49.05002Z",
     "iopub.status.idle": "2022-01-30T23:22:49.055466Z",
     "shell.execute_reply": "2022-01-30T23:22:49.054603Z",
     "shell.execute_reply.started": "2022-01-30T23:22:49.050317Z"
    }
   },
   "outputs": [],
   "source": [
    "target['score'] = result"
   ]
  },
  {
   "cell_type": "code",
   "execution_count": 59,
   "metadata": {
    "execution": {
     "iopub.execute_input": "2022-01-30T23:23:39.30864Z",
     "iopub.status.busy": "2022-01-30T23:23:39.30834Z",
     "iopub.status.idle": "2022-01-30T23:23:39.312986Z",
     "shell.execute_reply": "2022-01-30T23:23:39.312062Z",
     "shell.execute_reply.started": "2022-01-30T23:23:39.30861Z"
    }
   },
   "outputs": [],
   "source": [
    "from scipy.stats import rankdata"
   ]
  },
  {
   "cell_type": "code",
   "execution_count": 60,
   "metadata": {
    "execution": {
     "iopub.execute_input": "2022-01-30T23:23:41.968279Z",
     "iopub.status.busy": "2022-01-30T23:23:41.967617Z",
     "iopub.status.idle": "2022-01-30T23:23:41.974921Z",
     "shell.execute_reply": "2022-01-30T23:23:41.974313Z",
     "shell.execute_reply.started": "2022-01-30T23:23:41.968208Z"
    }
   },
   "outputs": [],
   "source": [
    "target['score']= rankdata( target['score'], method='ordinal') "
   ]
  },
  {
   "cell_type": "code",
   "execution_count": 61,
   "metadata": {
    "execution": {
     "iopub.execute_input": "2022-01-30T23:24:05.771437Z",
     "iopub.status.busy": "2022-01-30T23:24:05.77114Z",
     "iopub.status.idle": "2022-01-30T23:24:05.793992Z",
     "shell.execute_reply": "2022-01-30T23:24:05.793331Z",
     "shell.execute_reply.started": "2022-01-30T23:24:05.771406Z"
    }
   },
   "outputs": [],
   "source": [
    "target[['comment_id','score']].to_csv('submission.csv', index=False)"
   ]
  }
 ],
 "metadata": {
  "kernelspec": {
   "display_name": "Python 3",
   "language": "python",
   "name": "python3"
  },
  "language_info": {
   "codemirror_mode": {
    "name": "ipython",
    "version": 3
   },
   "file_extension": ".py",
   "mimetype": "text/x-python",
   "name": "python",
   "nbconvert_exporter": "python",
   "pygments_lexer": "ipython3",
   "version": "3.8.8"
  }
 },
 "nbformat": 4,
 "nbformat_minor": 4
}
